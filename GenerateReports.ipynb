{
 "cells": [
  {
   "cell_type": "code",
   "execution_count": 1,
   "metadata": {},
   "outputs": [
    {
     "name": "stderr",
     "output_type": "stream",
     "text": [
      "Using TensorFlow backend.\n"
     ]
    }
   ],
   "source": [
    "%matplotlib inline\n",
    "from StringProcessing import StringProcessing\n",
    "from BuildVocabulary import BuildVocabulary as bv\n",
    "from TransformerEncoder import TransformerEncoder\n",
    "from keras.utils.np_utils import to_categorical\n",
    "from keras.callbacks import ModelCheckpoint\n",
    "from nltk.tokenize.toktok import ToktokTokenizer\n",
    "from Visualization import Visualization\n",
    "from gensim.models import Word2Vec\n",
    "from Preprocess import Preprocess\n",
    "from Utils import Utils\n",
    "from sklearn.metrics import accuracy_score, f1_score, precision_score, recall_score, confusion_matrix, classification_report\n",
    "import numpy as np"
   ]
  },
  {
   "cell_type": "markdown",
   "metadata": {},
   "source": [
    "# Parameters"
   ]
  },
  {
   "cell_type": "code",
   "execution_count": 351,
   "metadata": {},
   "outputs": [],
   "source": [
    "# Text parameters #\n",
    "max_words = 50\n",
    "test_path = \"./tass-corpus/es/train.csv\" # Dev\n",
    "\n",
    "# Training Parameters #\n",
    "path_model = \"./best-models/transformer_1648NO.hdf5\"\n",
    "r_cats = {0:\"N\", 1:\"NEU\", 2:\"NONE\", 3:\"P\"}\n",
    "tokenizer = ToktokTokenizer()\n",
    "w2v_path = \"./twitter87/twitter87.model\"\n",
    "w2v = Word2Vec.load(w2v_path)\n",
    "\n",
    "# Encoder Parameters # # MEJOR\n",
    "dropout_input = 0.7 #0.7\n",
    "dropout_output = 0. # 0.\n",
    "pe = False #False\n",
    "embedding_dims = w2v.vector_size\n",
    "n_encoders = 1 #2 #1\n",
    "attention_dims = 64 #32 #64\n",
    "n_heads = 8 #8\n",
    "dim_h = 128 #256\n",
    "final_h = False #False\n",
    "pool_mode = \"average\" #\"average\"\n",
    "\n",
    "output_encoder_dims = [embedding_dims for i in range(n_encoders)]\n",
    "attention_dims = [attention_dims for i in range(n_encoders)]\n",
    "n_heads = [n_heads for i in range(n_encoders)]"
   ]
  },
  {
   "cell_type": "markdown",
   "metadata": {},
   "source": [
    "# Prepare inputs #"
   ]
  },
  {
   "cell_type": "code",
   "execution_count": 352,
   "metadata": {},
   "outputs": [],
   "source": [
    "ids_dv, x_dv, y_dv = StringProcessing.load_samples(test_path)\n",
    "\n",
    "# Preprocess #\n",
    "x_dv = [Preprocess.preprocess(x, tokenizer) for x in x_dv]\n",
    "\n",
    "# Represent #\n",
    "rx_dv = np.array(StringProcessing.represent_documents(x_dv, max_words, embedding_dims, w2v, word_delimiter = \" \"))\n",
    "\n",
    "# Masks #\n",
    "masks_dv = np.array([((rx!=0).sum(axis=1)>0).astype(\"int\") for rx in rx_dv])\n",
    "\n",
    "# Positional Encodings #\n",
    "matrix_pos_encodings = Utils.precompute_sent_pos_encodings(max_words, embedding_dims)\n",
    "pe_dv = np.array([Utils.build_pe_sent_encodings(matrix_pos_encodings, m) for m in masks_dv])"
   ]
  },
  {
   "cell_type": "markdown",
   "metadata": {},
   "source": [
    "# Load model"
   ]
  },
  {
   "cell_type": "code",
   "execution_count": 353,
   "metadata": {},
   "outputs": [
    {
     "name": "stdout",
     "output_type": "stream",
     "text": [
      "__________________________________________________________________________________________________\n",
      "Layer (type)                    Output Shape         Param #     Connected to                     \n",
      "==================================================================================================\n",
      "input_10 (InputLayer)           (None, 50, 300)      0                                            \n",
      "__________________________________________________________________________________________________\n",
      "my_masking_7 (MyMasking)        (None, 50, 300)      0           input_10[0][0]                   \n",
      "__________________________________________________________________________________________________\n",
      "spatial_dropout1d_4 (SpatialDro (None, 50, 300)      0           my_masking_7[0][0]               \n",
      "__________________________________________________________________________________________________\n",
      "sentence_encoder_block_4 (Sente [(None, 50, 300), (N 795600      spatial_dropout1d_4[0][0]        \n",
      "__________________________________________________________________________________________________\n",
      "lambda_7 (Lambda)               (None, 50, 300)      0           sentence_encoder_block_4[0][0]   \n",
      "                                                                 sentence_encoder_block_4[0][1]   \n",
      "__________________________________________________________________________________________________\n",
      "my_masking_8 (MyMasking)        (None, 50, 300)      0           lambda_7[0][0]                   \n",
      "__________________________________________________________________________________________________\n",
      "global_average_pooling1d_4 (Glo (None, 300)          0           my_masking_8[0][0]               \n",
      "__________________________________________________________________________________________________\n",
      "layer_normalization_8 (LayerNor (None, 300)          600         global_average_pooling1d_4[0][0] \n",
      "__________________________________________________________________________________________________\n",
      "dense_12 (Dense)                (None, 4)            1204        layer_normalization_8[0][0]      \n",
      "==================================================================================================\n",
      "Total params: 797,404\n",
      "Trainable params: 797,404\n",
      "Non-trainable params: 0\n",
      "__________________________________________________________________________________________________\n",
      "None\n"
     ]
    }
   ],
   "source": [
    "ht = TransformerEncoder(max_words = max_words,\n",
    "                 embedding_dims = embedding_dims,\n",
    "                 output_encoder_dims = output_encoder_dims,\n",
    "                 attention_dims = attention_dims,\n",
    "                 n_heads = n_heads,\n",
    "                 dropout_input = dropout_input,\n",
    "                 dropout_output = dropout_output,\n",
    "                 pe = pe,\n",
    "                 dim_h = dim_h,\n",
    "                 final_h = final_h,\n",
    "                 pool_mode = pool_mode)\n",
    "\n",
    "ht.build()\n",
    "print(ht.model.summary())\n",
    "ht.compile(ht.model)\n",
    "ht.load(ht.model, path_model)"
   ]
  },
  {
   "cell_type": "markdown",
   "metadata": {},
   "source": [
    "# Predict"
   ]
  },
  {
   "cell_type": "code",
   "execution_count": 354,
   "metadata": {},
   "outputs": [
    {
     "name": "stdout",
     "output_type": "stream",
     "text": [
      "Acc: 0.798222\n",
      "MF1: 0.769826\n",
      "MP: 0.759095\n",
      "MR: 0.786182\n",
      "Conf Matrix\n",
      " [[391  45  17  21]\n",
      " [ 32  89   4  15]\n",
      " [  6   2 142   7]\n",
      " [ 29  31  18 276]]\n",
      "Classification Report\n",
      "               precision    recall  f1-score   support\n",
      "\n",
      "           N       0.85      0.82      0.84       474\n",
      "         NEU       0.53      0.64      0.58       140\n",
      "        NONE       0.78      0.90      0.84       157\n",
      "           P       0.87      0.78      0.82       354\n",
      "\n",
      "   micro avg       0.80      0.80      0.80      1125\n",
      "   macro avg       0.76      0.79      0.77      1125\n",
      "weighted avg       0.81      0.80      0.80      1125\n",
      "\n"
     ]
    }
   ],
   "source": [
    "preds = ht.model.predict([rx_dv, masks_dv, pe_dv], batch_size=256)\n",
    "preds = [r_cats[p.argmax()] for p in preds]\n",
    "truths = y_dv\n",
    "print(\"Acc: %f\" % accuracy_score(truths, preds))\n",
    "print(\"MF1: %f\" % f1_score(truths, preds, average=\"macro\"))\n",
    "print(\"MP: %f\" % precision_score(truths, preds, average=\"macro\"))\n",
    "print(\"MR: %f\" % recall_score(truths, preds, average=\"macro\"))\n",
    "print(\"Conf Matrix\\n\", confusion_matrix(truths, preds))\n",
    "print(\"Classification Report\\n\", classification_report(truths, preds))"
   ]
  },
  {
   "cell_type": "markdown",
   "metadata": {},
   "source": [
    "# Save Prediction Report"
   ]
  },
  {
   "cell_type": "code",
   "execution_count": 355,
   "metadata": {},
   "outputs": [],
   "source": [
    "# Guarda un csv (texto, real, prediccion)\n",
    "fw = open(\"results_report.csv\", \"w\", encoding=\"utf8\")\n",
    "for i in range(len(preds)):\n",
    "    fw.write(x_dv[i] + \"\\t\" + truths[i] + \"\\t\" + preds[i] + \"\\n\")\n",
    "fw.close()"
   ]
  },
  {
   "cell_type": "markdown",
   "metadata": {},
   "source": [
    "# Get Attention Report"
   ]
  },
  {
   "cell_type": "code",
   "execution_count": 356,
   "metadata": {},
   "outputs": [],
   "source": [
    "attns = ht.attn_model.predict([rx_dv, masks_dv, pe_dv], batch_size=256)"
   ]
  },
  {
   "cell_type": "markdown",
   "metadata": {},
   "source": [
    "## Preds"
   ]
  },
  {
   "cell_type": "code",
   "execution_count": 357,
   "metadata": {},
   "outputs": [],
   "source": [
    "# Palabra : {cabezal : {P:0, N:0, NEU:}}\n",
    "word_attns = {}\n",
    "counters = {}\n",
    "for i in range(len(x_dv)):\n",
    "    attns_i = attns[i]\n",
    "    pred = preds[i]\n",
    "    l_words = x_dv[i].split()\n",
    "    pad = 0\n",
    "    \n",
    "    while len(l_words) < max_words:\n",
    "        l_words.insert(0, \"<pad>\")\n",
    "        pad += 1\n",
    "    l_words = l_words[pad:]\n",
    "    attns_i = attns_i[:, pad:, pad:]\n",
    "    attns_i = attns_i.sum(axis=1)          \n",
    "    ll_words = len(l_words)\n",
    "    \n",
    "    for j in range(ll_words):\n",
    "        word = l_words[j]\n",
    "        if word not in word_attns:\n",
    "            word_attns[word] = {}\n",
    "            counters[word] = {}\n",
    "            \n",
    "        for h in range(len(attns_i)):\n",
    "            if h not in word_attns[word]:\n",
    "                word_attns[word][h] = {\"N\":0., \"NEU\":0., \"NONE\":0., \"P\":0.}\n",
    "                counters[word][h] = {\"N\":0., \"NEU\":0., \"NONE\":0., \"P\":0.}\n",
    "\n",
    "            word_attns[word][h][pred] += (attns_i[h][j] / ll_words) # Normalizar por el nº de palabras a las que atiende\n",
    "            counters[word][h][pred] += 1.\n",
    "\n",
    "# Normalizar por el nº de muestras\n",
    "for w in word_attns:\n",
    "    for h in word_attns[w]:\n",
    "        for c in word_attns[w][h]:\n",
    "            word_attns[w][h][c] /= (counters[w][h][c] + 1e-16) #len(x_dv)      "
   ]
  },
  {
   "cell_type": "code",
   "execution_count": 358,
   "metadata": {},
   "outputs": [
    {
     "data": {
      "text/plain": [
       "{0: {'N': 0.0641930145238127, 'NEU': 0.0, 'NONE': 0.0, 'P': 0.0},\n",
       " 1: {'N': 0.5142942893618629, 'NEU': 0.0, 'NONE': 0.0, 'P': 0.0},\n",
       " 2: {'N': 0.005693170015411896, 'NEU': 0.0, 'NONE': 0.0, 'P': 0.0},\n",
       " 3: {'N': 0.7772578486487979, 'NEU': 0.0, 'NONE': 0.0, 'P': 0.0},\n",
       " 4: {'N': 0.002285209576022767, 'NEU': 0.0, 'NONE': 0.0, 'P': 0.0},\n",
       " 5: {'N': 0.11674678361291686, 'NEU': 0.0, 'NONE': 0.0, 'P': 0.0},\n",
       " 6: {'N': 0.4203800996144613, 'NEU': 0.0, 'NONE': 0.0, 'P': 0.0},\n",
       " 7: {'N': 0.003818231185340181, 'NEU': 0.0, 'NONE': 0.0, 'P': 0.0}}"
      ]
     },
     "execution_count": 358,
     "metadata": {},
     "output_type": "execute_result"
    }
   ],
   "source": [
    "word_attns[\"mierda\"]"
   ]
  },
  {
   "cell_type": "markdown",
   "metadata": {},
   "source": [
    "## Truths"
   ]
  },
  {
   "cell_type": "code",
   "execution_count": 359,
   "metadata": {},
   "outputs": [],
   "source": [
    "# Palabra : {cabezal : {P:0, N:0, NEU:}}\n",
    "word_attns = {}\n",
    "counters = {}\n",
    "for i in range(len(x_dv)):\n",
    "    attns_i = attns[i]\n",
    "    pred = truths[i]\n",
    "    l_words = x_dv[i].split()\n",
    "    pad = 0\n",
    "    \n",
    "    while len(l_words) < max_words:\n",
    "        l_words.insert(0, \"<pad>\")\n",
    "        pad += 1\n",
    "    l_words = l_words[pad:]\n",
    "    attns_i = attns_i[:, pad:, pad:]\n",
    "    attns_i = attns_i.sum(axis=1)          \n",
    "    ll_words = len(l_words)\n",
    "    \n",
    "    for j in range(ll_words):\n",
    "        word = l_words[j]\n",
    "        if word not in word_attns:\n",
    "            word_attns[word] = {}\n",
    "            counters[word] = {}\n",
    "            \n",
    "        for h in range(len(attns_i)):\n",
    "            if h not in word_attns[word]:\n",
    "                word_attns[word][h] = {\"N\":0., \"NEU\":0., \"NONE\":0., \"P\":0.}\n",
    "                counters[word][h] = {\"N\":0., \"NEU\":0., \"NONE\":0., \"P\":0.}\n",
    "\n",
    "            word_attns[word][h][pred] += (attns_i[h][j] / ll_words) # Normalizar por el nº de palabras a las que atiende\n",
    "            counters[word][h][pred] += 1.\n",
    "\n",
    "# Normalizar por el nº de muestras\n",
    "for w in word_attns:\n",
    "    for h in word_attns[w]:\n",
    "        for c in word_attns[w][h]:\n",
    "            word_attns[w][h][c] /= (counters[w][h][c] + 1e-16) #len(x_dv) "
   ]
  },
  {
   "cell_type": "code",
   "execution_count": 360,
   "metadata": {},
   "outputs": [
    {
     "data": {
      "text/plain": [
       "{0: {'N': 0.0641930145238127, 'NEU': 0.0, 'NONE': 0.0, 'P': 0.0},\n",
       " 1: {'N': 0.5142942893618629, 'NEU': 0.0, 'NONE': 0.0, 'P': 0.0},\n",
       " 2: {'N': 0.005693170015411896, 'NEU': 0.0, 'NONE': 0.0, 'P': 0.0},\n",
       " 3: {'N': 0.7772578486487979, 'NEU': 0.0, 'NONE': 0.0, 'P': 0.0},\n",
       " 4: {'N': 0.002285209576022767, 'NEU': 0.0, 'NONE': 0.0, 'P': 0.0},\n",
       " 5: {'N': 0.11674678361291686, 'NEU': 0.0, 'NONE': 0.0, 'P': 0.0},\n",
       " 6: {'N': 0.4203800996144613, 'NEU': 0.0, 'NONE': 0.0, 'P': 0.0},\n",
       " 7: {'N': 0.003818231185340181, 'NEU': 0.0, 'NONE': 0.0, 'P': 0.0}}"
      ]
     },
     "execution_count": 360,
     "metadata": {},
     "output_type": "execute_result"
    }
   ],
   "source": [
    "word_attns[\"mierda\"]"
   ]
  },
  {
   "cell_type": "markdown",
   "metadata": {},
   "source": [
    "## All classes (creo que este es el análisis bueno, más que por cada clase)"
   ]
  },
  {
   "cell_type": "code",
   "execution_count": 361,
   "metadata": {},
   "outputs": [],
   "source": [
    "# Palabra : {cabezal : }\n",
    "\n",
    "word_attns = {}\n",
    "counters = {}\n",
    "for i in range(len(x_dv)):\n",
    "    attns_i = attns[i]\n",
    "    pred = truths[i]\n",
    "    l_words = x_dv[i].split()\n",
    "    pad = 0\n",
    "    \n",
    "    while len(l_words) < max_words:\n",
    "        l_words.insert(0, \"<pad>\")\n",
    "        pad += 1\n",
    "    l_words = l_words[pad:]\n",
    "    attns_i = attns_i[:, pad:, pad:]\n",
    "    attns_i = attns_i.sum(axis=1)          \n",
    "    ll_words = len(l_words)\n",
    "    \n",
    "    for j in range(ll_words):\n",
    "        word = l_words[j]\n",
    "        if word not in word_attns:\n",
    "            word_attns[word] = {}\n",
    "            counters[word] = {}\n",
    "            \n",
    "        for h in range(len(attns_i)):\n",
    "            if h not in word_attns[word]:\n",
    "                word_attns[word][h] = 0.\n",
    "                counters[word][h] = 0.\n",
    "\n",
    "            word_attns[word][h] += (attns_i[h][j] / ll_words) # Normalizar por el nº de palabras a las que atiende\n",
    "            counters[word][h] += 1.\n",
    "\n",
    "# Normalizar por el nº de muestras\n",
    "for w in word_attns:\n",
    "    for h in word_attns[w]:\n",
    "        word_attns[w][h] /= (counters[w][h] + 1e-16) #len(x_dv) "
   ]
  },
  {
   "cell_type": "code",
   "execution_count": 362,
   "metadata": {},
   "outputs": [
    {
     "data": {
      "text/plain": [
       "{0: 0.0641930145238127,\n",
       " 1: 0.5142942893618629,\n",
       " 2: 0.005693170015411896,\n",
       " 3: 0.7772578486487979,\n",
       " 4: 0.002285209576022767,\n",
       " 5: 0.11674678361291686,\n",
       " 6: 0.4203800996144613,\n",
       " 7: 0.003818231185340181}"
      ]
     },
     "execution_count": 362,
     "metadata": {},
     "output_type": "execute_result"
    }
   ],
   "source": [
    "word_attns[\"mierda\"]"
   ]
  },
  {
   "cell_type": "code",
   "execution_count": 363,
   "metadata": {},
   "outputs": [
    {
     "data": {
      "text/plain": [
       "{0: 0.015563593221086478,\n",
       " 1: 0.38862860820412615,\n",
       " 2: 0.6205552190616562,\n",
       " 3: 0.053297064739706704,\n",
       " 4: 0.918239009011053,\n",
       " 5: 0.0852130642407086,\n",
       " 6: 0.007947014442553805,\n",
       " 7: 0.00038073882330150747}"
      ]
     },
     "execution_count": 363,
     "metadata": {},
     "output_type": "execute_result"
    }
   ],
   "source": [
    "word_attns[\"genial\"]"
   ]
  },
  {
   "cell_type": "code",
   "execution_count": 364,
   "metadata": {},
   "outputs": [
    {
     "data": {
      "text/plain": [
       "{0: 0.00021869257876747534,\n",
       " 1: 0.10450488642642372,\n",
       " 2: 3.9265119324370874e-07,\n",
       " 3: 0.8286937412462736,\n",
       " 4: 0.00010112562756005086,\n",
       " 5: 0.25090912768715307,\n",
       " 6: 0.013408326788952476,\n",
       " 7: 0.0022496757538695085}"
      ]
     },
     "execution_count": 364,
     "metadata": {},
     "output_type": "execute_result"
    }
   ],
   "source": [
    "word_attns[\"horrible\"]"
   ]
  },
  {
   "cell_type": "code",
   "execution_count": 365,
   "metadata": {},
   "outputs": [
    {
     "data": {
      "text/plain": [
       "{0: 7.981251988221393e-06,\n",
       " 1: 0.8076121846318761,\n",
       " 2: 0.7954747714693585,\n",
       " 3: 0.3071372515066362,\n",
       " 4: 0.948929572690273,\n",
       " 5: 0.3581466739483898,\n",
       " 6: 9.350472049331387e-05,\n",
       " 7: 0.042206597035997016}"
      ]
     },
     "execution_count": 365,
     "metadata": {},
     "output_type": "execute_result"
    }
   ],
   "source": [
    "word_attns[\"maravilloso\"]"
   ]
  },
  {
   "cell_type": "code",
   "execution_count": 366,
   "metadata": {},
   "outputs": [
    {
     "data": {
      "text/plain": [
       "{0: 0.06091243339896137,\n",
       " 1: 0.4666085839755733,\n",
       " 2: 0.00011378889904308313,\n",
       " 3: 0.8172337710779932,\n",
       " 4: 0.007513131989782943,\n",
       " 5: 0.8454424440865173,\n",
       " 6: 0.5558768207887681,\n",
       " 7: 0.0031165914805845536}"
      ]
     },
     "execution_count": 366,
     "metadata": {},
     "output_type": "execute_result"
    }
   ],
   "source": [
    "word_attns[\"peor\"]"
   ]
  },
  {
   "cell_type": "code",
   "execution_count": 367,
   "metadata": {},
   "outputs": [
    {
     "data": {
      "text/plain": [
       "{0: 0.0002683526890947338,\n",
       " 1: 0.5844093804192577,\n",
       " 2: 0.2345553911233275,\n",
       " 3: 0.0011864833286112611,\n",
       " 4: 0.6156286451331922,\n",
       " 5: 0.032815530019953125,\n",
       " 6: 9.233125292887603e-08,\n",
       " 7: 0.0004975195591626946}"
      ]
     },
     "execution_count": 367,
     "metadata": {},
     "output_type": "execute_result"
    }
   ],
   "source": [
    "word_attns[\"amor\"]"
   ]
  },
  {
   "cell_type": "code",
   "execution_count": 368,
   "metadata": {},
   "outputs": [
    {
     "data": {
      "text/plain": [
       "{0: 0.05265140129392549,\n",
       " 1: 0.89982311841346,\n",
       " 2: 0.0017898519399225296,\n",
       " 3: 0.9647921250270224,\n",
       " 4: 0.1831041657811708,\n",
       " 5: 0.8598009052071678,\n",
       " 6: 0.007780205832533159,\n",
       " 7: 0.004799559063283734}"
      ]
     },
     "execution_count": 368,
     "metadata": {},
     "output_type": "execute_result"
    }
   ],
   "source": [
    "word_attns[\"odio\"]"
   ]
  },
  {
   "cell_type": "markdown",
   "metadata": {},
   "source": [
    "Parece que el cabezal 3 reacciona mucho con palabras negativas y poco a las positivas; y el cabezal 4 justo al contrario"
   ]
  },
  {
   "cell_type": "markdown",
   "metadata": {},
   "source": [
    "# Attns Visualization"
   ]
  },
  {
   "cell_type": "code",
   "execution_count": 369,
   "metadata": {},
   "outputs": [],
   "source": [
    "n = 40\n",
    "attns_i = attns[n]\n",
    "l_words = x_dv[n].split()\n",
    "\n",
    "pad = 0\n",
    "while len(l_words) < max_words:\n",
    "    l_words.insert(0, \"<pad>\")\n",
    "    pad += 1\n",
    "l_words = l_words[pad:]\n",
    "attns_i = attns_i[:, pad:, pad:]\n",
    "attns_h_3 = attns_i[3]\n",
    "attns_h_4 = attns_i[4]"
   ]
  },
  {
   "cell_type": "code",
   "execution_count": 370,
   "metadata": {},
   "outputs": [
    {
     "name": "stdout",
     "output_type": "stream",
     "text": [
      "yo me cago en los muertos de todas las bacterias malignas de mi garganta .\n"
     ]
    }
   ],
   "source": [
    "print(x_dv[n])"
   ]
  },
  {
   "cell_type": "code",
   "execution_count": 371,
   "metadata": {},
   "outputs": [
    {
     "data": {
      "image/png": "[encoded data removed]",
      "text/plain": [
       "<Figure size 2160x2160 with 1 Axes>"
      ]
     },
     "metadata": {
      "needs_background": "light"
     },
     "output_type": "display_data"
    }
   ],
   "source": [
    "# Cabezal 3, parece captar negativos\n",
    "Visualization.visualize_attentions(attns_h_3, 30, 30, rows=1, columns=1, ticks=l_words, output_file=None,\n",
    "                                   save=False)"
   ]
  },
  {
   "cell_type": "code",
   "execution_count": 372,
   "metadata": {},
   "outputs": [
    {
     "data": {
      "image/png": "[encoded data removed]",
      "text/plain": [
       "<Figure size 2160x2160 with 1 Axes>"
      ]
     },
     "metadata": {
      "needs_background": "light"
     },
     "output_type": "display_data"
    }
   ],
   "source": [
    "# Cabezal 4, parece captar positivos\n",
    "Visualization.visualize_attentions(attns_h_4, 30, 30, rows=1, columns=1, ticks=l_words, output_file=None,\n",
    "                                   save=False)"
   ]
  },
  {
   "cell_type": "markdown",
   "metadata": {},
   "source": [
    "# Análisis con un lexicon"
   ]
  },
  {
   "cell_type": "code",
   "execution_count": 373,
   "metadata": {},
   "outputs": [],
   "source": [
    "import unicodedata as uc\n",
    "\n",
    "def remove_accents(sequence):\n",
    "    return \"\".join([c for c in uc.normalize('NFD', sequence) if uc.category(c) != 'Mn'])"
   ]
  },
  {
   "cell_type": "code",
   "execution_count": 374,
   "metadata": {},
   "outputs": [],
   "source": [
    "lex = open(\"./lexicons/elhuyar.txt\", \"r\", encoding=\"utf8\")\n",
    "llex = []\n",
    "for line in lex.readlines():\n",
    "    s = line.strip().split(\"\\t\")\n",
    "    if len(s)>1:\n",
    "        word, tag = s[0], s[1]\n",
    "        if \"_\" not in word and \"-\" not in word:\n",
    "            word = remove_accents(word.replace(\"ñ\", \"ny\"))\n",
    "            llex.append((word, tag))\n",
    "lex.close()"
   ]
  },
  {
   "cell_type": "code",
   "execution_count": 375,
   "metadata": {},
   "outputs": [],
   "source": [
    "fw = open(\"attentions_elhuyar.out\", \"w\", encoding=\"utf8\")\n",
    "for (word, tag) in llex:\n",
    "    if word in word_attns:\n",
    "        fw.write(word + \"\\n\")\n",
    "        for h in word_attns[word]:\n",
    "            fw.write(\"Header %d: %.4f\\n\" % (h, word_attns[word][h]))\n",
    "        fw.write(\"\\n\\n\" + \"-\"*50 + \"\\n\\n\")\n",
    "fw.close()"
   ]
  },
  {
   "cell_type": "markdown",
   "metadata": {},
   "source": [
    "### Buscar los cabezales que maximizan su valor de atención sobre un lexicon supervisado en español (Elhuyar de ejemplo) #"
   ]
  },
  {
   "cell_type": "code",
   "execution_count": 376,
   "metadata": {},
   "outputs": [],
   "source": [
    "positive_words = [word for (word, tag) in llex if tag == \"positive\"]\n",
    "negative_words = [word for (word, tag) in llex if tag == \"negative\"]"
   ]
  },
  {
   "cell_type": "code",
   "execution_count": 377,
   "metadata": {},
   "outputs": [],
   "source": [
    "sum_attns_positive = np.array([0. for i in range(len(word_attns[\"de\"]))])\n",
    "counts = 0.\n",
    "\n",
    "for word in positive_words:\n",
    "    if word in word_attns:\n",
    "        w_attns = word_attns[word]\n",
    "        h_attns = np.array([word_attns[word][h] for h in word_attns[word]])\n",
    "        sum_attns_positive += h_attns\n",
    "        counts += 1.\n",
    "        \n",
    "sum_attns_positive /= counts"
   ]
  },
  {
   "cell_type": "code",
   "execution_count": 378,
   "metadata": {},
   "outputs": [
    {
     "data": {
      "text/plain": [
       "array([0.03588781, 0.19682402, 0.24214632, 0.1222656 , 0.27620932,\n",
       "       0.09831521, 0.07431453, 0.02675657])"
      ]
     },
     "execution_count": 378,
     "metadata": {},
     "output_type": "execute_result"
    }
   ],
   "source": [
    "sum_attns_positive"
   ]
  },
  {
   "cell_type": "code",
   "execution_count": 379,
   "metadata": {},
   "outputs": [
    {
     "name": "stdout",
     "output_type": "stream",
     "text": [
      "Best header positive: 4\n"
     ]
    }
   ],
   "source": [
    "print(\"Best header positive: %d\" % sum_attns_positive.argmax())"
   ]
  },
  {
   "cell_type": "code",
   "execution_count": 380,
   "metadata": {},
   "outputs": [],
   "source": [
    "sum_attns_negative = np.array([0. for i in range(len(word_attns[\"de\"]))])\n",
    "counts = 0.\n",
    "\n",
    "for word in negative_words:\n",
    "    if word in word_attns:\n",
    "        w_attns = word_attns[word]\n",
    "        h_attns = np.array([word_attns[word][h] for h in word_attns[word]])\n",
    "        sum_attns_negative += h_attns\n",
    "        counts += 1.\n",
    "        \n",
    "sum_attns_negative /= counts"
   ]
  },
  {
   "cell_type": "code",
   "execution_count": 381,
   "metadata": {},
   "outputs": [
    {
     "data": {
      "text/plain": [
       "array([0.06401296, 0.16549543, 0.15630745, 0.420905  , 0.0435324 ,\n",
       "       0.292466  , 0.16695802, 0.03111334])"
      ]
     },
     "execution_count": 381,
     "metadata": {},
     "output_type": "execute_result"
    }
   ],
   "source": [
    "sum_attns_negative"
   ]
  },
  {
   "cell_type": "code",
   "execution_count": 382,
   "metadata": {},
   "outputs": [
    {
     "name": "stdout",
     "output_type": "stream",
     "text": [
      "Best header negative: 3\n"
     ]
    }
   ],
   "source": [
    "print(\"Best header negative: %d\" % sum_attns_negative.argmax())"
   ]
  },
  {
   "cell_type": "markdown",
   "metadata": {},
   "source": [
    "### Clasificar el lexicon usando los cabezales 3 y 4 (75% Acc)"
   ]
  },
  {
   "cell_type": "code",
   "execution_count": 383,
   "metadata": {},
   "outputs": [
    {
     "name": "stdout",
     "output_type": "stream",
     "text": [
      "Acc: 72.3127%\n"
     ]
    }
   ],
   "source": [
    "n_errors = 0.\n",
    "n_words = 0.\n",
    "\n",
    "for (word, tag) in llex:\n",
    "    if word in word_attns:\n",
    "        heads = word_attns[word]\n",
    "        if heads[3] > heads[4]:\n",
    "            pred = \"negative\"\n",
    "        else:\n",
    "            pred = \"positive\"\n",
    "        \n",
    "        if pred != tag:\n",
    "            n_errors += 1\n",
    "            \n",
    "        n_words += 1.\n",
    "        \n",
    "print(\"Acc: %.4f%%\" % ((1. - ((n_errors / n_words))) * 100))"
   ]
  },
  {
   "cell_type": "markdown",
   "metadata": {},
   "source": [
    "# Buscar cabezales que encuentren la negación"
   ]
  },
  {
   "cell_type": "code",
   "execution_count": 384,
   "metadata": {},
   "outputs": [
    {
     "data": {
      "text/plain": [
       "{0: 0.5862150068564929,\n",
       " 1: 0.1115538347181979,\n",
       " 2: 0.03182720329866512,\n",
       " 3: 3.8870710803736697e-05,\n",
       " 4: 0.0008983049280324647,\n",
       " 5: 0.00043905286197693167,\n",
       " 6: 0.33562008160401746,\n",
       " 7: 0.05715296737549685}"
      ]
     },
     "execution_count": 384,
     "metadata": {},
     "output_type": "execute_result"
    }
   ],
   "source": [
    "word_attns[\"no\"]"
   ]
  },
  {
   "cell_type": "code",
   "execution_count": 385,
   "metadata": {},
   "outputs": [
    {
     "data": {
      "text/plain": [
       "{0: 0.042637915283393245,\n",
       " 1: 0.0007632901139980088,\n",
       " 2: 0.0001109618878351867,\n",
       " 3: 2.042149359226152e-05,\n",
       " 4: 0.00012774999011417207,\n",
       " 5: 0.00018677316385010666,\n",
       " 6: 0.11917865274567499,\n",
       " 7: 0.09093342260860507}"
      ]
     },
     "execution_count": 385,
     "metadata": {},
     "output_type": "execute_result"
    }
   ],
   "source": [
    "word_attns[\"ni\"]"
   ]
  },
  {
   "cell_type": "code",
   "execution_count": 386,
   "metadata": {},
   "outputs": [
    {
     "data": {
      "text/plain": [
       "{0: 0.6021199534968926,\n",
       " 1: 0.2865308556424445,\n",
       " 2: 0.07173275479766755,\n",
       " 3: 7.13049234563195e-05,\n",
       " 4: 0.00022505090735440255,\n",
       " 5: 0.0826556985228488,\n",
       " 6: 0.12988290893884272,\n",
       " 7: 0.22615047167882263}"
      ]
     },
     "execution_count": 386,
     "metadata": {},
     "output_type": "execute_result"
    }
   ],
   "source": [
    "word_attns[\"nunca\"]"
   ]
  },
  {
   "cell_type": "code",
   "execution_count": 387,
   "metadata": {},
   "outputs": [
    {
     "data": {
      "text/plain": [
       "{0: 0.2940266061174666,\n",
       " 1: 0.1007998243628293,\n",
       " 2: 0.08725988318794962,\n",
       " 3: 8.471598091290169e-05,\n",
       " 4: 0.00011659768452576185,\n",
       " 5: 0.0010361335040543801,\n",
       " 6: 0.05574300928940526,\n",
       " 7: 0.17345328882340352}"
      ]
     },
     "execution_count": 387,
     "metadata": {},
     "output_type": "execute_result"
    }
   ],
   "source": [
    "word_attns[\"nada\"]"
   ]
  },
  {
   "cell_type": "code",
   "execution_count": 388,
   "metadata": {},
   "outputs": [
    {
     "data": {
      "text/plain": [
       "{0: 0.18370533708965517,\n",
       " 1: 0.0024565690765691955,\n",
       " 2: 0.006173396305728012,\n",
       " 3: 0.00015874200649223927,\n",
       " 4: 9.315072828310051e-05,\n",
       " 5: 6.407740946314541e-05,\n",
       " 6: 0.11605773287743675,\n",
       " 7: 0.0001867578636300786}"
      ]
     },
     "execution_count": 388,
     "metadata": {},
     "output_type": "execute_result"
    }
   ],
   "source": [
    "word_attns[\"nadie\"]"
   ]
  },
  {
   "cell_type": "code",
   "execution_count": 389,
   "metadata": {},
   "outputs": [
    {
     "data": {
      "text/plain": [
       "{0: 0.017423178553581237,\n",
       " 1: 0.00013880841201171278,\n",
       " 2: 0.15787865012884142,\n",
       " 3: 0.008636540625593625,\n",
       " 4: 0.00012660500593483448,\n",
       " 5: 0.00010756368516013026,\n",
       " 6: 0.00914898255839944,\n",
       " 7: 0.0028390205275536573}"
      ]
     },
     "execution_count": 389,
     "metadata": {},
     "output_type": "execute_result"
    }
   ],
   "source": [
    "word_attns[\"ningun\"]"
   ]
  },
  {
   "cell_type": "code",
   "execution_count": 390,
   "metadata": {},
   "outputs": [
    {
     "data": {
      "text/plain": [
       "{0: 0.18427165916987828,\n",
       " 1: 3.343356365803629e-05,\n",
       " 2: 2.0733980120114992e-08,\n",
       " 3: 1.5650769975244267e-07,\n",
       " 4: 0.0003996189750198807,\n",
       " 5: 6.28324892115728e-11,\n",
       " 6: 0.00993659027985164,\n",
       " 7: 8.97447195922853e-12}"
      ]
     },
     "execution_count": 390,
     "metadata": {},
     "output_type": "execute_result"
    }
   ],
   "source": [
    "word_attns[\"ninguna\"]"
   ]
  },
  {
   "cell_type": "code",
   "execution_count": 391,
   "metadata": {},
   "outputs": [
    {
     "data": {
      "text/plain": [
       "{0: 0.20229454613960116,\n",
       " 1: 0.06099839990256197,\n",
       " 2: 5.4078217508439035e-05,\n",
       " 3: 0.0002569961431025295,\n",
       " 4: 6.516424243697817e-05,\n",
       " 5: 0.00023799345014433924,\n",
       " 6: 0.31043479925126327,\n",
       " 7: 0.04887507141735943}"
      ]
     },
     "execution_count": 391,
     "metadata": {},
     "output_type": "execute_result"
    }
   ],
   "source": [
    "word_attns[\"tampoco\"]"
   ]
  },
  {
   "cell_type": "code",
   "execution_count": 392,
   "metadata": {},
   "outputs": [
    {
     "data": {
      "text/plain": [
       "{0: 0.37197374696305346,\n",
       " 1: 1.3586383415208225e-05,\n",
       " 2: 0.01637829358459008,\n",
       " 3: 0.00020401489832117575,\n",
       " 4: 0.0006424439139076217,\n",
       " 5: 1.313526424355311e-05,\n",
       " 6: 0.13700208034404,\n",
       " 7: 0.0023428636185346035}"
      ]
     },
     "execution_count": 392,
     "metadata": {},
     "output_type": "execute_result"
    }
   ],
   "source": [
    "word_attns[\"ninguno\"]"
   ]
  },
  {
   "cell_type": "markdown",
   "metadata": {},
   "source": [
    "El cabezal 0 parece reaccionar a la negación"
   ]
  }
 ],
 "metadata": {
  "kernelspec": {
   "display_name": "Python 3",
   "language": "python",
   "name": "python3"
  },
  "language_info": {
   "codemirror_mode": {
    "name": "ipython",
    "version": 3
   },
   "file_extension": ".py",
   "mimetype": "text/x-python",
   "name": "python",
   "nbconvert_exporter": "python",
   "pygments_lexer": "ipython3",
   "version": "3.7.1"
  }
 },
 "nbformat": 4,
 "nbformat_minor": 2
}
