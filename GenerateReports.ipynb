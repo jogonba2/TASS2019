{
 "cells": [
  {
   "cell_type": "code",
   "execution_count": 1,
   "metadata": {},
   "outputs": [
    {
     "name": "stderr",
     "output_type": "stream",
     "text": [
      "Using TensorFlow backend.\n"
     ]
    }
   ],
   "source": [
    "%matplotlib inline\n",
    "from StringProcessing import StringProcessing\n",
    "from BuildVocabulary import BuildVocabulary as bv\n",
    "from TransformerEncoder import TransformerEncoder\n",
    "from keras.utils.np_utils import to_categorical\n",
    "from keras.callbacks import ModelCheckpoint\n",
    "from nltk.tokenize.toktok import ToktokTokenizer\n",
    "from Visualization import Visualization\n",
    "from gensim.models import Word2Vec\n",
    "from Preprocess import Preprocess\n",
    "from Utils import Utils\n",
    "from sklearn.metrics import accuracy_score, f1_score, precision_score, recall_score, confusion_matrix, classification_report\n",
    "import numpy as np"
   ]
  },
  {
   "cell_type": "markdown",
   "metadata": {},
   "source": [
    "# Parameters"
   ]
  },
  {
   "cell_type": "code",
   "execution_count": 2,
   "metadata": {},
   "outputs": [],
   "source": [
    "# Text parameters #\n",
    "max_words = 50\n",
    "test_path = \"./tass-corpus/es/dev.csv\"\n",
    "\n",
    "# Training Parameters #\n",
    "path_model = \"./best-models/transformer_1648NO.hdf5\"\n",
    "r_cats = {0:\"N\", 1:\"NEU\", 2:\"NONE\", 3:\"P\"}\n",
    "tokenizer = ToktokTokenizer()\n",
    "w2v_path = \"./twitter87/twitter87.model\"\n",
    "w2v = Word2Vec.load(w2v_path)\n",
    "\n",
    "# Encoder Parameters # # MEJOR\n",
    "dropout_input = 0.7 #0.7\n",
    "dropout_output = 0. # 0.\n",
    "pe = False #False\n",
    "embedding_dims = w2v.vector_size\n",
    "n_encoders = 1 #2 #1\n",
    "attention_dims = 64 #32 #64\n",
    "n_heads = 8 #8\n",
    "dim_h = 128 #256\n",
    "final_h = False #False\n",
    "pool_mode = \"average\" #\"average\"\n",
    "\n",
    "output_encoder_dims = [embedding_dims for i in range(n_encoders)]\n",
    "attention_dims = [attention_dims for i in range(n_encoders)]\n",
    "n_heads = [n_heads for i in range(n_encoders)]"
   ]
  },
  {
   "cell_type": "markdown",
   "metadata": {},
   "source": [
    "# Prepare inputs #"
   ]
  },
  {
   "cell_type": "code",
   "execution_count": 3,
   "metadata": {},
   "outputs": [],
   "source": [
    "ids_dv, x_dv, y_dv = StringProcessing.load_samples(test_path)\n",
    "\n",
    "# Preprocess #\n",
    "x_dv = [Preprocess.preprocess(x, tokenizer) for x in x_dv]\n",
    "\n",
    "# Represent #\n",
    "rx_dv = np.array(StringProcessing.represent_documents(x_dv, max_words, embedding_dims, w2v, word_delimiter = \" \"))\n",
    "\n",
    "# Masks #\n",
    "masks_dv = np.array([((rx!=0).sum(axis=1)>0).astype(\"int\") for rx in rx_dv])\n",
    "\n",
    "# Positional Encodings #\n",
    "matrix_pos_encodings = Utils.precompute_sent_pos_encodings(max_words, embedding_dims)\n",
    "pe_dv = np.array([Utils.build_pe_sent_encodings(matrix_pos_encodings, m) for m in masks_dv])"
   ]
  },
  {
   "cell_type": "markdown",
   "metadata": {},
   "source": [
    "# Load model"
   ]
  },
  {
   "cell_type": "code",
   "execution_count": 4,
   "metadata": {},
   "outputs": [
    {
     "name": "stdout",
     "output_type": "stream",
     "text": [
      "WARNING:tensorflow:From C:\\Users\\usuario\\ANACONDA\\lib\\site-packages\\tensorflow\\python\\ops\\control_flow_ops.py:423: colocate_with (from tensorflow.python.framework.ops) is deprecated and will be removed in a future version.\n",
      "Instructions for updating:\n",
      "Colocations handled automatically by placer.\n",
      "WARNING:tensorflow:From C:\\Users\\usuario\\ANACONDA\\lib\\site-packages\\keras\\backend\\tensorflow_backend.py:3445: calling dropout (from tensorflow.python.ops.nn_ops) with keep_prob is deprecated and will be removed in a future version.\n",
      "Instructions for updating:\n",
      "Please use `rate` instead of `keep_prob`. Rate should be set to `rate = 1 - keep_prob`.\n",
      "__________________________________________________________________________________________________\n",
      "Layer (type)                    Output Shape         Param #     Connected to                     \n",
      "==================================================================================================\n",
      "input_1 (InputLayer)            (None, 50, 300)      0                                            \n",
      "__________________________________________________________________________________________________\n",
      "my_masking_1 (MyMasking)        (None, 50, 300)      0           input_1[0][0]                    \n",
      "__________________________________________________________________________________________________\n",
      "spatial_dropout1d_1 (SpatialDro (None, 50, 300)      0           my_masking_1[0][0]               \n",
      "__________________________________________________________________________________________________\n",
      "sentence_encoder_block_1 (Sente [(None, 50, 300), (N 795600      spatial_dropout1d_1[0][0]        \n",
      "__________________________________________________________________________________________________\n",
      "lambda_1 (Lambda)               (None, 50, 300)      0           sentence_encoder_block_1[0][0]   \n",
      "                                                                 sentence_encoder_block_1[0][1]   \n",
      "__________________________________________________________________________________________________\n",
      "my_masking_2 (MyMasking)        (None, 50, 300)      0           lambda_1[0][0]                   \n",
      "__________________________________________________________________________________________________\n",
      "global_average_pooling1d_1 (Glo (None, 300)          0           my_masking_2[0][0]               \n",
      "__________________________________________________________________________________________________\n",
      "layer_normalization_2 (LayerNor (None, 300)          600         global_average_pooling1d_1[0][0] \n",
      "__________________________________________________________________________________________________\n",
      "dense_3 (Dense)                 (None, 4)            1204        layer_normalization_2[0][0]      \n",
      "==================================================================================================\n",
      "Total params: 797,404\n",
      "Trainable params: 797,404\n",
      "Non-trainable params: 0\n",
      "__________________________________________________________________________________________________\n",
      "None\n"
     ]
    }
   ],
   "source": [
    "ht = TransformerEncoder(max_words = max_words,\n",
    "                 embedding_dims = embedding_dims,\n",
    "                 output_encoder_dims = output_encoder_dims,\n",
    "                 attention_dims = attention_dims,\n",
    "                 n_heads = n_heads,\n",
    "                 dropout_input = dropout_input,\n",
    "                 dropout_output = dropout_output,\n",
    "                 pe = pe,\n",
    "                 dim_h = dim_h,\n",
    "                 final_h = final_h,\n",
    "                 pool_mode = pool_mode)\n",
    "\n",
    "ht.build()\n",
    "print(ht.model.summary())\n",
    "ht.compile(ht.model)\n",
    "ht.load(ht.model, path_model)"
   ]
  },
  {
   "cell_type": "markdown",
   "metadata": {},
   "source": [
    "# Predict"
   ]
  },
  {
   "cell_type": "code",
   "execution_count": 5,
   "metadata": {},
   "outputs": [
    {
     "name": "stdout",
     "output_type": "stream",
     "text": [
      "Acc: 0.607573\n",
      "MF1: 0.533422\n",
      "MP: 0.527952\n",
      "MR: 0.543807\n",
      "Conf Matrix\n",
      " [[195  25  18  28]\n",
      " [ 25  22  13  23]\n",
      " [  9   6  38  11]\n",
      " [ 38  19  13  98]]\n",
      "Classification Report\n",
      "               precision    recall  f1-score   support\n",
      "\n",
      "           N       0.73      0.73      0.73       266\n",
      "         NEU       0.31      0.27      0.28        83\n",
      "        NONE       0.46      0.59      0.52        64\n",
      "           P       0.61      0.58      0.60       168\n",
      "\n",
      "   micro avg       0.61      0.61      0.61       581\n",
      "   macro avg       0.53      0.54      0.53       581\n",
      "weighted avg       0.61      0.61      0.61       581\n",
      "\n"
     ]
    }
   ],
   "source": [
    "preds = ht.model.predict([rx_dv, masks_dv, pe_dv], batch_size=256)\n",
    "preds = [r_cats[p.argmax()] for p in preds]\n",
    "truths = y_dv\n",
    "print(\"Acc: %f\" % accuracy_score(truths, preds))\n",
    "print(\"MF1: %f\" % f1_score(truths, preds, average=\"macro\"))\n",
    "print(\"MP: %f\" % precision_score(truths, preds, average=\"macro\"))\n",
    "print(\"MR: %f\" % recall_score(truths, preds, average=\"macro\"))\n",
    "print(\"Conf Matrix\\n\", confusion_matrix(truths, preds))\n",
    "print(\"Classification Report\\n\", classification_report(truths, preds))"
   ]
  },
  {
   "cell_type": "markdown",
   "metadata": {},
   "source": [
    "# Save Prediction Report"
   ]
  },
  {
   "cell_type": "code",
   "execution_count": 6,
   "metadata": {},
   "outputs": [],
   "source": [
    "# Guarda un csv (texto, real, prediccion)\n",
    "fw = open(\"results_report.csv\", \"w\", encoding=\"utf8\")\n",
    "for i in range(len(preds)):\n",
    "    fw.write(x_dv[i] + \"\\t\" + truths[i] + \"\\t\" + preds[i] + \"\\n\")\n",
    "fw.close()"
   ]
  },
  {
   "cell_type": "markdown",
   "metadata": {},
   "source": [
    "# Get Attention Report"
   ]
  },
  {
   "cell_type": "code",
   "execution_count": 7,
   "metadata": {},
   "outputs": [],
   "source": [
    "attns = ht.attn_model.predict([rx_dv, masks_dv, pe_dv], batch_size=256)"
   ]
  },
  {
   "cell_type": "markdown",
   "metadata": {},
   "source": [
    "## Preds"
   ]
  },
  {
   "cell_type": "code",
   "execution_count": 14,
   "metadata": {},
   "outputs": [],
   "source": [
    "# Palabra : {cabezal : {P:0, N:0, NEU:}}\n",
    "word_attns = {}\n",
    "counters = {}\n",
    "for i in range(len(x_dv)):\n",
    "    attns_i = attns[i]\n",
    "    pred = preds[i]\n",
    "    l_words = x_dv[i].split()\n",
    "    pad = 0\n",
    "    \n",
    "    while len(l_words) < max_words:\n",
    "        l_words.insert(0, \"<pad>\")\n",
    "        pad += 1\n",
    "    l_words = l_words[pad:]\n",
    "    attns_i = attns_i[:, pad:, pad:]\n",
    "    attns_i = attns_i.sum(axis=1)          \n",
    "    ll_words = len(l_words)\n",
    "    \n",
    "    for j in range(ll_words):\n",
    "        word = l_words[j]\n",
    "        if word not in word_attns:\n",
    "            word_attns[word] = {}\n",
    "            counters[word] = {}\n",
    "            \n",
    "        for h in range(len(attns_i)):\n",
    "            if h not in word_attns[word]:\n",
    "                word_attns[word][h] = {\"N\":0., \"NEU\":0., \"NONE\":0., \"P\":0.}\n",
    "                counters[word][h] = {\"N\":0., \"NEU\":0., \"NONE\":0., \"P\":0.}\n",
    "\n",
    "            word_attns[word][h][pred] += (attns_i[h][j] / ll_words) # Normalizar por el nº de palabras a las que atiende\n",
    "            counters[word][h][pred] += 1.\n",
    "\n",
    "# Normalizar por el nº de muestras\n",
    "for w in word_attns:\n",
    "    for h in word_attns[w]:\n",
    "        for c in word_attns[w][h]:\n",
    "            word_attns[w][h][c] /= len(x_dv)      "
   ]
  },
  {
   "cell_type": "code",
   "execution_count": 15,
   "metadata": {},
   "outputs": [
    {
     "data": {
      "text/plain": [
       "{0: {'N': 0.0017153485279901358,\n",
       "  'NEU': 0.0,\n",
       "  'NONE': 0.0,\n",
       "  'P': 0.0007692033267882934},\n",
       " 1: {'N': 0.004626692089002594,\n",
       "  'NEU': 0.0,\n",
       "  'NONE': 0.0,\n",
       "  'P': 2.852761909596481e-05},\n",
       " 2: {'N': 6.690010907305826e-06,\n",
       "  'NEU': 0.0,\n",
       "  'NONE': 0.0,\n",
       "  'P': 4.9410337380257e-06},\n",
       " 3: {'N': 0.007457074933249687,\n",
       "  'NEU': 0.0,\n",
       "  'NONE': 0.0,\n",
       "  'P': 0.0016789873372667218},\n",
       " 4: {'N': 9.568202950946414e-06,\n",
       "  'NEU': 0.0,\n",
       "  'NONE': 0.0,\n",
       "  'P': 1.4074369459517184e-07},\n",
       " 5: {'N': 0.0020575475309095926,\n",
       "  'NEU': 0.0,\n",
       "  'NONE': 0.0,\n",
       "  'P': 0.00041438772530646},\n",
       " 6: {'N': 0.005116721987968566,\n",
       "  'NEU': 0.0,\n",
       "  'NONE': 0.0,\n",
       "  'P': 0.0003282754279660276},\n",
       " 7: {'N': 4.239669097647991e-06,\n",
       "  'NEU': 0.0,\n",
       "  'NONE': 0.0,\n",
       "  'P': 3.6553280963442205e-06}}"
      ]
     },
     "execution_count": 15,
     "metadata": {},
     "output_type": "execute_result"
    }
   ],
   "source": [
    "word_attns[\"mierda\"]"
   ]
  },
  {
   "cell_type": "markdown",
   "metadata": {},
   "source": [
    "## Truths"
   ]
  },
  {
   "cell_type": "code",
   "execution_count": 16,
   "metadata": {},
   "outputs": [],
   "source": [
    "# Palabra : {cabezal : {P:0, N:0, NEU:}}\n",
    "word_attns = {}\n",
    "counters = {}\n",
    "for i in range(len(x_dv)):\n",
    "    attns_i = attns[i]\n",
    "    pred = truths[i]\n",
    "    l_words = x_dv[i].split()\n",
    "    pad = 0\n",
    "    \n",
    "    while len(l_words) < max_words:\n",
    "        l_words.insert(0, \"<pad>\")\n",
    "        pad += 1\n",
    "    l_words = l_words[pad:]\n",
    "    attns_i = attns_i[:, pad:, pad:]\n",
    "    attns_i = attns_i.sum(axis=1)          \n",
    "    ll_words = len(l_words)\n",
    "    \n",
    "    for j in range(ll_words):\n",
    "        word = l_words[j]\n",
    "        if word not in word_attns:\n",
    "            word_attns[word] = {}\n",
    "            counters[word] = {}\n",
    "            \n",
    "        for h in range(len(attns_i)):\n",
    "            if h not in word_attns[word]:\n",
    "                word_attns[word][h] = {\"N\":0., \"NEU\":0., \"NONE\":0., \"P\":0.}\n",
    "                counters[word][h] = {\"N\":0., \"NEU\":0., \"NONE\":0., \"P\":0.}\n",
    "\n",
    "            word_attns[word][h][pred] += (attns_i[h][j] / ll_words) # Normalizar por el nº de palabras a las que atiende\n",
    "            counters[word][h][pred] += 1.\n",
    "\n",
    "# Normalizar por el nº de muestras\n",
    "for w in word_attns:\n",
    "    for h in word_attns[w]:\n",
    "        for c in word_attns[w][h]:\n",
    "            word_attns[w][h][c] /= len(x_dv) "
   ]
  },
  {
   "cell_type": "code",
   "execution_count": 17,
   "metadata": {},
   "outputs": [
    {
     "data": {
      "text/plain": [
       "{0: {'N': 0.001714852879959335,\n",
       "  'NEU': 0.0007692033267882934,\n",
       "  'NONE': 0.0,\n",
       "  'P': 4.956480308007866e-07},\n",
       " 1: {'N': 0.0034390558563802812,\n",
       "  'NEU': 2.852761909596481e-05,\n",
       "  'NONE': 0.0,\n",
       "  'P': 0.0011876362326223141},\n",
       " 2: {'N': 6.69001014009853e-06,\n",
       "  'NEU': 4.9410337380257e-06,\n",
       "  'NONE': 0.0,\n",
       "  'P': 7.672072959718464e-13},\n",
       " 3: {'N': 0.0060575509798923115,\n",
       "  'NEU': 0.0016789873372667218,\n",
       "  'NONE': 0.0,\n",
       "  'P': 0.0013995239533573748},\n",
       " 4: {'N': 4.585693860091132e-06,\n",
       "  'NEU': 1.4074369459517184e-07,\n",
       "  'NONE': 0.0,\n",
       "  'P': 4.982509090855281e-06},\n",
       " 5: {'N': 0.0014617697451931007,\n",
       "  'NEU': 0.00041438772530646,\n",
       "  'NONE': 0.0,\n",
       "  'P': 0.0005957777857164918},\n",
       " 6: {'N': 0.004293711229813177,\n",
       "  'NEU': 0.0003282754279660276,\n",
       "  'NONE': 0.0,\n",
       "  'P': 0.0008230107581553894},\n",
       " 7: {'N': 4.2217952970090075e-06,\n",
       "  'NEU': 3.6553280963442205e-06,\n",
       "  'NONE': 0.0,\n",
       "  'P': 1.7873800638982972e-08}}"
      ]
     },
     "execution_count": 17,
     "metadata": {},
     "output_type": "execute_result"
    }
   ],
   "source": [
    "word_attns[\"mierda\"]"
   ]
  },
  {
   "cell_type": "markdown",
   "metadata": {},
   "source": [
    "## All classes"
   ]
  },
  {
   "cell_type": "code",
   "execution_count": 18,
   "metadata": {},
   "outputs": [],
   "source": [
    "# Palabra : {cabezal : }\n",
    "\n",
    "word_attns = {}\n",
    "counters = {}\n",
    "for i in range(len(x_dv)):\n",
    "    attns_i = attns[i]\n",
    "    pred = truths[i]\n",
    "    l_words = x_dv[i].split()\n",
    "    pad = 0\n",
    "    \n",
    "    while len(l_words) < max_words:\n",
    "        l_words.insert(0, \"<pad>\")\n",
    "        pad += 1\n",
    "    l_words = l_words[pad:]\n",
    "    attns_i = attns_i[:, pad:, pad:]\n",
    "    attns_i = attns_i.sum(axis=1)          \n",
    "    ll_words = len(l_words)\n",
    "    \n",
    "    for j in range(ll_words):\n",
    "        word = l_words[j]\n",
    "        if word not in word_attns:\n",
    "            word_attns[word] = {}\n",
    "            counters[word] = {}\n",
    "            \n",
    "        for h in range(len(attns_i)):\n",
    "            if h not in word_attns[word]:\n",
    "                word_attns[word][h] = 0.\n",
    "                counters[word][h] = 0.\n",
    "\n",
    "            word_attns[word][h] += (attns_i[h][j] / ll_words) # Normalizar por el nº de palabras a las que atiende\n",
    "            counters[word][h] += 1.\n",
    "\n",
    "# Normalizar por el nº de muestras\n",
    "for w in word_attns:\n",
    "    for h in word_attns[w]:\n",
    "        word_attns[w][h] /= len(x_dv) "
   ]
  },
  {
   "cell_type": "code",
   "execution_count": 19,
   "metadata": {},
   "outputs": [
    {
     "data": {
      "text/plain": [
       "{0: 0.0024845518547784292,\n",
       " 1: 0.004655219708098559,\n",
       " 2: 1.1631044645331525e-05,\n",
       " 3: 0.009136062270516408,\n",
       " 4: 9.708946645541585e-06,\n",
       " 5: 0.0024719352562160525,\n",
       " 6: 0.005444997415934593,\n",
       " 7: 7.894997193992212e-06}"
      ]
     },
     "execution_count": 19,
     "metadata": {},
     "output_type": "execute_result"
    }
   ],
   "source": [
    "word_attns[\"mierda\"]"
   ]
  },
  {
   "cell_type": "code",
   "execution_count": 21,
   "metadata": {},
   "outputs": [
    {
     "data": {
      "text/plain": [
       "{0: 2.649026724098605e-05,\n",
       " 1: 0.006200643151232649,\n",
       " 2: 0.007157445468843605,\n",
       " 3: 0.0008024270140503219,\n",
       " 4: 0.01357130495113112,\n",
       " 5: 0.0006907809286857419,\n",
       " 6: 3.19597419752231e-05,\n",
       " 7: 6.250333000592587e-07}"
      ]
     },
     "execution_count": 21,
     "metadata": {},
     "output_type": "execute_result"
    }
   ],
   "source": [
    "word_attns[\"genial\"]"
   ]
  },
  {
   "cell_type": "code",
   "execution_count": 22,
   "metadata": {},
   "outputs": [
    {
     "data": {
      "text/plain": [
       "{0: 2.5105159312948302e-05,\n",
       " 1: 0.001257633998759232,\n",
       " 2: 1.771617744906634e-05,\n",
       " 3: 0.0017140776483204198,\n",
       " 4: 9.779741093131639e-05,\n",
       " 5: 0.0007750016994607633,\n",
       " 6: 0.00041638999510550047,\n",
       " 7: 5.746135554675545e-08}"
      ]
     },
     "execution_count": 22,
     "metadata": {},
     "output_type": "execute_result"
    }
   ],
   "source": [
    "word_attns[\"horrible\"]"
   ]
  },
  {
   "cell_type": "code",
   "execution_count": 23,
   "metadata": {},
   "outputs": [
    {
     "data": {
      "text/plain": [
       "{0: 3.8982627898260033e-08,\n",
       " 1: 0.002564629000830206,\n",
       " 2: 0.003236620348463652,\n",
       " 3: 0.0006010709237014243,\n",
       " 4: 0.004990253500326967,\n",
       " 5: 0.0018389675268026,\n",
       " 6: 5.787014189066984e-07,\n",
       " 7: 0.00015825514362931983}"
      ]
     },
     "execution_count": 23,
     "metadata": {},
     "output_type": "execute_result"
    }
   ],
   "source": [
    "word_attns[\"maravilloso\"]"
   ]
  },
  {
   "cell_type": "markdown",
   "metadata": {},
   "source": [
    "# Attns Visualization"
   ]
  },
  {
   "cell_type": "code",
   "execution_count": 48,
   "metadata": {},
   "outputs": [],
   "source": [
    "n = 17\n",
    "attns_i = attns[n]\n",
    "l_words = [\"feliz\", \"jodido\", \"vida\", \"muerte\", \"genial\", \"maravilloso\", \"horrible\"] #x_dv[n].split()\n",
    "\n",
    "pad = 0\n",
    "while len(l_words) < max_words:\n",
    "    l_words.insert(0, \"<pad>\")\n",
    "    pad += 1\n",
    "    \n",
    "l_words = l_words[pad:]\n",
    "attns_i = attns_i[:, pad:, pad:]\n",
    "attns_h_4 = attns_i[4]\n",
    "attns_h_6 = attns_i[6]"
   ]
  },
  {
   "cell_type": "code",
   "execution_count": 49,
   "metadata": {},
   "outputs": [
    {
     "name": "stdout",
     "output_type": "stream",
     "text": [
      "user tu siempre sexy nerea que tengas un maravilloso dia besitos\n"
     ]
    }
   ],
   "source": [
    "print(x_dv[n])"
   ]
  },
  {
   "cell_type": "code",
   "execution_count": 53,
   "metadata": {},
   "outputs": [
    {
     "data": {
      "image/png": "[encoded data removed]",
      "text/plain": [
       "<Figure size 2160x2160 with 1 Axes>"
      ]
     },
     "metadata": {
      "needs_background": "light"
     },
     "output_type": "display_data"
    }
   ],
   "source": [
    "Visualization.visualize_attentions(attns_h_6, 30, 30, rows=1, columns=1, ticks=l_words, output_file=None,\n",
    "                                   save=False)"
   ]
  },
  {
   "cell_type": "code",
   "execution_count": 42,
   "metadata": {},
   "outputs": [],
   "source": [
    "a = np.array([[[1, 2, 3], \n",
    "               [4, 5, 6], \n",
    "               [7, 8, 9]], \n",
    "              \n",
    "              [[1, 2, 3], \n",
    "               [4, 5, 6], \n",
    "               [7, 8, 9]], \n",
    "              \n",
    "              [[1, 2, 3], \n",
    "               [4, 5, 6], \n",
    "               [7, 8, 9]],\n",
    "              \n",
    "              \n",
    "              [[1, 2, 3], [4, 5, 6], [7, 8, 9]], [[1, 2, 3], [4, 5, 6], [7, 8, 9]], [[1, 2, 3], [4, 5, 6], [7, 8, 9]],\n",
    "              [[1, 2, 3], [4, 5, 6], [7, 8, 9]], [[1, 2, 3], [4, 5, 6], [7, 8, 9]], [[1, 2, 3], [4, 5, 6], [7, 8, 9]]])"
   ]
  },
  {
   "cell_type": "code",
   "execution_count": 43,
   "metadata": {},
   "outputs": [
    {
     "data": {
      "text/plain": [
       "(9, 3, 3)"
      ]
     },
     "execution_count": 43,
     "metadata": {},
     "output_type": "execute_result"
    }
   ],
   "source": [
    "a.shape"
   ]
  },
  {
   "cell_type": "code",
   "execution_count": 44,
   "metadata": {},
   "outputs": [
    {
     "data": {
      "text/plain": [
       "array([[12, 15, 18],\n",
       "       [12, 15, 18],\n",
       "       [12, 15, 18],\n",
       "       [12, 15, 18],\n",
       "       [12, 15, 18],\n",
       "       [12, 15, 18],\n",
       "       [12, 15, 18],\n",
       "       [12, 15, 18],\n",
       "       [12, 15, 18]])"
      ]
     },
     "execution_count": 44,
     "metadata": {},
     "output_type": "execute_result"
    }
   ],
   "source": [
    "a.sum(axis=1)"
   ]
  },
  {
   "cell_type": "code",
   "execution_count": null,
   "metadata": {},
   "outputs": [],
   "source": []
  }
 ],
 "metadata": {
  "kernelspec": {
   "display_name": "Python 3",
   "language": "python",
   "name": "python3"
  },
  "language_info": {
   "codemirror_mode": {
    "name": "ipython",
    "version": 3
   },
   "file_extension": ".py",
   "mimetype": "text/x-python",
   "name": "python",
   "nbconvert_exporter": "python",
   "pygments_lexer": "ipython3",
   "version": "3.7.1"
  }
 },
 "nbformat": 4,
 "nbformat_minor": 2
}
