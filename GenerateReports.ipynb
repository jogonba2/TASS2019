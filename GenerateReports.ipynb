{
 "cells": [
  {
   "cell_type": "code",
   "execution_count": 1,
   "metadata": {},
   "outputs": [
    {
     "name": "stderr",
     "output_type": "stream",
     "text": [
      "Using TensorFlow backend.\n"
     ]
    }
   ],
   "source": [
    "%matplotlib inline\n",
    "from StringProcessing import StringProcessing\n",
    "from BuildVocabulary import BuildVocabulary as bv\n",
    "from TransformerEncoder import TransformerEncoder\n",
    "from keras.utils.np_utils import to_categorical\n",
    "from keras.callbacks import ModelCheckpoint\n",
    "from nltk.tokenize.toktok import ToktokTokenizer\n",
    "from Visualization import Visualization\n",
    "from gensim.models import Word2Vec\n",
    "from Preprocess import Preprocess\n",
    "from Utils import Utils\n",
    "from sklearn.metrics import accuracy_score, f1_score, precision_score, recall_score, confusion_matrix, classification_report\n",
    "import numpy as np\n",
    "from matplotlib import pyplot as plt"
   ]
  },
  {
   "cell_type": "markdown",
   "metadata": {},
   "source": [
    "# Parameters"
   ]
  },
  {
   "cell_type": "code",
   "execution_count": 2,
   "metadata": {},
   "outputs": [],
   "source": [
    "# Text parameters #\n",
    "max_words = 50\n",
    "test_path = \"./tass-corpus/es/dev.csv\" # Dev\n",
    "\n",
    "# Training Parameters #\n",
    "path_model = \"./best-models/transformer_es.hdf5\"\n",
    "r_cats = {0:\"N\", 1:\"NEU\", 2:\"NONE\", 3:\"P\"}\n",
    "tokenizer = ToktokTokenizer()\n",
    "w2v_path = \"./twitter87/twitter87.model\"\n",
    "w2v = Word2Vec.load(w2v_path)\n",
    "\n",
    "# Encoder Parameters # # MEJOR\n",
    "dropout_input = 0.7 #0.7\n",
    "dropout_output = 0. # 0.\n",
    "pe = False #False\n",
    "embedding_dims = w2v.vector_size\n",
    "n_encoders = 1 #2 #1\n",
    "attention_dims = 64 #32 #64\n",
    "n_heads = 8 #8\n",
    "dim_h = 128 #256\n",
    "final_h = False #False\n",
    "pool_mode = \"average\" #\"average\"\n",
    "\n",
    "output_encoder_dims = [embedding_dims for i in range(n_encoders)]\n",
    "attention_dims = [attention_dims for i in range(n_encoders)]\n",
    "n_heads = [n_heads for i in range(n_encoders)]"
   ]
  },
  {
   "cell_type": "markdown",
   "metadata": {},
   "source": [
    "# Prepare inputs #"
   ]
  },
  {
   "cell_type": "code",
   "execution_count": 3,
   "metadata": {},
   "outputs": [],
   "source": [
    "ids_dv, x_dv, y_dv = StringProcessing.load_samples(test_path)\n",
    "\n",
    "# Preprocess #\n",
    "x_dv = [Preprocess.preprocess(x, tokenizer) for x in x_dv]\n",
    "\n",
    "# Represent #\n",
    "rx_dv = np.array(StringProcessing.represent_documents(x_dv, max_words, embedding_dims, w2v, word_delimiter = \" \"))\n",
    "\n",
    "# Masks #\n",
    "masks_dv = np.array([((rx!=0).sum(axis=1)>0).astype(\"int\") for rx in rx_dv])\n",
    "\n",
    "# Positional Encodings #\n",
    "matrix_pos_encodings = Utils.precompute_sent_pos_encodings(max_words, embedding_dims)\n",
    "pe_dv = np.array([Utils.build_pe_sent_encodings(matrix_pos_encodings, m) for m in masks_dv])"
   ]
  },
  {
   "cell_type": "markdown",
   "metadata": {},
   "source": [
    "# Load model"
   ]
  },
  {
   "cell_type": "code",
   "execution_count": 4,
   "metadata": {},
   "outputs": [
    {
     "name": "stdout",
     "output_type": "stream",
     "text": [
      "WARNING:tensorflow:From C:\\Users\\usuario\\ANACONDA\\lib\\site-packages\\tensorflow\\python\\ops\\control_flow_ops.py:423: colocate_with (from tensorflow.python.framework.ops) is deprecated and will be removed in a future version.\n",
      "Instructions for updating:\n",
      "Colocations handled automatically by placer.\n",
      "WARNING:tensorflow:From C:\\Users\\usuario\\ANACONDA\\lib\\site-packages\\keras\\backend\\tensorflow_backend.py:3445: calling dropout (from tensorflow.python.ops.nn_ops) with keep_prob is deprecated and will be removed in a future version.\n",
      "Instructions for updating:\n",
      "Please use `rate` instead of `keep_prob`. Rate should be set to `rate = 1 - keep_prob`.\n",
      "__________________________________________________________________________________________________\n",
      "Layer (type)                    Output Shape         Param #     Connected to                     \n",
      "==================================================================================================\n",
      "input_1 (InputLayer)            (None, 50, 300)      0                                            \n",
      "__________________________________________________________________________________________________\n",
      "my_masking_1 (MyMasking)        (None, 50, 300)      0           input_1[0][0]                    \n",
      "__________________________________________________________________________________________________\n",
      "spatial_dropout1d_1 (SpatialDro (None, 50, 300)      0           my_masking_1[0][0]               \n",
      "__________________________________________________________________________________________________\n",
      "sentence_encoder_block_1 (Sente [(None, 50, 300), (N 795600      spatial_dropout1d_1[0][0]        \n",
      "__________________________________________________________________________________________________\n",
      "lambda_1 (Lambda)               (None, 50, 300)      0           sentence_encoder_block_1[0][0]   \n",
      "                                                                 sentence_encoder_block_1[0][1]   \n",
      "__________________________________________________________________________________________________\n",
      "my_masking_2 (MyMasking)        (None, 50, 300)      0           lambda_1[0][0]                   \n",
      "__________________________________________________________________________________________________\n",
      "global_average_pooling1d_1 (Glo (None, 300)          0           my_masking_2[0][0]               \n",
      "__________________________________________________________________________________________________\n",
      "layer_normalization_2 (LayerNor (None, 300)          600         global_average_pooling1d_1[0][0] \n",
      "__________________________________________________________________________________________________\n",
      "dense_3 (Dense)                 (None, 4)            1204        layer_normalization_2[0][0]      \n",
      "==================================================================================================\n",
      "Total params: 797,404\n",
      "Trainable params: 797,404\n",
      "Non-trainable params: 0\n",
      "__________________________________________________________________________________________________\n",
      "None\n"
     ]
    }
   ],
   "source": [
    "ht = TransformerEncoder(max_words = max_words,\n",
    "                 embedding_dims = embedding_dims,\n",
    "                 output_encoder_dims = output_encoder_dims,\n",
    "                 attention_dims = attention_dims,\n",
    "                 n_heads = n_heads,\n",
    "                 dropout_input = dropout_input,\n",
    "                 dropout_output = dropout_output,\n",
    "                 pe = pe,\n",
    "                 dim_h = dim_h,\n",
    "                 final_h = final_h,\n",
    "                 pool_mode = pool_mode)\n",
    "\n",
    "ht.build()\n",
    "print(ht.model.summary())\n",
    "ht.compile(ht.model)\n",
    "ht.load(ht.model, path_model)"
   ]
  },
  {
   "cell_type": "markdown",
   "metadata": {},
   "source": [
    "# Predict"
   ]
  },
  {
   "cell_type": "code",
   "execution_count": 5,
   "metadata": {},
   "outputs": [
    {
     "name": "stdout",
     "output_type": "stream",
     "text": [
      "Acc: 0.607573\n",
      "MF1: 0.533422\n",
      "MP: 0.527952\n",
      "MR: 0.543807\n",
      "Conf Matrix\n",
      " [[195  25  18  28]\n",
      " [ 25  22  13  23]\n",
      " [  9   6  38  11]\n",
      " [ 38  19  13  98]]\n",
      "Classification Report\n",
      "               precision    recall  f1-score   support\n",
      "\n",
      "           N       0.73      0.73      0.73       266\n",
      "         NEU       0.31      0.27      0.28        83\n",
      "        NONE       0.46      0.59      0.52        64\n",
      "           P       0.61      0.58      0.60       168\n",
      "\n",
      "   micro avg       0.61      0.61      0.61       581\n",
      "   macro avg       0.53      0.54      0.53       581\n",
      "weighted avg       0.61      0.61      0.61       581\n",
      "\n"
     ]
    }
   ],
   "source": [
    "preds = ht.model.predict([rx_dv, masks_dv, pe_dv], batch_size=256)\n",
    "preds = [r_cats[p.argmax()] for p in preds]\n",
    "truths = y_dv\n",
    "print(\"Acc: %f\" % accuracy_score(truths, preds))\n",
    "print(\"MF1: %f\" % f1_score(truths, preds, average=\"macro\"))\n",
    "print(\"MP: %f\" % precision_score(truths, preds, average=\"macro\"))\n",
    "print(\"MR: %f\" % recall_score(truths, preds, average=\"macro\"))\n",
    "print(\"Conf Matrix\\n\", confusion_matrix(truths, preds))\n",
    "print(\"Classification Report\\n\", classification_report(truths, preds))"
   ]
  },
  {
   "cell_type": "markdown",
   "metadata": {},
   "source": [
    "# Save Prediction Report"
   ]
  },
  {
   "cell_type": "code",
   "execution_count": 6,
   "metadata": {},
   "outputs": [],
   "source": [
    "# Guarda un csv (texto, real, prediccion)\n",
    "fw = open(\"results_report.csv\", \"w\", encoding=\"utf8\")\n",
    "for i in range(len(preds)):\n",
    "    fw.write(x_dv[i] + \"\\t\" + truths[i] + \"\\t\" + preds[i] + \"\\n\")\n",
    "fw.close()"
   ]
  },
  {
   "cell_type": "markdown",
   "metadata": {},
   "source": [
    "# Get Attention Report"
   ]
  },
  {
   "cell_type": "code",
   "execution_count": 7,
   "metadata": {},
   "outputs": [],
   "source": [
    "attns = ht.attn_model.predict([rx_dv, masks_dv, pe_dv], batch_size=256)"
   ]
  },
  {
   "cell_type": "markdown",
   "metadata": {},
   "source": [
    "## All classes (creo que este es el análisis bueno, más que por cada clase)"
   ]
  },
  {
   "cell_type": "code",
   "execution_count": 12,
   "metadata": {},
   "outputs": [],
   "source": [
    "# Palabra : {cabezal : }\n",
    "\n",
    "word_attns = {}\n",
    "counters = {}\n",
    "for i in range(len(x_dv)):\n",
    "    attns_i = attns[i]\n",
    "    pred = truths[i]\n",
    "    l_words = x_dv[i].split()\n",
    "    pad = 0\n",
    "    \n",
    "    while len(l_words) < max_words:\n",
    "        l_words.insert(0, \"<pad>\")\n",
    "        pad += 1\n",
    "    l_words = l_words[pad:]\n",
    "    attns_i = attns_i[:, pad:, pad:]\n",
    "    attns_i = attns_i.sum(axis=1)          \n",
    "    ll_words = len(l_words)\n",
    "    \n",
    "    for j in range(ll_words):\n",
    "        word = l_words[j]\n",
    "        if word not in word_attns:\n",
    "            word_attns[word] = {}\n",
    "            counters[word] = {}\n",
    "            \n",
    "        for h in range(len(attns_i)):\n",
    "            if h not in word_attns[word]:\n",
    "                word_attns[word][h] = 0.\n",
    "                counters[word][h] = 0.\n",
    "\n",
    "            word_attns[word][h] += (attns_i[h][j] / ll_words) # Normalizar por el nº de palabras a las que atiende\n",
    "            counters[word][h] += 1.\n",
    "\n",
    "# Normalizar por el nº de muestras\n",
    "for w in word_attns:\n",
    "    for h in word_attns[w]:\n",
    "        word_attns[w][h] /= (counters[w][h] + 1e-16) #len(x_dv) "
   ]
  },
  {
   "cell_type": "code",
   "execution_count": 40,
   "metadata": {},
   "outputs": [
    {
     "data": {
      "image/png": "[encoded data removed]",
      "text/plain": [
       "<Figure size 1080x576 with 6 Axes>"
      ]
     },
     "metadata": {
      "needs_background": "light"
     },
     "output_type": "display_data"
    }
   ],
   "source": [
    "fig, ax = plt.subplots(2, 3, sharex=True, sharey=True)\n",
    "fig.set_figheight(8)\n",
    "fig.set_figwidth(15)\n",
    "\n",
    "#fig.suptitle('Attention')\n",
    "\n",
    "ax[1, 0].set_xticks([i for i in range(8)])\n",
    "\n",
    "w1 = \"mejor\"\n",
    "w2 = \"maravilloso\"\n",
    "w3 = \"genial\"\n",
    "w4 = \"peor\"\n",
    "w5 = \"horrible\"\n",
    "w6 = \"mierda\"\n",
    "\n",
    "ax[0, 0].set_title(w1)\n",
    "ax[0, 1].set_title(w2)\n",
    "ax[0, 2].set_title(w3)\n",
    "ax[1, 0].set_title(w4)\n",
    "ax[1, 1].set_title(w5)\n",
    "ax[1, 2].set_title(w6)\n",
    "\n",
    "x1 = x1 = x2 = x3 = x4 = x5 = x6 = list(range(8))\n",
    "\n",
    "y1 = list(word_attns[w1].values())\n",
    "y2 = list(word_attns[w2].values())\n",
    "y3 = list(word_attns[w3].values())\n",
    "y4 = list(word_attns[w4].values())\n",
    "y5 = list(word_attns[w5].values())\n",
    "y6 = list(word_attns[w6].values())\n",
    "\n",
    "fig.subplots_adjust(wspace=0.2, hspace=0.2)\n",
    "\n",
    "ax[0, 0].bar(x1, y1)\n",
    "ax[0, 1].bar(x2, y2)\n",
    "ax[0, 2].bar(x3, y3)\n",
    "ax[1, 0].bar(x4, y4)\n",
    "ax[1, 1].bar(x5, y5)\n",
    "ax[1, 2].bar(x6, y6)\n",
    "\n",
    "fig.savefig(\"attentions.pdf\", bbox_inches='tight')"
   ]
  },
  {
   "cell_type": "markdown",
   "metadata": {},
   "source": [
    "Parece que el cabezal 3 reacciona mucho con palabras negativas y poco a las positivas; y el cabezal 4 justo al contrario"
   ]
  },
  {
   "cell_type": "markdown",
   "metadata": {},
   "source": [
    "# Attns Visualization"
   ]
  },
  {
   "cell_type": "code",
   "execution_count": 104,
   "metadata": {},
   "outputs": [],
   "source": [
    "n = 40 # 46 (PE), 40 (ES)\n",
    "attns_i = attns[n]\n",
    "l_words = x_dv[n].split()\n",
    "\n",
    "pad = 0\n",
    "while len(l_words) < max_words:\n",
    "    l_words.insert(0, \"<pad>\")\n",
    "    pad += 1\n",
    "l_words = l_words[pad:]\n",
    "attns_i = attns_i[:, pad:, pad:]\n",
    "attns_h_3 = attns_i[3]\n",
    "attns_h_4 = attns_i[4]"
   ]
  },
  {
   "cell_type": "code",
   "execution_count": 105,
   "metadata": {},
   "outputs": [
    {
     "name": "stdout",
     "output_type": "stream",
     "text": [
      "odio a lucia la vd , mi amor hacia ella es una gran tapadera pa comer nutella en su casa\n"
     ]
    }
   ],
   "source": [
    "print(x_dv[n])"
   ]
  },
  {
   "cell_type": "code",
   "execution_count": 107,
   "metadata": {},
   "outputs": [
    {
     "data": {
      "image/png": "[encoded data removed]",
      "text/plain": [
       "<Figure size 1152x432 with 2 Axes>"
      ]
     },
     "metadata": {
      "needs_background": "light"
     },
     "output_type": "display_data"
    }
   ],
   "source": [
    "fig, ax = plt.subplots(1, 2, sharey=True)\n",
    "fig.set_figheight(6)\n",
    "fig.set_figwidth(16)\n",
    "ticks = l_words\n",
    "tick_labels = [x+ \" \" for x in ticks]\n",
    "\n",
    "ax[0].set_xticks(np.arange(len(tick_labels)))\n",
    "ax[0].set_yticks(np.arange(len(tick_labels)))\n",
    "ax[1].set_xticks(np.arange(len(tick_labels)))\n",
    "ax[0].set_xticklabels(tick_labels, rotation='vertical', fontsize=12, visible = True)\n",
    "ax[0].set_yticklabels(tick_labels, fontsize=12, visible = True)\n",
    "ax[1].set_xticklabels(tick_labels, rotation='vertical', fontsize=12, visible = True)\n",
    "ax[1].set_yticklabels(tick_labels, fontsize=12, visible = True)\n",
    "\n",
    "ax[0].set_title(\"3rd Head\")\n",
    "ax[1].set_title(\"4th Head\")\n",
    "\n",
    "fig.subplots_adjust(wspace=-0.3)\n",
    "\n",
    "ax[0].imshow(attns_h_3, cmap=\"GnBu\")\n",
    "ax[1].imshow(attns_h_4, cmap=\"GnBu\")\n",
    "\n",
    "fig.savefig(\"heads_example.pdf\", bbox_inches='tight')"
   ]
  },
  {
   "cell_type": "markdown",
   "metadata": {},
   "source": [
    "Es una muestra negativa, predicha correctamente por el sistema. La atención a \"odio\" del cabezal 3 es mayor que las atenciones a \"amor\" del cabezal 4."
   ]
  },
  {
   "cell_type": "markdown",
   "metadata": {},
   "source": [
    "# Análisis con un lexicon"
   ]
  },
  {
   "cell_type": "code",
   "execution_count": 109,
   "metadata": {},
   "outputs": [],
   "source": [
    "import unicodedata as uc\n",
    "\n",
    "def remove_accents(sequence):\n",
    "    return \"\".join([c for c in uc.normalize('NFD', sequence) if uc.category(c) != 'Mn'])"
   ]
  },
  {
   "cell_type": "code",
   "execution_count": 110,
   "metadata": {},
   "outputs": [],
   "source": [
    "lex = open(\"./lexicons/elhuyar.txt\", \"r\", encoding=\"utf8\")\n",
    "llex = []\n",
    "for line in lex.readlines():\n",
    "    s = line.strip().split(\"\\t\")\n",
    "    if len(s)>1:\n",
    "        word, tag = s[0], s[1]\n",
    "        if \"_\" not in word and \"-\" not in word:\n",
    "            word = remove_accents(word.replace(\"ñ\", \"ny\"))\n",
    "            llex.append((word, tag))\n",
    "lex.close()"
   ]
  },
  {
   "cell_type": "code",
   "execution_count": 111,
   "metadata": {},
   "outputs": [],
   "source": [
    "fw = open(\"attentions_elhuyar.out\", \"w\", encoding=\"utf8\")\n",
    "for (word, tag) in llex:\n",
    "    if word in word_attns:\n",
    "        fw.write(word + \"\\n\")\n",
    "        for h in word_attns[word]:\n",
    "            fw.write(\"Header %d: %.4f\\n\" % (h, word_attns[word][h]))\n",
    "        fw.write(\"\\n\\n\" + \"-\"*50 + \"\\n\\n\")\n",
    "fw.close()"
   ]
  },
  {
   "cell_type": "markdown",
   "metadata": {},
   "source": [
    "### Buscar los cabezales que maximizan su valor de atención sobre un lexicon supervisado en español (Elhuyar de ejemplo) #"
   ]
  },
  {
   "cell_type": "code",
   "execution_count": 112,
   "metadata": {},
   "outputs": [],
   "source": [
    "positive_words = [word for (word, tag) in llex if tag == \"positive\"]\n",
    "negative_words = [word for (word, tag) in llex if tag == \"negative\"]"
   ]
  },
  {
   "cell_type": "code",
   "execution_count": 113,
   "metadata": {},
   "outputs": [],
   "source": [
    "sum_attns_positive = np.array([0. for i in range(len(word_attns[\"de\"]))])\n",
    "counts = 0.\n",
    "\n",
    "for word in positive_words:\n",
    "    if word in word_attns:\n",
    "        w_attns = word_attns[word]\n",
    "        h_attns = np.array([word_attns[word][h] for h in word_attns[word]])\n",
    "        sum_attns_positive += h_attns\n",
    "        counts += 1.\n",
    "        \n",
    "sum_attns_positive /= counts"
   ]
  },
  {
   "cell_type": "code",
   "execution_count": 114,
   "metadata": {},
   "outputs": [],
   "source": [
    "sum_attns_negative = np.array([0. for i in range(len(word_attns[\"de\"]))])\n",
    "counts = 0.\n",
    "\n",
    "for word in negative_words:\n",
    "    if word in word_attns:\n",
    "        w_attns = word_attns[word]\n",
    "        h_attns = np.array([word_attns[word][h] for h in word_attns[word]])\n",
    "        sum_attns_negative += h_attns\n",
    "        counts += 1.\n",
    "        \n",
    "sum_attns_negative /= counts"
   ]
  },
  {
   "cell_type": "code",
   "execution_count": null,
   "metadata": {},
   "outputs": [],
   "source": []
  },
  {
   "cell_type": "code",
   "execution_count": null,
   "metadata": {},
   "outputs": [],
   "source": []
  },
  {
   "cell_type": "code",
   "execution_count": 116,
   "metadata": {},
   "outputs": [
    {
     "data": {
      "image/png": "[encoded data removed]",
      "text/plain": [
       "<Figure size 1152x432 with 2 Axes>"
      ]
     },
     "metadata": {
      "needs_background": "light"
     },
     "output_type": "display_data"
    }
   ],
   "source": [
    "fig, ax = plt.subplots(1, 2, sharey=True)\n",
    "fig.set_figheight(6)\n",
    "fig.set_figwidth(16)\n",
    "\n",
    "#fig.suptitle('Attention')\n",
    "\n",
    "ax[0].set_xticks([i for i in range(8)])\n",
    "\n",
    "\n",
    "ax[0].set_title(\"Positive\")\n",
    "ax[1].set_title(\"Negative\")\n",
    "\n",
    "x1 = x2 = list(range(8))\n",
    "\n",
    "y1 = sum_attns_positive\n",
    "y2 = sum_attns_negative\n",
    "\n",
    "fig.subplots_adjust(wspace=0.2)\n",
    "\n",
    "ax[0].bar(x1, y1)\n",
    "ax[1].bar(x2, y2)\n",
    "\n",
    "fig.savefig(\"attention_sums_elhuyar.pdf\", bbox_inches='tight')"
   ]
  },
  {
   "cell_type": "code",
   "execution_count": null,
   "metadata": {},
   "outputs": [],
   "source": []
  },
  {
   "cell_type": "code",
   "execution_count": null,
   "metadata": {},
   "outputs": [],
   "source": []
  },
  {
   "cell_type": "markdown",
   "metadata": {},
   "source": [
    "Los cabezales 0 y 7 no capturan nada de sentimiento, ¿qué capturan?"
   ]
  },
  {
   "cell_type": "markdown",
   "metadata": {},
   "source": [
    "### Clasificar el lexicon usando los cabezales 3 y 4 (75% Acc)"
   ]
  },
  {
   "cell_type": "code",
   "execution_count": 275,
   "metadata": {},
   "outputs": [
    {
     "name": "stdout",
     "output_type": "stream",
     "text": [
      "Acc: 74.7573%\n"
     ]
    }
   ],
   "source": [
    "n_errors = 0.\n",
    "n_words = 0.\n",
    "\n",
    "for (word, tag) in llex:\n",
    "    if word in word_attns:\n",
    "        heads = word_attns[word]\n",
    "        if heads[3] > heads[4]:\n",
    "            pred = \"negative\"\n",
    "        else:\n",
    "            pred = \"positive\"\n",
    "        \n",
    "        if pred != tag:\n",
    "            n_errors += 1\n",
    "            \n",
    "        n_words += 1.\n",
    "        \n",
    "print(\"Acc: %.4f%%\" % ((1. - ((n_errors / n_words))) * 100))"
   ]
  },
  {
   "cell_type": "markdown",
   "metadata": {},
   "source": [
    "# Buscar cabezales que encuentren la negación"
   ]
  },
  {
   "cell_type": "code",
   "execution_count": 276,
   "metadata": {},
   "outputs": [
    {
     "data": {
      "text/plain": [
       "<BarContainer object of 8 artists>"
      ]
     },
     "execution_count": 276,
     "metadata": {},
     "output_type": "execute_result"
    },
    {
     "data": {
      "image/png": "[encoded data removed]",
      "text/plain": [
       "<Figure size 432x288 with 1 Axes>"
      ]
     },
     "metadata": {
      "needs_background": "light"
     },
     "output_type": "display_data"
    }
   ],
   "source": [
    "w = \"no\"\n",
    "plt.title(w)\n",
    "plt.bar(list(range(8)), list(word_attns[w].values()))"
   ]
  },
  {
   "cell_type": "code",
   "execution_count": 277,
   "metadata": {},
   "outputs": [
    {
     "data": {
      "text/plain": [
       "<BarContainer object of 8 artists>"
      ]
     },
     "execution_count": 277,
     "metadata": {},
     "output_type": "execute_result"
    },
    {
     "data": {
      "image/png": "[encoded data removed]",
      "text/plain": [
       "<Figure size 432x288 with 1 Axes>"
      ]
     },
     "metadata": {
      "needs_background": "light"
     },
     "output_type": "display_data"
    }
   ],
   "source": [
    "w = \"ni\"\n",
    "plt.title(w)\n",
    "plt.bar(list(range(8)), list(word_attns[w].values()))"
   ]
  },
  {
   "cell_type": "code",
   "execution_count": 278,
   "metadata": {},
   "outputs": [
    {
     "data": {
      "text/plain": [
       "<BarContainer object of 8 artists>"
      ]
     },
     "execution_count": 278,
     "metadata": {},
     "output_type": "execute_result"
    },
    {
     "data": {
      "image/png": "[encoded data removed]",
      "text/plain": [
       "<Figure size 432x288 with 1 Axes>"
      ]
     },
     "metadata": {
      "needs_background": "light"
     },
     "output_type": "display_data"
    }
   ],
   "source": [
    "w = \"nunca\"\n",
    "plt.title(w)\n",
    "plt.bar(list(range(8)), list(word_attns[w].values()))"
   ]
  },
  {
   "cell_type": "code",
   "execution_count": 279,
   "metadata": {},
   "outputs": [
    {
     "data": {
      "text/plain": [
       "<BarContainer object of 8 artists>"
      ]
     },
     "execution_count": 279,
     "metadata": {},
     "output_type": "execute_result"
    },
    {
     "data": {
      "image/png": "[encoded data removed]",
      "text/plain": [
       "<Figure size 432x288 with 1 Axes>"
      ]
     },
     "metadata": {
      "needs_background": "light"
     },
     "output_type": "display_data"
    }
   ],
   "source": [
    "w = \"nada\"\n",
    "plt.title(w)\n",
    "plt.bar(list(range(8)), list(word_attns[w].values()))"
   ]
  },
  {
   "cell_type": "code",
   "execution_count": 280,
   "metadata": {},
   "outputs": [
    {
     "data": {
      "text/plain": [
       "<BarContainer object of 8 artists>"
      ]
     },
     "execution_count": 280,
     "metadata": {},
     "output_type": "execute_result"
    },
    {
     "data": {
      "image/png": "[encoded data removed]",
      "text/plain": [
       "<Figure size 432x288 with 1 Axes>"
      ]
     },
     "metadata": {
      "needs_background": "light"
     },
     "output_type": "display_data"
    }
   ],
   "source": [
    "w = \"ninguna\"\n",
    "plt.title(w)\n",
    "plt.bar(list(range(8)), list(word_attns[w].values()))"
   ]
  },
  {
   "cell_type": "code",
   "execution_count": 281,
   "metadata": {},
   "outputs": [
    {
     "data": {
      "text/plain": [
       "<BarContainer object of 8 artists>"
      ]
     },
     "execution_count": 281,
     "metadata": {},
     "output_type": "execute_result"
    },
    {
     "data": {
      "image/png": "[encoded data removed]",
      "text/plain": [
       "<Figure size 432x288 with 1 Axes>"
      ]
     },
     "metadata": {
      "needs_background": "light"
     },
     "output_type": "display_data"
    }
   ],
   "source": [
    "w = \"ninguno\"\n",
    "plt.title(w)\n",
    "plt.bar(list(range(8)), list(word_attns[w].values()))"
   ]
  },
  {
   "cell_type": "code",
   "execution_count": 282,
   "metadata": {},
   "outputs": [
    {
     "data": {
      "text/plain": [
       "<BarContainer object of 8 artists>"
      ]
     },
     "execution_count": 282,
     "metadata": {},
     "output_type": "execute_result"
    },
    {
     "data": {
      "image/png": "[encoded data removed]",
      "text/plain": [
       "<Figure size 432x288 with 1 Axes>"
      ]
     },
     "metadata": {
      "needs_background": "light"
     },
     "output_type": "display_data"
    }
   ],
   "source": [
    "w = \"tampoco\"\n",
    "plt.title(w)\n",
    "plt.bar(list(range(8)), list(word_attns[w].values()))"
   ]
  },
  {
   "cell_type": "code",
   "execution_count": 283,
   "metadata": {},
   "outputs": [
    {
     "data": {
      "text/plain": [
       "<BarContainer object of 8 artists>"
      ]
     },
     "execution_count": 283,
     "metadata": {},
     "output_type": "execute_result"
    },
    {
     "data": {
      "image/png": "[encoded data removed]",
      "text/plain": [
       "<Figure size 432x288 with 1 Axes>"
      ]
     },
     "metadata": {
      "needs_background": "light"
     },
     "output_type": "display_data"
    }
   ],
   "source": [
    "w = \"apenas\"\n",
    "plt.title(w)\n",
    "plt.bar(list(range(8)), list(word_attns[w].values()))"
   ]
  },
  {
   "cell_type": "markdown",
   "metadata": {},
   "source": [
    "El cabezal 0 reacciona a la negación, además los cabezales 3 y 4 relacionados con la polaridad tienen valor 0.\n",
    "Aun así, los valores de atención no son muy elevados, i.e. el cabezal 0 sirve para más cosas (conjunciones, etc.)\n",
    "El cabezal no solo reacciona a la negación, también reacciona a: (siempre, todo, toda, todos, todas, si)"
   ]
  },
  {
   "cell_type": "code",
   "execution_count": 284,
   "metadata": {},
   "outputs": [
    {
     "data": {
      "text/plain": [
       "<BarContainer object of 8 artists>"
      ]
     },
     "execution_count": 284,
     "metadata": {},
     "output_type": "execute_result"
    },
    {
     "data": {
      "image/png": "[encoded data removed]",
      "text/plain": [
       "<Figure size 432x288 with 1 Axes>"
      ]
     },
     "metadata": {
      "needs_background": "light"
     },
     "output_type": "display_data"
    }
   ],
   "source": [
    "w = \"siempre\"\n",
    "plt.title(w)\n",
    "plt.bar(list(range(8)), list(word_attns[w].values()))"
   ]
  },
  {
   "cell_type": "code",
   "execution_count": 285,
   "metadata": {},
   "outputs": [
    {
     "data": {
      "text/plain": [
       "<BarContainer object of 8 artists>"
      ]
     },
     "execution_count": 285,
     "metadata": {},
     "output_type": "execute_result"
    },
    {
     "data": {
      "image/png": "[encoded data removed]",
      "text/plain": [
       "<Figure size 432x288 with 1 Axes>"
      ]
     },
     "metadata": {
      "needs_background": "light"
     },
     "output_type": "display_data"
    }
   ],
   "source": [
    "w = \"todos\"\n",
    "plt.title(w)\n",
    "plt.bar(list(range(8)), list(word_attns[w].values()))"
   ]
  },
  {
   "cell_type": "code",
   "execution_count": 286,
   "metadata": {},
   "outputs": [
    {
     "data": {
      "text/plain": [
       "<BarContainer object of 8 artists>"
      ]
     },
     "execution_count": 286,
     "metadata": {},
     "output_type": "execute_result"
    },
    {
     "data": {
      "image/png": "[encoded data removed]",
      "text/plain": [
       "<Figure size 432x288 with 1 Axes>"
      ]
     },
     "metadata": {
      "needs_background": "light"
     },
     "output_type": "display_data"
    }
   ],
   "source": [
    "w = \"todas\"\n",
    "plt.title(w)\n",
    "plt.bar(list(range(8)), list(word_attns[w].values()))"
   ]
  },
  {
   "cell_type": "code",
   "execution_count": 287,
   "metadata": {},
   "outputs": [
    {
     "data": {
      "text/plain": [
       "<BarContainer object of 8 artists>"
      ]
     },
     "execution_count": 287,
     "metadata": {},
     "output_type": "execute_result"
    },
    {
     "data": {
      "image/png": "[encoded data removed]",
      "text/plain": [
       "<Figure size 432x288 with 1 Axes>"
      ]
     },
     "metadata": {
      "needs_background": "light"
     },
     "output_type": "display_data"
    }
   ],
   "source": [
    "w = \"todo\"\n",
    "plt.title(w)\n",
    "plt.bar(list(range(8)), list(word_attns[w].values()))"
   ]
  },
  {
   "cell_type": "code",
   "execution_count": 288,
   "metadata": {},
   "outputs": [
    {
     "data": {
      "text/plain": [
       "<BarContainer object of 8 artists>"
      ]
     },
     "execution_count": 288,
     "metadata": {},
     "output_type": "execute_result"
    },
    {
     "data": {
      "image/png": "[encoded data removed]",
      "text/plain": [
       "<Figure size 432x288 with 1 Axes>"
      ]
     },
     "metadata": {
      "needs_background": "light"
     },
     "output_type": "display_data"
    }
   ],
   "source": [
    "w = \"toda\"\n",
    "plt.title(w)\n",
    "plt.bar(list(range(8)), list(word_attns[w].values()))"
   ]
  },
  {
   "cell_type": "code",
   "execution_count": 289,
   "metadata": {},
   "outputs": [
    {
     "data": {
      "text/plain": [
       "<BarContainer object of 8 artists>"
      ]
     },
     "execution_count": 289,
     "metadata": {},
     "output_type": "execute_result"
    },
    {
     "data": {
      "image/png": "[encoded data removed]",
      "text/plain": [
       "<Figure size 432x288 with 1 Axes>"
      ]
     },
     "metadata": {
      "needs_background": "light"
     },
     "output_type": "display_data"
    }
   ],
   "source": [
    "w = \"si\"\n",
    "plt.title(w)\n",
    "plt.bar(list(range(8)), list(word_attns[w].values()))"
   ]
  },
  {
   "cell_type": "code",
   "execution_count": 290,
   "metadata": {},
   "outputs": [
    {
     "data": {
      "text/plain": [
       "<BarContainer object of 8 artists>"
      ]
     },
     "execution_count": 290,
     "metadata": {},
     "output_type": "execute_result"
    },
    {
     "data": {
      "image/png": "[encoded data removed]",
      "text/plain": [
       "<Figure size 432x288 with 1 Axes>"
      ]
     },
     "metadata": {
      "needs_background": "light"
     },
     "output_type": "display_data"
    }
   ],
   "source": [
    "w = \"algo\"\n",
    "plt.title(w)\n",
    "plt.bar(list(range(8)), list(word_attns[w].values()))"
   ]
  },
  {
   "cell_type": "markdown",
   "metadata": {},
   "source": [
    "Casi toda la atención a los modificadores (polarity reversers y polarity shifters, https://wiltrud.hwro.de/teaching/sentan12s/polarity_modifiers.pdf) se concentra en el cabezal 0."
   ]
  },
  {
   "cell_type": "code",
   "execution_count": 119,
   "metadata": {},
   "outputs": [
    {
     "data": {
      "image/png": "[encoded data removed]",
      "text/plain": [
       "<Figure size 1080x576 with 8 Axes>"
      ]
     },
     "metadata": {
      "needs_background": "light"
     },
     "output_type": "display_data"
    }
   ],
   "source": [
    "fig, ax = plt.subplots(2, 4, sharex=True, sharey=True)\n",
    "fig.set_figheight(8)\n",
    "fig.set_figwidth(15)\n",
    "\n",
    "#fig.suptitle('Attention')\n",
    "\n",
    "ax[1, 0].set_xticks([i for i in range(8)])\n",
    "\n",
    "w1 = \"no\"\n",
    "w2 = \"nunca\"\n",
    "w3 = \"nada\"\n",
    "w4 = \"apenas\"\n",
    "w5 = \"si\"\n",
    "w6 = \"siempre\"\n",
    "w7 = \"todo\"\n",
    "w8 = \"algo\"\n",
    "\n",
    "ax[0, 0].set_title(w1)\n",
    "ax[0, 1].set_title(w2)\n",
    "ax[0, 2].set_title(w3)\n",
    "ax[0, 3].set_title(w4)\n",
    "ax[1, 0].set_title(w5)\n",
    "ax[1, 1].set_title(w6)\n",
    "ax[1, 2].set_title(w7)\n",
    "ax[1, 3].set_title(w8)\n",
    "\n",
    "x1 = x1 = x2 = x3 = x4 = x5 = x6 = x7 = x8 = list(range(8))\n",
    "\n",
    "y1 = list(word_attns[w1].values())\n",
    "y2 = list(word_attns[w2].values())\n",
    "y3 = list(word_attns[w3].values())\n",
    "y4 = list(word_attns[w4].values())\n",
    "y5 = list(word_attns[w5].values())\n",
    "y6 = list(word_attns[w6].values())\n",
    "y7 = list(word_attns[w7].values())\n",
    "y8 = list(word_attns[w8].values())\n",
    "\n",
    "fig.subplots_adjust(wspace=0.2, hspace=0.2)\n",
    "\n",
    "ax[0, 0].bar(x1, y1)\n",
    "ax[0, 1].bar(x2, y2)\n",
    "ax[0, 2].bar(x3, y3)\n",
    "ax[0, 3].bar(x4, y4)\n",
    "ax[1, 0].bar(x5, y5)\n",
    "ax[1, 1].bar(x6, y6)\n",
    "ax[1, 2].bar(x7, y7)\n",
    "ax[1, 3].bar(x8, y8)\n",
    "\n",
    "fig.savefig(\"shifters.pdf\", bbox_inches='tight')"
   ]
  },
  {
   "cell_type": "markdown",
   "metadata": {},
   "source": [
    "# Ver las palabras que maximizan la atención de cada cabezal"
   ]
  },
  {
   "cell_type": "code",
   "execution_count": 291,
   "metadata": {},
   "outputs": [],
   "source": [
    "headers = {0:[], 1:[], 2:[], 3:[], 4:[], 5:[], 6:[], 7:[]}"
   ]
  },
  {
   "cell_type": "code",
   "execution_count": 292,
   "metadata": {},
   "outputs": [],
   "source": [
    "for word in word_attns.keys():\n",
    "    for h in headers:\n",
    "        headers[h].append((word, word_attns[word][h]))\n",
    "        \n",
    "for h in headers:\n",
    "    headers[h].sort(key=lambda tup: tup[1], reverse=True)"
   ]
  },
  {
   "cell_type": "code",
   "execution_count": 293,
   "metadata": {},
   "outputs": [
    {
     "data": {
      "text/plain": [
       "[('deprimida', 0.9999945958455404),\n",
       " ('resignado', 0.9998782475789388),\n",
       " ('raro', 0.9998567899068197),\n",
       " ('muriendo', 0.9997968077659607),\n",
       " ('cansado', 0.9997426277551895),\n",
       " ('diria', 0.9956971044125764),\n",
       " ('perdoname', 0.9953701496124268),\n",
       " ('jodido', 0.9953599993387859),\n",
       " ('jodidos', 0.9949414730072021),\n",
       " ('melancolia', 0.9916713578360421),\n",
       " ('asustado', 0.9886963844299317),\n",
       " ('grasioso', 0.9877354303995768),\n",
       " ('triste', 0.9877258863903228),\n",
       " ('vacia', 0.9853814670017788),\n",
       " ('imagino', 0.9851462322732677),\n",
       " ('pobre', 0.9846955721194928),\n",
       " ('apena', 0.9830211457752046),\n",
       " ('soportas', 0.9789827346801758),\n",
       " ('echo', 0.977647521279075),\n",
       " ('enfadado', 0.9756386280059814),\n",
       " ('hipocrita', 0.9749569892883301),\n",
       " ('deprime', 0.9737548828125),\n",
       " ('expresa', 0.9726239310370551),\n",
       " ('insoportable', 0.9713117936078239),\n",
       " ('odio', 0.9711576339591788),\n",
       " ('preocupado', 0.971133804321289),\n",
       " ('inocente', 0.9708276228471235),\n",
       " ('temo', 0.9643850326538086),\n",
       " ('soporto', 0.9607435862223307),\n",
       " ('ardido', 0.9592220908717105),\n",
       " ('lloro', 0.9572621320749257),\n",
       " ('dificil', 0.9571993865218817),\n",
       " ('jodida', 0.9548171588352748),\n",
       " ('feo', 0.9546700477600097),\n",
       " ('jope', 0.95375107074606),\n",
       " ('estes', 0.9525066557384673),\n",
       " ('bajon', 0.9512092045375279),\n",
       " ('roto', 0.9509992218017578),\n",
       " ('dejaras', 0.9504203200340271),\n",
       " ('preocupa', 0.9490101026452106),\n",
       " ('podre', 0.9481809322650616),\n",
       " ('merecia', 0.9464180204603407),\n",
       " ('quite', 0.9420259182269757),\n",
       " ('desprecio', 0.9395820829603407),\n",
       " ('deseo', 0.9383288171556261),\n",
       " ('habla', 0.935425789125504),\n",
       " ('saturado', 0.9327434193004261),\n",
       " ('suda', 0.9230957712445941),\n",
       " ('salvas', 0.9205391223614032),\n",
       " ('conoci', 0.912888577109889),\n",
       " ('resfriado', 0.9094725608825683),\n",
       " ('alma', 0.9000116547727897),\n",
       " ('siente', 0.8984987395150321),\n",
       " ('tocado', 0.8904126208761464),\n",
       " ('duele', 0.8883526330931574),\n",
       " ('siento', 0.8834256596035428),\n",
       " ('destrozaba', 0.8790725980486188),\n",
       " ('encontremos', 0.878704833984375),\n",
       " ('envidia', 0.8759129387991769),\n",
       " ('encuentre', 0.8752598128355373),\n",
       " ('explotara', 0.8723234879343134),\n",
       " ('tranquilo', 0.8676365448703401),\n",
       " ('haran', 0.8651097869873047),\n",
       " ('fallecido', 0.8604032397270203),\n",
       " ('alegro', 0.855238885322939),\n",
       " ('enamoro', 0.8551540374755859),\n",
       " ('harta', 0.854190938612994),\n",
       " ('muerto', 0.8539839701219039),\n",
       " ('pasara', 0.853951993195907),\n",
       " ('muero', 0.8440860572614168),\n",
       " ('rara', 0.8424125656249032),\n",
       " ('pasaria', 0.8398495250278049),\n",
       " ('usual', 0.8387285315472147),\n",
       " ('tristes', 0.8372894633900035),\n",
       " ('ghazi', 0.8359476944495892),\n",
       " ('descarada', 0.8356172180175782),\n",
       " ('bonica', 0.8349748452504476),\n",
       " ('oscuridad', 0.8347170617845323),\n",
       " ('eternos', 0.8319757461547852),\n",
       " ('despierto', 0.8277342319488525),\n",
       " ('peor', 0.8198698362407885),\n",
       " ('feliz', 0.8198274721272554),\n",
       " ('sad', 0.8126711845397949),\n",
       " ('sientes', 0.8120403289794922),\n",
       " ('convenza', 0.8052751159667969),\n",
       " ('nerviosa', 0.8002845446268717),\n",
       " ('caeran', 0.7977451177743765),\n",
       " ('bonita', 0.796719450242713),\n",
       " ('reventado', 0.7944557189941406),\n",
       " ('ayude', 0.7929661399439761),\n",
       " ('cansando', 0.7913087209065756),\n",
       " ('siguiera', 0.7866968675093218),\n",
       " ('coraje', 0.7840061187744141),\n",
       " ('desvive', 0.782249010526217),\n",
       " ('corazon', 0.7814421727107121),\n",
       " ('perverso', 0.7772812843322754),\n",
       " ('despreciable', 0.7761153493608747),\n",
       " ('picado', 0.7643085320790609),\n",
       " ('viva', 0.7599542866582456),\n",
       " ('eliminada', 0.7587760925292969),\n",
       " ('pervertido', 0.7587491273880005),\n",
       " ('hecho', 0.7538075802862427),\n",
       " ('sobredosis', 0.7527511119842529),\n",
       " ('parido', 0.7526038487752279),\n",
       " ('kinox', 0.7499322891235352),\n",
       " ('ultimamente', 0.7499200647527521),\n",
       " ('cambiado', 0.7470324834187826),\n",
       " ('aguanto', 0.7466094493865967),\n",
       " ('hablando', 0.7454697291056316),\n",
       " ('enfermizo', 0.744662094116211),\n",
       " ('tentado', 0.7396142062018899),\n",
       " ('quejo', 0.7376458048820496),\n",
       " ('hubiese', 0.7373501321543818),\n",
       " ('oficia', 0.736742453141646),\n",
       " ('olvidaban', 0.7338457107543945),\n",
       " ('proporcional', 0.7332656383514404),\n",
       " ('fries', 0.7320002194108635),\n",
       " ('entiende', 0.7316865452698299),\n",
       " ('esperaba', 0.7308858389141916),\n",
       " ('desgracia', 0.7307286262512207),\n",
       " ('nerviosita', 0.7295974890391032),\n",
       " ('celebran', 0.7289653015136719),\n",
       " ('enamorados', 0.7271467049916586),\n",
       " ('pasaran', 0.7253704071044922),\n",
       " ('lejos', 0.7224267262678881),\n",
       " ('enfrentan', 0.7166463306971959),\n",
       " ('tranquila', 0.7142763431837853),\n",
       " ('insufrible', 0.7013656616210937),\n",
       " ('maricarmen', 0.701281840984638),\n",
       " ('borrao', 0.6986385981241862),\n",
       " ('calleron', 0.6983276094709124),\n",
       " ('iria', 0.6951270267881197),\n",
       " ('contactado', 0.6947344462076823),\n",
       " ('imaginas', 0.6944712588661596),\n",
       " ('rodillas', 0.6937425231933594),\n",
       " ('comprendo', 0.6895603073967828),\n",
       " ('hacias', 0.6873206225308505),\n",
       " ('gracioso', 0.6861152459969331),\n",
       " ('despierte', 0.6672292209806896),\n",
       " ('princeso', 0.6643833160400391),\n",
       " ('hiciera', 0.663909117380778),\n",
       " ('llevado', 0.6631730686534535),\n",
       " ('acordarme', 0.6613444827851795),\n",
       " ('olvidado', 0.6560905825707221),\n",
       " ('idiota', 0.6480106006969105),\n",
       " ('dormido', 0.6423442062840613),\n",
       " ('valdria', 0.6361558777945382),\n",
       " ('aprendido', 0.6353829457209661),\n",
       " ('morir', 0.6296061347512638),\n",
       " ('encantado', 0.6172684616512722),\n",
       " ('caia', 0.6101616621017456),\n",
       " ('penuria', 0.6084984824770973),\n",
       " ('encontrarte', 0.6063760121663412),\n",
       " ('recordado', 0.6049214143019456),\n",
       " ('aprecio', 0.6019959883256392),\n",
       " ('bonito', 0.6015847765940412),\n",
       " ('tuviera', 0.6011649131774902),\n",
       " ('suicida', 0.5982586145401001),\n",
       " ('admiracion', 0.59816468556722),\n",
       " ('ojala', 0.5975453989764096),\n",
       " ('pasado', 0.5969266152429046),\n",
       " ('hubiera', 0.5952908828340728),\n",
       " ('flipado', 0.5853567476625796),\n",
       " ('romantico', 0.5845027287801107),\n",
       " ('apagado', 0.5837510426839193),\n",
       " ('vivo', 0.5830500523249308),\n",
       " ('comi', 0.5796505610148112),\n",
       " ('desagradable', 0.5784408889220426),\n",
       " ('kk', 0.5648901121956962),\n",
       " ('visto', 0.5626071948696775),\n",
       " ('talado', 0.5621203874286852),\n",
       " ('ayudame', 0.5603359699249267),\n",
       " ('duro', 0.5565997795822719),\n",
       " ('pudo', 0.5532011557848026),\n",
       " ('cansada', 0.5380571484565735),\n",
       " ('matinales', 0.5364291508992513),\n",
       " ('echado', 0.534248385252776),\n",
       " ('descansa', 0.5327195387620193),\n",
       " ('contenta', 0.5316923459370931),\n",
       " ('intimidas', 0.5305021286010743),\n",
       " ('calla', 0.528867016667905),\n",
       " ('representando', 0.5283633784243935),\n",
       " ('luchando', 0.5269943036531147),\n",
       " ('combates', 0.5226318619467996),\n",
       " ('hara', 0.5200213415126124),\n",
       " ('imaginaba', 0.5196894364080568),\n",
       " ('guapo', 0.5165597130270565),\n",
       " ('espero', 0.5155819433261427),\n",
       " ('amo', 0.5153413772583008),\n",
       " ('querencia', 0.509429391225179),\n",
       " ('grotesco', 0.5068369820004418),\n",
       " ('hablar', 0.49915304183959963),\n",
       " ('lindo', 0.49587722761290415),\n",
       " ('bona', 0.4937785299200761),\n",
       " ('ocupado', 0.49092578887939453),\n",
       " ('desorden', 0.4901066848209926),\n",
       " ('normal', 0.4869830433418512),\n",
       " ('vigilado', 0.4860827739422138),\n",
       " ('grata', 0.48475217819213867),\n",
       " ('podria', 0.48371086120605467),\n",
       " ('escuchaba', 0.47603156831529403),\n",
       " ('encantan', 0.47446635917381),\n",
       " ('miedo', 0.4737295389175415),\n",
       " ('representa', 0.4721326389733483),\n",
       " ('podido', 0.47136939828618996),\n",
       " ('gerald', 0.4615522027015686),\n",
       " ('gustando', 0.4606470220229205),\n",
       " ('felices', 0.45775522905237537),\n",
       " ('lendo', 0.4573764006296794),\n",
       " ('exprese', 0.45389765280264394),\n",
       " ('felicidades', 0.45244699788816045),\n",
       " ('sadboy', 0.4505181908607483),\n",
       " ('horrible', 0.4502759873867035),\n",
       " ('cumple', 0.44546821382310653),\n",
       " ('desvelare', 0.44353817127369066),\n",
       " ('dormir', 0.440647532507626),\n",
       " ('mutuo', 0.44045282204945885),\n",
       " ('facil', 0.43953627347946167),\n",
       " ('cargado', 0.43894515718732563),\n",
       " ('emo', 0.4374574933733259),\n",
       " ('seve', 0.437451408022926),\n",
       " ('incoherente', 0.4371489611538974),\n",
       " ('mala', 0.436503382391809),\n",
       " ('veia', 0.43574051423506305),\n",
       " ('roben', 0.42943878173828126),\n",
       " ('oscuro', 0.4277831245871151),\n",
       " ('resuelven', 0.4256753921508789),\n",
       " ('asqueroso', 0.4218265284662661),\n",
       " ('inviable', 0.4209158637306907),\n",
       " ('decepcionaron', 0.4200505869729178),\n",
       " ('ojos', 0.41902613639831543),\n",
       " ('jugare', 0.4178783595561981),\n",
       " ('olvidarme', 0.41453594631618923),\n",
       " ('dura', 0.41051780531326165),\n",
       " ('pena', 0.41019301032708366),\n",
       " ('lees', 0.4074544906616211),\n",
       " ('harto', 0.40578354321993315),\n",
       " ('clasico', 0.38934306303660077),\n",
       " ('titanic', 0.38455150127410886),\n",
       " ('reunidos', 0.3839961460658482),\n",
       " ('dejado', 0.38359496707008),\n",
       " ('sorprendente', 0.3812901633126395),\n",
       " ('duerme', 0.37981494267781574),\n",
       " ('ensucio', 0.3728371227488798),\n",
       " ('autoestima', 0.3719639096941267),\n",
       " ('calladito', 0.37094696044921877),\n",
       " ('maldita', 0.36947213686429536),\n",
       " ('vuelva', 0.3692082677568708),\n",
       " ('explotado', 0.3665514833786908),\n",
       " ('imposible', 0.36312415383078833),\n",
       " ('paz', 0.3594360766203507),\n",
       " ('coincidimos', 0.35877758661905923),\n",
       " ('david', 0.35772429193769184),\n",
       " ('maravilloso', 0.3561467110241035),\n",
       " ('jo', 0.35344524671743205),\n",
       " ('respondido', 0.3523599563106414),\n",
       " ('cojo', 0.3493376211686568),\n",
       " ('mojado', 0.3491551535470145),\n",
       " ('desierta', 0.34897845132010324),\n",
       " ('verte', 0.34894017858066784),\n",
       " ('desafeccion', 0.3483565371969472),\n",
       " ('prontisimo', 0.34632705052693685),\n",
       " ('llorar', 0.3445646959560992),\n",
       " ('vives', 0.3435784846871764),\n",
       " ('acabar', 0.33905791081594266),\n",
       " ('paciencia', 0.3389357685560157),\n",
       " ('lian', 0.33791937146868023),\n",
       " ('toca', 0.33711005793595167),\n",
       " ('muerte', 0.3366717569122475),\n",
       " ('precioso', 0.33530468823959764),\n",
       " ('despejarme', 0.3324594497680664),\n",
       " ('aburrir', 0.3268594008225661),\n",
       " ('segura', 0.3267110895227503),\n",
       " ('merece', 0.324843168258667),\n",
       " ('lee', 0.3243816517017506),\n",
       " ('bollera', 0.32187630732854206),\n",
       " ('hermosa', 0.3218603350899436),\n",
       " ('hayan', 0.3195253478156196),\n",
       " ('feelsbadman', 0.31317547389439176),\n",
       " ('desilusion', 0.3101025494662198),\n",
       " ('encontrado', 0.30932212902439965),\n",
       " ('grande', 0.3091468155192782),\n",
       " ('ego', 0.3063655694325765),\n",
       " ('adiccion', 0.30541961843317206),\n",
       " ('rebeca', 0.30313344796498615),\n",
       " ('recuerdo', 0.30234098107611806),\n",
       " ('problemas', 0.30129426585303415),\n",
       " ('tatuado', 0.2987971586339614),\n",
       " ('cansa', 0.2961161447607953),\n",
       " ('pienso', 0.29389784449622747),\n",
       " ('andaban', 0.29316184255811906),\n",
       " ('pronuncian', 0.2926764488220215),\n",
       " ('coloquial', 0.29167129776694556),\n",
       " ('marrana', 0.28957658343844944),\n",
       " ('cansina', 0.2890281175312243),\n",
       " ('atendido', 0.2852080593938413),\n",
       " ('tenido', 0.2838497081071769),\n",
       " ('cagada', 0.28334592069898334),\n",
       " ('nu', 0.2803820830125075),\n",
       " ('fuistes', 0.2779831886291504),\n",
       " ('urgente', 0.27385934193929035),\n",
       " ('harias', 0.273368541438787),\n",
       " ('ay', 0.2703446006774902),\n",
       " ('terrible', 0.2698689103126526),\n",
       " ('bronquitis', 0.26185057713435245),\n",
       " ('solian', 0.2586794137954712),\n",
       " ('tanto', 0.2580903772396735),\n",
       " ('esperanza', 0.25652052374447093),\n",
       " ('sepa', 0.25581738154093425),\n",
       " ('\"', 0.2539285261925142),\n",
       " ('trabajando', 0.25221786397026186),\n",
       " ('confundio', 0.250981436835395),\n",
       " ('sacado', 0.2506938197396018),\n",
       " ('vea', 0.2500892139616467),\n",
       " ('coincida', 0.2468782951091898),\n",
       " ('acabado', 0.24528127366846258),\n",
       " ('sonreir', 0.24500832532460873),\n",
       " ('esperar', 0.24493969403780425),\n",
       " ('dinero', 0.24431374026957342),\n",
       " ('enamora', 0.2435925006866455),\n",
       " ('rodeado', 0.2431710334051223),\n",
       " ('flautas', 0.2430600779397147),\n",
       " ('temprano', 0.24304689251802825),\n",
       " ('vuelto', 0.24192444533109664),\n",
       " ('creer', 0.24125375747680664),\n",
       " ('mierda', 0.23936573064358777),\n",
       " ('pagan', 0.23923683919404684),\n",
       " ('ti', 0.23917888150422736),\n",
       " ('viendo', 0.23683421941948873),\n",
       " ('cago', 0.23636079307586427),\n",
       " ('comprao', 0.23581121278845746),\n",
       " ('embarazada', 0.23509713808695476),\n",
       " ('celebrar', 0.2340038882361518),\n",
       " ('recuerdos', 0.23375209740230016),\n",
       " ('jugarsela', 0.23338186740875244),\n",
       " ('posibilidades', 0.23323376973470053),\n",
       " ('manchester', 0.2313187847966733),\n",
       " ('lavas', 0.22904292174748012),\n",
       " ('comun', 0.2289001430783953),\n",
       " ('haciendo', 0.22805938720703126),\n",
       " ('hablaremos', 0.22801109949747722),\n",
       " ('dulce', 0.22656763516939604),\n",
       " ('grasias', 0.22648507356643677),\n",
       " ('mediocres', 0.22479939460754395),\n",
       " ('seguidas', 0.22414273482102615),\n",
       " ('ouch', 0.2218887276119656),\n",
       " ('aquel', 0.2188127769364251),\n",
       " ('pensaba', 0.2154856750700209),\n",
       " ('sniff', 0.21005044485393323),\n",
       " ('mirame', 0.20993076960245768),\n",
       " ('ganado', 0.20830353375138908),\n",
       " ('hacen', 0.20803471293950837),\n",
       " ('leido', 0.20734165100351212),\n",
       " ('haces', 0.206172026613402),\n",
       " ('fatal', 0.20540781678824588),\n",
       " ('derrito', 0.20474652143625113),\n",
       " ('encantaban', 0.20408869748088446),\n",
       " ('agobiado', 0.20283616506136382),\n",
       " ('frita', 0.2025303840637207),\n",
       " ('limitacion', 0.20149589909447563),\n",
       " ('pendiente', 0.20066775381565094),\n",
       " ('contestado', 0.2003007067574395),\n",
       " ('animado', 0.19933076883252296),\n",
       " ('muchisimo', 0.19872572238628683),\n",
       " ('adorable', 0.19762971666124132),\n",
       " ('encontrada', 0.19660396575927735),\n",
       " ('haga', 0.19425270136664896),\n",
       " ('lleguen', 0.19381627582368396),\n",
       " ('sin', 0.19336396712910667),\n",
       " ('molan', 0.18778288991827713),\n",
       " ('queriendo', 0.18547991343906947),\n",
       " ('mismos', 0.18436366540414315),\n",
       " ('din', 0.1794843872388204),\n",
       " ('tarde', 0.17926794154192108),\n",
       " ('fueran', 0.17757843335469564),\n",
       " ('barce', 0.1762782782316208),\n",
       " ('sere', 0.17284747532435826),\n",
       " ('camino', 0.16894034238962027),\n",
       " ('cierto', 0.1687889254128027),\n",
       " ('sigues', 0.168732452101406),\n",
       " ('escrita', 0.16820494695143265),\n",
       " ('rica', 0.1669003497652647),\n",
       " ('guapisimo', 0.1654743921189081),\n",
       " ('cueva', 0.16120105130331858),\n",
       " ('pedos', 0.1603631019592285),\n",
       " ('conoces', 0.1595503531004253),\n",
       " ('ido', 0.1595298132749014),\n",
       " ('frio', 0.15895559169628),\n",
       " ('conozco', 0.15726134024168315),\n",
       " ('dolor', 0.15448847271147229),\n",
       " ('puta', 0.15412955311691093),\n",
       " ('abrazo', 0.1529099925616641),\n",
       " ('contentas', 0.15163549780845642),\n",
       " ('meo', 0.15152978897094727),\n",
       " ('matalo', 0.14806067943572998),\n",
       " ('follen', 0.14660200865372366),\n",
       " ('vete', 0.1458782522301925),\n",
       " ('juntos', 0.14480060393775337),\n",
       " ('chulada', 0.14235973358154297),\n",
       " ('mimimi', 0.14146050385066442),\n",
       " ('noel', 0.1399216651916504),\n",
       " ('pensado', 0.13954327323219992),\n",
       " ('vergonzosa', 0.13930376716282056),\n",
       " ('busco', 0.13873182402716744),\n",
       " ('pudieras', 0.13817239265370337),\n",
       " ('solidaridad', 0.13769632294064477),\n",
       " ('perzona', 0.13740381327542392),\n",
       " ('poca', 0.13710005581378937),\n",
       " ('mal', 0.13689630072098216),\n",
       " ('jarque', 0.13649426187787736),\n",
       " ('sabe', 0.136308683388763),\n",
       " ('seria', 0.13610559667551295),\n",
       " ('llevan', 0.13551216466086252),\n",
       " ('solos', 0.1350437147276742),\n",
       " ('sentirme', 0.13434532710484096),\n",
       " ('encantaria', 0.13036601032529557),\n",
       " ('rio', 0.1303553700283401),\n",
       " ('juro', 0.13005442704473225),\n",
       " ('preguntadle', 0.12982525364045175),\n",
       " ('habria', 0.127532696723938),\n",
       " ('saquen', 0.12716195980707803),\n",
       " ('tampouco', 0.1263675590356191),\n",
       " ('pota', 0.12470655143260956),\n",
       " ('disfrutaras', 0.1245860606431961),\n",
       " ('hizo', 0.12430493856643464),\n",
       " ('quedaban', 0.12421784632735783),\n",
       " ('pasan', 0.12420242235712382),\n",
       " ('asco', 0.12140711616067325),\n",
       " ('da', 0.12128211239429625),\n",
       " ('util', 0.12018698692321778),\n",
       " ('peleas', 0.11993065476417542),\n",
       " ('crush', 0.11840631411625789),\n",
       " ('tonta', 0.11671110153198243),\n",
       " ('problema', 0.11589021682739258),\n",
       " ('fan', 0.11534544944763184),\n",
       " ('esperando', 0.1132544365482054),\n",
       " ('felicitaria', 0.11316269415396231),\n",
       " ('encuentro', 0.1129619649645907),\n",
       " ('acuerd', 0.11217064207250421),\n",
       " ('existe', 0.11210796780056423),\n",
       " ('contigo', 0.1120318999657264),\n",
       " ('moral', 0.11007500611818753),\n",
       " ('deseando', 0.10950334866841634),\n",
       " ('pizza', 0.10852900005522229),\n",
       " ('malo', 0.10723635171621397),\n",
       " ('acepta', 0.10697328050931294),\n",
       " ('otako', 0.10640509639467512),\n",
       " ('vomitar', 0.10561832162466916),\n",
       " ('entrado', 0.10557788610458374),\n",
       " ('leyendas', 0.10519267212260854),\n",
       " ('haser', 0.10489988327026367),\n",
       " ('nini', 0.10459193388621012),\n",
       " ('vaticina', 0.10431826742071855),\n",
       " ('estoy', 0.10397918912759989),\n",
       " ('bon', 0.10356071591377258),\n",
       " ('vi', 0.10298225032313475),\n",
       " ('viciar', 0.10173997282981873),\n",
       " ('j', 0.1017207940419515),\n",
       " ('felicidad', 0.09937484124127556),\n",
       " ('loser', 0.09876339002089067),\n",
       " ('apagues', 0.09874865641960731),\n",
       " ('/', 0.09793333212534587),\n",
       " ('dijo', 0.09759634183684071),\n",
       " ('parecido', 0.09699091703995415),\n",
       " ('mames', 0.09561573891412645),\n",
       " ('comprado', 0.09540259319802989),\n",
       " ('estaria', 0.09473850176884578),\n",
       " ('jugando', 0.09454499681790669),\n",
       " ('fuera', 0.09389825475431676),\n",
       " ('propongo', 0.09327074333473488),\n",
       " ('dudas', 0.09190920683053824),\n",
       " ('necesito', 0.09100031598203623),\n",
       " ('adorables', 0.09045394829341344),\n",
       " ('respeto', 0.09027046866905994),\n",
       " ('pensando', 0.08903393639911035),\n",
       " ('surfear', 0.08898764848709106),\n",
       " ('niebla', 0.08836799509385053),\n",
       " ('perico', 0.0874646646635873),\n",
       " ('han', 0.08735574045718643),\n",
       " ('dicen', 0.08694454840872258),\n",
       " ('sensacion', 0.0868514080842336),\n",
       " ('pateando', 0.0867066712215029),\n",
       " ('noches', 0.08657391484649408),\n",
       " ('lamentablemente', 0.0863736697605678),\n",
       " ('pagamos', 0.0857978996477629),\n",
       " ('dios', 0.08422123007914599),\n",
       " ('pelis', 0.0840298158151132),\n",
       " ('puedas', 0.083681998429475),\n",
       " ('sentido', 0.08365428998432536),\n",
       " ('ganare', 0.08361205561407681),\n",
       " ('l', 0.08323115315386859),\n",
       " ('destrozar', 0.08303360641002655),\n",
       " ('volvere', 0.08198625564575196),\n",
       " ('sido', 0.08117091747477886),\n",
       " ('piano', 0.08051548898220062),\n",
       " ('vacaciones', 0.07999962568283081),\n",
       " ('enamoradisima', 0.07977348069349925),\n",
       " ('interesa', 0.07953476160764694),\n",
       " ('salen', 0.07939415987536841),\n",
       " ('opine', 0.07884326934814453),\n",
       " ('perdona', 0.07867913586752755),\n",
       " ('digamos', 0.078408203125),\n",
       " ('episodio', 0.07820701599121094),\n",
       " ('presente', 0.07796860592705863),\n",
       " ('hazme', 0.07646374268965288),\n",
       " ('audios', 0.07627728352179894),\n",
       " ('oido', 0.07611083984375),\n",
       " ('cantas', 0.07599853333972749),\n",
       " ('pagar', 0.07599302808286644),\n",
       " ('dicho', 0.07580515488640586),\n",
       " ('realidad', 0.07569151970103621),\n",
       " ('losers', 0.07549136877059937),\n",
       " ('brillo', 0.07493770122528076),\n",
       " ('parecen', 0.07463320255279542),\n",
       " ('exo', 0.07377566231621636),\n",
       " ('todos', 0.07373054092645734),\n",
       " ('fallan', 0.07343788941701253),\n",
       " ('sacar', 0.07313162630254572),\n",
       " ('bichos', 0.07232941190401714),\n",
       " ('abarcar', 0.07216243310408159),\n",
       " ('portatil', 0.07167565822601318),\n",
       " ('lugano', 0.0713292807340622),\n",
       " ('nunca', 0.07120176838743607),\n",
       " ('dices', 0.0708210523841291),\n",
       " ('polla', 0.070675746254299),\n",
       " ('noche', 0.07055899631619066),\n",
       " ('piscina', 0.07002278310911995),\n",
       " ('den', 0.06937519709269206),\n",
       " ('cutie', 0.06910649367741176),\n",
       " ('boca', 0.06871935725212097),\n",
       " ('ruido', 0.06795269913143581),\n",
       " ('venda', 0.06783976725169591),\n",
       " ('gral', 0.0675062049518932),\n",
       " ('significa', 0.06744332875385049),\n",
       " ('favoritos', 0.06668231767766616),\n",
       " ('trabajar', 0.066094644781616),\n",
       " ('comparamos', 0.06526190983621698),\n",
       " ('piro', 0.06514844298362732),\n",
       " ('saldra', 0.06503232787637149),\n",
       " ('preciosa', 0.06449821260240343),\n",
       " ('revelacion', 0.06385397911071777),\n",
       " ('terminar', 0.06359185491289411),\n",
       " ('cerebral', 0.06317440420389175),\n",
       " ('morado', 0.06285922635685313),\n",
       " ('deje', 0.06176156856091086),\n",
       " ('familia', 0.060953885028138755),\n",
       " ('malas', 0.06083393581746298),\n",
       " ('seas', 0.06015140776123319),\n",
       " ('romper', 0.060114350627388874),\n",
       " ('pedir', 0.05988250787441547),\n",
       " ('sola', 0.05850078951981333),\n",
       " ('honrados', 0.05785702168941498),\n",
       " ('idolo', 0.057336819799322834),\n",
       " ('voces', 0.057176075875759125),\n",
       " ('entendido', 0.05674702188243037),\n",
       " ('my', 0.055609793890090214),\n",
       " ('caes', 0.05556407407345762),\n",
       " ('cuarto', 0.05535253675355176),\n",
       " ('parezco', 0.05514290657910434),\n",
       " ('sigo', 0.05444769950376616),\n",
       " ('jugados', 0.05400597421746505),\n",
       " ('entre', 0.052178494429707845),\n",
       " ('cae', 0.051815614104270935),\n",
       " ('prefiero', 0.05181158625561258),\n",
       " ('duran', 0.051534485816955564),\n",
       " ('hueco', 0.051238146695223724),\n",
       " ('decir', 0.05110978697848312),\n",
       " ('declaro', 0.051069452649071104),\n",
       " ('abocado', 0.05091590682665507),\n",
       " ('considere', 0.050644251016470104),\n",
       " ('genial', 0.05016796494580201),\n",
       " ('i', 0.049866634033344404),\n",
       " ('coja', 0.0498080849647522),\n",
       " ('riri', 0.04923646979861789),\n",
       " ('documental', 0.048842658599217735),\n",
       " ('nerea', 0.04871693524447354),\n",
       " ('carita', 0.047588620867047994),\n",
       " ('guapa', 0.04709543155816694),\n",
       " ('-uno', 0.046991004393650934),\n",
       " ('ganas', 0.04684469485541668),\n",
       " ('mucho', 0.0463069557631447),\n",
       " ('andar', 0.04597748461223784),\n",
       " ('pensar', 0.04583250654154811),\n",
       " ('ranked', 0.04545123250174679),\n",
       " ('diga', 0.045200446259741685),\n",
       " ('octubre', 0.04444581985473633),\n",
       " ('claro', 0.04424153166750187),\n",
       " ('prontito', 0.04420628914466271),\n",
       " ('denada', 0.04401705752719532),\n",
       " ('pronto', 0.04381201448570882),\n",
       " ('creas', 0.04351791629084834),\n",
       " ('dejaba', 0.04343638970301701),\n",
       " ('c', 0.04342784331395076),\n",
       " ('marcos', 0.04334571585059166),\n",
       " ('to', 0.043093439605500966),\n",
       " ('barbaridad', 0.04303228259086609),\n",
       " ('razon', 0.04284042358398438),\n",
       " ('burguesito', 0.042143275340398155),\n",
       " ('gracias', 0.04209298467719084),\n",
       " ('dice', 0.04208383019996046),\n",
       " ('ovarios', 0.04208321798415411),\n",
       " ('fuerte', 0.041989124483532377),\n",
       " ('ayuda', 0.041833108121698555),\n",
       " ('exito', 0.04115965631273058),\n",
       " ('over', 0.041002693383590035),\n",
       " ('williams', 0.04085848881648137),\n",
       " ('cumpla', 0.040812526430402486),\n",
       " ('paint', 0.04078080132603645),\n",
       " ('pasar', 0.04025843807382366),\n",
       " ('verla', 0.04008294733263287),\n",
       " ('gafe', 0.039813596626807904),\n",
       " ('padre', 0.03944470167160034),\n",
       " ('entiendo', 0.038539738916110115),\n",
       " ('descargarme', 0.03794041146402773),\n",
       " ('quiere', 0.037796922705390236),\n",
       " ('borro', 0.03710821568965912),\n",
       " ('das', 0.03693982660770416),\n",
       " ('verda', 0.03669413924217224),\n",
       " ('cerrao', 0.036507228016853334),\n",
       " ('azulado', 0.03647144794464111),\n",
       " ('verlo', 0.036397898770576594),\n",
       " ('quejicas', 0.03597027063369751),\n",
       " ('alvaro', 0.03578373193740845),\n",
       " ('manyana', 0.03567667477097205),\n",
       " ('version', 0.03567652369016095),\n",
       " ('cosas', 0.035661376735230885),\n",
       " ('divisiones', 0.03554372400754974),\n",
       " ('culo', 0.03545947621266047),\n",
       " ('sabado', 0.03540217876434326),\n",
       " ('dejaron', 0.03536692119780041),\n",
       " ('piensa', 0.035103330687010964),\n",
       " ('estuvimos', 0.03450430503913335),\n",
       " ('nazismo', 0.034375445200846746),\n",
       " ('distraido', 0.03423876705623809),\n",
       " ('dia', 0.03399073726413346),\n",
       " ('vendeis', 0.0336762269337972),\n",
       " ('saben', 0.03343366472809403),\n",
       " ('merezco', 0.03334520384669304),\n",
       " ('nin', 0.033310573015894206),\n",
       " ('pes', 0.03330660150164649),\n",
       " ('isco', 0.03316807084613376),\n",
       " (\"'\", 0.03312478462855021),\n",
       " ('z', 0.033031538913124485),\n",
       " ('pasa', 0.032209531669629386),\n",
       " ('sol', 0.031939186644010735),\n",
       " ('llevo', 0.031934882654282945),\n",
       " ('presume', 0.031914954600126846),\n",
       " ('cojones', 0.031277281719705334),\n",
       " ('down', 0.03126081104936271),\n",
       " ('supongo', 0.031175138681945644),\n",
       " ('etiquetarme', 0.03070283748886802),\n",
       " ('ja', 0.03052536582400439),\n",
       " ('sana', 0.0302925705909729),\n",
       " ('cortan', 0.030277319492832307),\n",
       " ('conoce', 0.03017345905303955),\n",
       " (':', 0.02990361054738363),\n",
       " ('creo', 0.029815784235432626),\n",
       " ('llegara', 0.029581759657178606),\n",
       " ('obvia', 0.02955956757068634),\n",
       " ('catalunya', 0.029345518664309855),\n",
       " ('responde', 0.028879511924017044),\n",
       " ('princesa', 0.02863844980796178),\n",
       " ('mar', 0.028522909433492435),\n",
       " ('darme', 0.028513449430465698),\n",
       " ('dao', 0.028247496774119717),\n",
       " ('bendita', 0.028243701457977295),\n",
       " ('consigan', 0.02819807905899851),\n",
       " ('aludida', 0.02790121390269353),\n",
       " ('amigos', 0.027531737498589653),\n",
       " ('manos', 0.027460718856138343),\n",
       " ('verlos', 0.027047254822470924),\n",
       " ('social', 0.026811645328998567),\n",
       " ('carlos', 0.026702880859375),\n",
       " ('salir', 0.02642032749018964),\n",
       " ('guitarra', 0.026166400183802067),\n",
       " ('verdad', 0.026000193590174834),\n",
       " ('quedo', 0.025994711245099705),\n",
       " ('gloria', 0.02593381643295288),\n",
       " ('juande', 0.025593058930502996),\n",
       " ('goals', 0.025261167969022478),\n",
       " ('pretende', 0.025124671913328626),\n",
       " ('luchar', 0.024952004353205364),\n",
       " ('aplastaron', 0.024659031203814914),\n",
       " ('bonitos', 0.02456475155694144),\n",
       " ('puto', 0.02447160477809135),\n",
       " ('mil', 0.024411217589981122),\n",
       " ('escuchar', 0.024365276098251343),\n",
       " ('falsa', 0.024326021472613018),\n",
       " ('escuela', 0.024324586516932437),\n",
       " ('audio', 0.024297676303169945),\n",
       " ('cambiaron', 0.02410888864148048),\n",
       " ('cambien', 0.02400104845723798),\n",
       " ('canciones', 0.023637066044929354),\n",
       " ('caprichos', 0.02350839599967003),\n",
       " ('llegue', 0.02346727317689281),\n",
       " ('seres', 0.02343349584511348),\n",
       " ('robar', 0.02339557121539938),\n",
       " ('suerte', 0.023281343366334455),\n",
       " ('durais', 0.02283485799000181),\n",
       " ('atraigo', 0.022680504620075224),\n",
       " ('iwata', 0.02238769166999393),\n",
       " ('conocia', 0.022259563207626343),\n",
       " ('vayas', 0.02182120701362347),\n",
       " ('zi', 0.02179817313497717),\n",
       " ('mundo', 0.021621652868210245),\n",
       " ('pagarla', 0.02160100804434882),\n",
       " ('piscinas', 0.0215875506401062),\n",
       " ('dan', 0.02155644338199636),\n",
       " ('estabamos', 0.0215105896904355),\n",
       " ('doble', 0.021473256441263053),\n",
       " ('guay', 0.02143459413258106),\n",
       " ('expectante', 0.02128777167071467),\n",
       " ('sensible', 0.020681142807006836),\n",
       " ('julio', 0.020199034439255702),\n",
       " ('musica', 0.020022952870318765),\n",
       " ('falta', 0.019820700329891243),\n",
       " ('kills', 0.019721949542010273),\n",
       " ('demasiado', 0.01969007905619375),\n",
       " ('uy', 0.019635077033724104),\n",
       " ('-haber', 0.019506245851516724),\n",
       " ('sigue', 0.019499178443636214),\n",
       " ('sofocado', 0.01946784634339182),\n",
       " ('petarda', 0.019430011510849),\n",
       " ('sbs', 0.01940894623597463),\n",
       " ('zack', 0.019329378479405454),\n",
       " ('daba', 0.019145347008650955),\n",
       " ('enmarca', 0.018909238002918386),\n",
       " ('necesitan', 0.018805252654211863),\n",
       " ('barras', 0.01874009402174699),\n",
       " ('personita', 0.01834842324256897),\n",
       " ('chupar', 0.01832401876648267),\n",
       " ('pedo', 0.018104010506680136),\n",
       " ('mimitos', 0.01799611250559489),\n",
       " ('mosquito', 0.017831644043326378),\n",
       " ('gusta', 0.017749210224633494),\n",
       " ('anhelada', 0.017715736439353542),\n",
       " ('season', 0.017273943733285974),\n",
       " ('gustaria', 0.01720469676215073),\n",
       " ('cara', 0.017129648530714654),\n",
       " ('b', 0.016920448242244635),\n",
       " ('quede', 0.016519707441329957),\n",
       " ('complicaciones', 0.016414437604987103),\n",
       " ('depende', 0.016405819700314447),\n",
       " ('perrina', 0.01617524027824402),\n",
       " ('bibo', 0.01614246001610389),\n",
       " ('preparando', 0.015558017455417699),\n",
       " ('hecha', 0.015513590226570765),\n",
       " ('perfeccion', 0.015432033155645643),\n",
       " ('grandes', 0.015410635487309523),\n",
       " ('estudia', 0.015374639851339696),\n",
       " ('amable', 0.015335975421799554),\n",
       " ('acuerdan', 0.015300482511520386),\n",
       " ('comida', 0.015217853585879008),\n",
       " ('estaba', 0.015211561066370735),\n",
       " ('tontos', 0.015047570690512657),\n",
       " ('pro', 0.015033965761011297),\n",
       " ('ojo', 0.014955151293958937),\n",
       " ('queremos', 0.014790281653404236),\n",
       " ('peculiar', 0.014781749766805897),\n",
       " ('personas', 0.014769096541830432),\n",
       " ('confiar', 0.01473242927480627),\n",
       " ('crack', 0.014646699031194052),\n",
       " ('mates', 0.01442308337600143),\n",
       " ('casa', 0.014422646884257734),\n",
       " ('dentro', 0.014270712931950888),\n",
       " ('lameculos', 0.01418834924697876),\n",
       " ('mdt', 0.014178351163864136),\n",
       " ('moree', 0.01399221085011959),\n",
       " ('vimos', 0.013945698738098145),\n",
       " ('ire', 0.013929920852499665),\n",
       " ('bq', 0.013873410445672495),\n",
       " ('name', 0.013828193857556298),\n",
       " ('guste', 0.013729551807045937),\n",
       " ('mendizorroza', 0.01369148918560573),\n",
       " ('fluido', 0.013626841483292755),\n",
       " ('importante', 0.013538306951522827),\n",
       " ('dedicandome', 0.013520353219725868),\n",
       " ('bran', 0.013509438796476885),\n",
       " ('meno', 0.013409924727899057),\n",
       " ('completo', 0.013409621658779326),\n",
       " ('terminado', 0.013390541076660156),\n",
       " ('haber', 0.01337700398831532),\n",
       " ('ignorancia', 0.013279932737350463),\n",
       " ('pasando', 0.01322079449892044),\n",
       " ('horas', 0.013028079164813714),\n",
       " ('preocupes', 0.013003231026232243),\n",
       " ('omito', 0.012903691828250885),\n",
       " ('jugar', 0.01270774589798604),\n",
       " ('madrid', 0.012672548016551323),\n",
       " ('probe', 0.012643545866012573),\n",
       " ('dijiste', 0.012618998234922236),\n",
       " ('tenias', 0.012581352610141039),\n",
       " ('encargo', 0.012508314102888107),\n",
       " ('saxo', 0.012442140706947871),\n",
       " ('exacto', 0.012383957703908285),\n",
       " ('via', 0.01234396629863315),\n",
       " ('acuerdo', 0.01230086250738664),\n",
       " ('menos', 0.0122554194812457),\n",
       " ('hijos', 0.01222123691151219),\n",
       " ('7', 0.012213708034583501),\n",
       " ('presion', 0.01197899654507637),\n",
       " ('concierto', 0.011967605741127678),\n",
       " ('mirando', 0.011931481184782806),\n",
       " ('pagaba', 0.011810157786716114),\n",
       " ('son', 0.011717511594470932),\n",
       " ('pos', 0.011701924933327569),\n",
       " ('f', 0.011659855472630468),\n",
       " ('obligan', 0.011651923259099325),\n",
       " ('ocio', 0.011541372537612915),\n",
       " ('tendria', 0.011435120086241105),\n",
       " ('dado', 0.011383080772184383),\n",
       " ('hsm', 0.011362511132444655),\n",
       " ('aparecen', 0.011350968166401512),\n",
       " ('hijo', 0.01126696914434433),\n",
       " ('cabeza', 0.011251840276509849),\n",
       " ('parte', 0.011156353646927993),\n",
       " ('hora', 0.011089825740032),\n",
       " ('babe', 0.011022238859108515),\n",
       " ('biograficos', 0.010674605766932169),\n",
       " ('buscamos', 0.01049859904580646),\n",
       " ('autor', 0.010495601938321041),\n",
       " ('evidencia', 0.010444924235343933),\n",
       " ('diferente', 0.010438577695326372),\n",
       " ('tal', 0.010421747992857857),\n",
       " ('maravillosa', 0.01038169302046299),\n",
       " ('estea', 0.010348255219666855),\n",
       " ('bajado', 0.01025643151896518),\n",
       " ('comprarlas', 0.010255014354532415),\n",
       " ('valencia', 0.010243936152999988),\n",
       " ('homenajes', 0.010191603874166807),\n",
       " ('cortaste', 0.01008316253622373),\n",
       " ('viernes', 0.010014913976192474),\n",
       " ('club', 0.010008531181435836),\n",
       " ('aprende', 0.009976888341563088),\n",
       " ('rt', 0.00995493974143901),\n",
       " ('pase', 0.009887883901223927),\n",
       " ('levantar', 0.009856627384821574),\n",
       " ('ta', 0.009842573851346969),\n",
       " ('desnuda', 0.009803235530853271),\n",
       " ('avion', 0.009784768734659468),\n",
       " ('veces', 0.009723250810425002),\n",
       " ('libre', 0.009696967952750797),\n",
       " ('dispara', 0.009635624916929948),\n",
       " ('salio', 0.009511823239533798),\n",
       " ('sepan', 0.009467354842594691),\n",
       " ('sabia', 0.009423585665045362),\n",
       " ('deficit', 0.009378702867598761),\n",
       " ('iremos', 0.009363206724325815),\n",
       " ('criticar', 0.009317617991874957),\n",
       " ('elegir', 0.009192324110439845),\n",
       " ('stream', 0.00908841472119093),\n",
       " ('estable', 0.00907931640496808),\n",
       " ('classic', 0.009041127349649156),\n",
       " ('diias', 0.009022571470426477),\n",
       " ('mantengo', 0.009014740152148685),\n",
       " ('podriamos', 0.008998799209411327),\n",
       " ('estar', 0.008992554437325053),\n",
       " ('ganitas', 0.00889810360968113),\n",
       " ('ke', 0.008845171962793056),\n",
       " ('dudar', 0.008766201014320055),\n",
       " ('habernos', 0.008749505335634405),\n",
       " ('acabe', 0.008733136057853698),\n",
       " ('escapo', 0.00871512707736757),\n",
       " ('desaparecida', 0.008706477263023973),\n",
       " ('novena', 0.008671300342449775),\n",
       " ('acostumbrarse', 0.008498998528177088),\n",
       " ('siemprw', 0.008366194367408753),\n",
       " ('seguir', 0.0083556627785718),\n",
       " ('o', 0.008335193128862363),\n",
       " ('privada', 0.008332258638213663),\n",
       " ('juegas', 0.008285610936582088),\n",
       " ('elche', 0.00823375303298235),\n",
       " ('piti', 0.008171669167021046),\n",
       " ('cosita', 0.00816005486923616),\n",
       " ('estupendo', 0.008060619767223085),\n",
       " ('quedes', 0.008044278313373697),\n",
       " ('sobra', 0.007976044590274492),\n",
       " ('tengo', 0.00790872927468231),\n",
       " ('divorcio', 0.007875605456290706),\n",
       " ('memoria', 0.007836710004245533),\n",
       " ('hermano', 0.007732750339941545),\n",
       " ('nit', 0.007713525703078822),\n",
       " ('salvar', 0.0076339954137802125),\n",
       " ('mago', 0.007627913357943974),\n",
       " ('optimista', 0.007563661007831494),\n",
       " ('todo', 0.0075045350522117025),\n",
       " ('preparandome', 0.007496306465731727),\n",
       " ('crushes', 0.007417629659175873),\n",
       " ('carreras', 0.007407711552722114),\n",
       " ('recordar', 0.007401026863778253),\n",
       " ('responsabilidad', 0.007356973364949226),\n",
       " ('principal', 0.007282488875918918),\n",
       " ('pizzas', 0.007251305949120294),\n",
       " ('tiro', 0.007207044586539269),\n",
       " ('des', 0.0071995072066783905),\n",
       " ('reves', 0.007188317321595691),\n",
       " ('lorca', 0.007154262661933899),\n",
       " ('hacer', 0.007145251666632498),\n",
       " ('madre', 0.007125069014976445),\n",
       " ('ia', 0.007098001837730408),\n",
       " ('mandarlo', 0.007077585491869185),\n",
       " ('ir', 0.007069698271373974),\n",
       " ('repetidos', 0.007031177481015523),\n",
       " ('eres', 0.006961516989343045),\n",
       " ('tenia', 0.006939358346682973),\n",
       " ('capullo', 0.006838472826140267),\n",
       " ('tomar', 0.006824752936760585),\n",
       " ('inversamente', 0.00676730228587985),\n",
       " ('sean', 0.006742784879892936),\n",
       " ('ingeniosas', 0.006733053829520941),\n",
       " ('fuertes', 0.006728390002982658),\n",
       " ('luis', 0.006555022228331793),\n",
       " ('sencillo', 0.006509221814296863),\n",
       " ('all', 0.006467728452249007),\n",
       " ('dependientes', 0.006397332776995266),\n",
       " ('bronce', 0.006388834677636623),\n",
       " ('moncloa', 0.006311801217851185),\n",
       " ('yessica', 0.006284306943416596),\n",
       " ('duo', 0.006264351308345795),\n",
       " ('hago', 0.006235452047709761),\n",
       " ('interes', 0.006187250571591514),\n",
       " ('anda', 0.006181972842666798),\n",
       " ('quedaremos', 0.006174258355583463),\n",
       " ('ultimos', 0.006140311750081869),\n",
       " ('hacerlo', 0.006119288040532006),\n",
       " ('is', 0.006118038960091956),\n",
       " ('vida', 0.006101970611005716),\n",
       " ('recomienda', 0.006096271605327211),\n",
       " ('fueron', 0.006052992883182708),\n",
       " ('bebe', 0.006009562561909358),\n",
       " ('defensor', 0.005985800176858902),\n",
       " ('ahorrando', 0.005982919995273862),\n",
       " ('palabras', 0.005968704035407619),\n",
       " ('vienen', 0.005935294181108474),\n",
       " ('ultimate', 0.0059313781204677766),\n",
       " ('funcionen', 0.005916055705812242),\n",
       " ('get', 0.0058283461578961075),\n",
       " ('moon', 0.005796154960989952),\n",
       " ('vinieron', 0.005757924169301987),\n",
       " ('busque', 0.005734459003981422),\n",
       " ('arriendo', 0.005692745958055768),\n",
       " ('kiko', 0.005682168735398186),\n",
       " ('palpitar', 0.005679194132486979),\n",
       " ('brutal', 0.005647517740726471),\n",
       " ('septiembre', 0.005636389101895257),\n",
       " ('pajarito', 0.00562521184866245),\n",
       " ('sabes', 0.005594612348644046),\n",
       " ('estan', 0.005576006964688281),\n",
       " ('ellos', 0.005546648571846865),\n",
       " ('rios', 0.005536291160081562),\n",
       " ('vaya', 0.005533392058454113),\n",
       " ('cuento', 0.00539806829049037),\n",
       " ('humor', 0.005365470914464248),\n",
       " ('calor', 0.0052241290223075994),\n",
       " ('ole', 0.005215748820615851),\n",
       " ('hola', 0.005211206149608219),\n",
       " ('cine', 0.0051833687815815216),\n",
       " ('cutre', 0.005146945640444755),\n",
       " ('llegado', 0.005126167347489634),\n",
       " ('estado', 0.005025638346855957),\n",
       " ('gano', 0.004977068730763027),\n",
       " ('domingo', 0.004974433481693268),\n",
       " ('pls', 0.004961416201081638),\n",
       " ('vendria', 0.004942616713898522),\n",
       " ('quitarte', 0.004893174022436142),\n",
       " ('ayer', 0.004868327513691925),\n",
       " ('estare', 0.004826794116802159),\n",
       " ('veo', 0.004807377840200114),\n",
       " ('finde', 0.00477004200220108),\n",
       " ('fangirleo', 0.004704910688675367),\n",
       " ('conectada', 0.0046869537660053796),\n",
       " ('medica', 0.004681953125529819),\n",
       " ('pude', 0.004631399431011893),\n",
       " ('subirme', 0.004583369283115163),\n",
       " ('pago', 0.004571704112965128),\n",
       " ('encima', 0.004534634980096124),\n",
       " ('llevarlas', 0.004528528587384658),\n",
       " ('ten', 0.004502606219970263),\n",
       " ('cortante', 0.0044987379676765865),\n",
       " ('verano', 0.004478887879135769),\n",
       " ('faltaria', 0.004458506902058919),\n",
       " ('manuel', 0.00440061092376709),\n",
       " ('mayor', 0.004391597509384155),\n",
       " ('bof', 0.004359398782253265),\n",
       " ('v', 0.004344964759292627),\n",
       " ('emociones', 0.0043365323543548585),\n",
       " ('buscando', 0.004315083225568135),\n",
       " ('tickets', 0.004306216325078692),\n",
       " ('pondre', 0.00426756264641881),\n",
       " ('server', 0.004244240522384643),\n",
       " ('diciendome', 0.004219264115976251),\n",
       " ('otros', 0.004215682112145467),\n",
       " ('diversion', 0.004181478545069695),\n",
       " ('saco', 0.004173259492273684),\n",
       " ('aunque', 0.004163969735879093),\n",
       " ('traemelos', 0.00412783632054925),\n",
       " ('futuro', 0.004124768363693968),\n",
       " ('fiesta', 0.004116456448839652),\n",
       " ('general', 0.004085463161269824),\n",
       " ('viajar', 0.004017076709053733),\n",
       " ...]"
      ]
     },
     "execution_count": 293,
     "metadata": {},
     "output_type": "execute_result"
    }
   ],
   "source": [
    "headers[5]"
   ]
  },
  {
   "cell_type": "code",
   "execution_count": null,
   "metadata": {},
   "outputs": [],
   "source": []
  }
 ],
 "metadata": {
  "kernelspec": {
   "display_name": "Python 3",
   "language": "python",
   "name": "python3"
  },
  "language_info": {
   "codemirror_mode": {
    "name": "ipython",
    "version": 3
   },
   "file_extension": ".py",
   "mimetype": "text/x-python",
   "name": "python",
   "nbconvert_exporter": "python",
   "pygments_lexer": "ipython3",
   "version": "3.7.1"
  }
 },
 "nbformat": 4,
 "nbformat_minor": 2
}
