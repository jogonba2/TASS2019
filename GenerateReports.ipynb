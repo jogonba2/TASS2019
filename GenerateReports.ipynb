{
 "cells": [
  {
   "cell_type": "code",
   "execution_count": 1,
   "metadata": {},
   "outputs": [
    {
     "name": "stderr",
     "output_type": "stream",
     "text": [
      "Using TensorFlow backend.\n"
     ]
    }
   ],
   "source": [
    "%matplotlib inline\n",
    "from StringProcessing import StringProcessing\n",
    "from BuildVocabulary import BuildVocabulary as bv\n",
    "from TransformerEncoder import TransformerEncoder\n",
    "from keras.utils.np_utils import to_categorical\n",
    "from keras.callbacks import ModelCheckpoint\n",
    "from nltk.tokenize.toktok import ToktokTokenizer\n",
    "from Visualization import Visualization\n",
    "from gensim.models import Word2Vec\n",
    "from Preprocess import Preprocess\n",
    "from Utils import Utils\n",
    "from sklearn.metrics import accuracy_score, f1_score, precision_score, recall_score, confusion_matrix, classification_report\n",
    "import numpy as np\n",
    "from matplotlib import pyplot as plt"
   ]
  },
  {
   "cell_type": "markdown",
   "metadata": {},
   "source": [
    "# Parameters"
   ]
  },
  {
   "cell_type": "code",
   "execution_count": 2,
   "metadata": {},
   "outputs": [],
   "source": [
    "# Text parameters #\n",
    "max_words = 50\n",
    "test_path = \"./tass-corpus/es/dev.csv\" # Dev\n",
    "\n",
    "# Training Parameters #\n",
    "path_model = \"./best-models/transformer_es.hdf5\"\n",
    "r_cats = {0:\"N\", 1:\"NEU\", 2:\"NONE\", 3:\"P\"}\n",
    "tokenizer = ToktokTokenizer()\n",
    "w2v_path = \"./twitter87/twitter87.model\"\n",
    "w2v = Word2Vec.load(w2v_path)\n",
    "\n",
    "# Encoder Parameters # # MEJOR\n",
    "dropout_input = 0.7 #0.7\n",
    "dropout_output = 0. # 0.\n",
    "pe = False #False\n",
    "embedding_dims = w2v.vector_size\n",
    "n_encoders = 1 #2 #1\n",
    "attention_dims = 64 #32 #64\n",
    "n_heads = 8 #8\n",
    "dim_h = 128 #256\n",
    "final_h = False #False\n",
    "pool_mode = \"average\" #\"average\"\n",
    "\n",
    "output_encoder_dims = [embedding_dims for i in range(n_encoders)]\n",
    "attention_dims = [attention_dims for i in range(n_encoders)]\n",
    "n_heads = [n_heads for i in range(n_encoders)]"
   ]
  },
  {
   "cell_type": "markdown",
   "metadata": {},
   "source": [
    "# Prepare inputs #"
   ]
  },
  {
   "cell_type": "code",
   "execution_count": 3,
   "metadata": {},
   "outputs": [],
   "source": [
    "ids_dv, x_dv, y_dv = StringProcessing.load_samples(test_path)\n",
    "\n",
    "# Preprocess #\n",
    "x_dv = [Preprocess.preprocess(x, tokenizer) for x in x_dv]\n",
    "\n",
    "# Represent #\n",
    "rx_dv = np.array(StringProcessing.represent_documents(x_dv, max_words, embedding_dims, w2v, word_delimiter = \" \"))\n",
    "\n",
    "# Masks #\n",
    "masks_dv = np.array([((rx!=0).sum(axis=1)>0).astype(\"int\") for rx in rx_dv])\n",
    "\n",
    "# Positional Encodings #\n",
    "matrix_pos_encodings = Utils.precompute_sent_pos_encodings(max_words, embedding_dims)\n",
    "pe_dv = np.array([Utils.build_pe_sent_encodings(matrix_pos_encodings, m) for m in masks_dv])"
   ]
  },
  {
   "cell_type": "markdown",
   "metadata": {},
   "source": [
    "# Load model"
   ]
  },
  {
   "cell_type": "code",
   "execution_count": 4,
   "metadata": {},
   "outputs": [
    {
     "name": "stdout",
     "output_type": "stream",
     "text": [
      "WARNING:tensorflow:From C:\\Users\\usuario\\ANACONDA\\lib\\site-packages\\tensorflow\\python\\ops\\control_flow_ops.py:423: colocate_with (from tensorflow.python.framework.ops) is deprecated and will be removed in a future version.\n",
      "Instructions for updating:\n",
      "Colocations handled automatically by placer.\n",
      "WARNING:tensorflow:From C:\\Users\\usuario\\ANACONDA\\lib\\site-packages\\keras\\backend\\tensorflow_backend.py:3445: calling dropout (from tensorflow.python.ops.nn_ops) with keep_prob is deprecated and will be removed in a future version.\n",
      "Instructions for updating:\n",
      "Please use `rate` instead of `keep_prob`. Rate should be set to `rate = 1 - keep_prob`.\n",
      "__________________________________________________________________________________________________\n",
      "Layer (type)                    Output Shape         Param #     Connected to                     \n",
      "==================================================================================================\n",
      "input_1 (InputLayer)            (None, 50, 300)      0                                            \n",
      "__________________________________________________________________________________________________\n",
      "my_masking_1 (MyMasking)        (None, 50, 300)      0           input_1[0][0]                    \n",
      "__________________________________________________________________________________________________\n",
      "spatial_dropout1d_1 (SpatialDro (None, 50, 300)      0           my_masking_1[0][0]               \n",
      "__________________________________________________________________________________________________\n",
      "sentence_encoder_block_1 (Sente [(None, 50, 300), (N 795600      spatial_dropout1d_1[0][0]        \n",
      "__________________________________________________________________________________________________\n",
      "lambda_1 (Lambda)               (None, 50, 300)      0           sentence_encoder_block_1[0][0]   \n",
      "                                                                 sentence_encoder_block_1[0][1]   \n",
      "__________________________________________________________________________________________________\n",
      "my_masking_2 (MyMasking)        (None, 50, 300)      0           lambda_1[0][0]                   \n",
      "__________________________________________________________________________________________________\n",
      "global_average_pooling1d_1 (Glo (None, 300)          0           my_masking_2[0][0]               \n",
      "__________________________________________________________________________________________________\n",
      "layer_normalization_2 (LayerNor (None, 300)          600         global_average_pooling1d_1[0][0] \n",
      "__________________________________________________________________________________________________\n",
      "dense_3 (Dense)                 (None, 4)            1204        layer_normalization_2[0][0]      \n",
      "==================================================================================================\n",
      "Total params: 797,404\n",
      "Trainable params: 797,404\n",
      "Non-trainable params: 0\n",
      "__________________________________________________________________________________________________\n",
      "None\n"
     ]
    }
   ],
   "source": [
    "ht = TransformerEncoder(max_words = max_words,\n",
    "                 embedding_dims = embedding_dims,\n",
    "                 output_encoder_dims = output_encoder_dims,\n",
    "                 attention_dims = attention_dims,\n",
    "                 n_heads = n_heads,\n",
    "                 dropout_input = dropout_input,\n",
    "                 dropout_output = dropout_output,\n",
    "                 pe = pe,\n",
    "                 dim_h = dim_h,\n",
    "                 final_h = final_h,\n",
    "                 pool_mode = pool_mode)\n",
    "\n",
    "ht.build()\n",
    "print(ht.model.summary())\n",
    "ht.compile(ht.model)\n",
    "ht.load(ht.model, path_model)"
   ]
  },
  {
   "cell_type": "markdown",
   "metadata": {},
   "source": [
    "# Predict"
   ]
  },
  {
   "cell_type": "code",
   "execution_count": 5,
   "metadata": {},
   "outputs": [
    {
     "name": "stdout",
     "output_type": "stream",
     "text": [
      "Acc: 0.607573\n",
      "MF1: 0.533422\n",
      "MP: 0.527952\n",
      "MR: 0.543807\n",
      "Conf Matrix\n",
      " [[195  25  18  28]\n",
      " [ 25  22  13  23]\n",
      " [  9   6  38  11]\n",
      " [ 38  19  13  98]]\n",
      "Classification Report\n",
      "               precision    recall  f1-score   support\n",
      "\n",
      "           N       0.73      0.73      0.73       266\n",
      "         NEU       0.31      0.27      0.28        83\n",
      "        NONE       0.46      0.59      0.52        64\n",
      "           P       0.61      0.58      0.60       168\n",
      "\n",
      "   micro avg       0.61      0.61      0.61       581\n",
      "   macro avg       0.53      0.54      0.53       581\n",
      "weighted avg       0.61      0.61      0.61       581\n",
      "\n"
     ]
    }
   ],
   "source": [
    "preds = ht.model.predict([rx_dv, masks_dv, pe_dv], batch_size=256)\n",
    "preds = [r_cats[p.argmax()] for p in preds]\n",
    "truths = y_dv\n",
    "print(\"Acc: %f\" % accuracy_score(truths, preds))\n",
    "print(\"MF1: %f\" % f1_score(truths, preds, average=\"macro\"))\n",
    "print(\"MP: %f\" % precision_score(truths, preds, average=\"macro\"))\n",
    "print(\"MR: %f\" % recall_score(truths, preds, average=\"macro\"))\n",
    "print(\"Conf Matrix\\n\", confusion_matrix(truths, preds))\n",
    "print(\"Classification Report\\n\", classification_report(truths, preds))"
   ]
  },
  {
   "cell_type": "markdown",
   "metadata": {},
   "source": [
    "# Save Prediction Report"
   ]
  },
  {
   "cell_type": "code",
   "execution_count": 6,
   "metadata": {},
   "outputs": [],
   "source": [
    "# Guarda un csv (texto, real, prediccion)\n",
    "fw = open(\"results_report.csv\", \"w\", encoding=\"utf8\")\n",
    "for i in range(len(preds)):\n",
    "    fw.write(x_dv[i] + \"\\t\" + truths[i] + \"\\t\" + preds[i] + \"\\n\")\n",
    "fw.close()"
   ]
  },
  {
   "cell_type": "markdown",
   "metadata": {},
   "source": [
    "# Get Attention Report"
   ]
  },
  {
   "cell_type": "code",
   "execution_count": 7,
   "metadata": {},
   "outputs": [],
   "source": [
    "attns = ht.attn_model.predict([rx_dv, masks_dv, pe_dv], batch_size=256)"
   ]
  },
  {
   "cell_type": "markdown",
   "metadata": {},
   "source": [
    "## Preds"
   ]
  },
  {
   "cell_type": "code",
   "execution_count": 8,
   "metadata": {},
   "outputs": [],
   "source": [
    "# Palabra : {cabezal : {P:0, N:0, NEU:}}\n",
    "word_attns = {}\n",
    "counters = {}\n",
    "for i in range(len(x_dv)):\n",
    "    attns_i = attns[i]\n",
    "    pred = preds[i]\n",
    "    l_words = x_dv[i].split()\n",
    "    pad = 0\n",
    "    \n",
    "    while len(l_words) < max_words:\n",
    "        l_words.insert(0, \"<pad>\")\n",
    "        pad += 1\n",
    "    l_words = l_words[pad:]\n",
    "    attns_i = attns_i[:, pad:, pad:]\n",
    "    attns_i = attns_i.sum(axis=1)          \n",
    "    ll_words = len(l_words)\n",
    "    \n",
    "    for j in range(ll_words):\n",
    "        word = l_words[j]\n",
    "        if word not in word_attns:\n",
    "            word_attns[word] = {}\n",
    "            counters[word] = {}\n",
    "            \n",
    "        for h in range(len(attns_i)):\n",
    "            if h not in word_attns[word]:\n",
    "                word_attns[word][h] = {\"N\":0., \"NEU\":0., \"NONE\":0., \"P\":0.}\n",
    "                counters[word][h] = {\"N\":0., \"NEU\":0., \"NONE\":0., \"P\":0.}\n",
    "\n",
    "            word_attns[word][h][pred] += (attns_i[h][j] / ll_words) # Normalizar por el nº de palabras a las que atiende\n",
    "            counters[word][h][pred] += 1.\n",
    "\n",
    "# Normalizar por el nº de muestras\n",
    "for w in word_attns:\n",
    "    for h in word_attns[w]:\n",
    "        for c in word_attns[w][h]:\n",
    "            word_attns[w][h][c] /= (counters[w][h][c] + 1e-16) #len(x_dv)      "
   ]
  },
  {
   "cell_type": "code",
   "execution_count": 9,
   "metadata": {},
   "outputs": [
    {
     "data": {
      "text/plain": [
       "{0: {'N': 0.19932349895245377,\n",
       "  'NEU': 0.0,\n",
       "  'NONE': 0.0,\n",
       "  'P': 0.4469071328639984},\n",
       " 1: {'N': 0.5376216207421015,\n",
       "  'NEU': 0.0,\n",
       "  'NONE': 0.0,\n",
       "  'P': 0.016574546694755554},\n",
       " 2: {'N': 0.000777379267428937,\n",
       "  'NEU': 0.0,\n",
       "  'NONE': 0.0,\n",
       "  'P': 0.0028707406017929316},\n",
       " 3: {'N': 0.8665121072436136,\n",
       "  'NEU': 0.0,\n",
       "  'NONE': 0.0,\n",
       "  'P': 0.9754916429519653},\n",
       " 4: {'N': 0.0011118251828999733,\n",
       "  'NEU': 0.0,\n",
       "  'NONE': 0.0,\n",
       "  'P': 8.177208655979484e-05},\n",
       " 5: {'N': 0.23908702309169466,\n",
       "  'NEU': 0.0,\n",
       "  'NONE': 0.0,\n",
       "  'P': 0.24075926840305328},\n",
       " 6: {'N': 0.5945630950019474,\n",
       "  'NEU': 0.0,\n",
       "  'NONE': 0.0,\n",
       "  'P': 0.19072802364826202},\n",
       " 7: {'N': 0.0004926495491466966,\n",
       "  'NEU': 0.0,\n",
       "  'NONE': 0.0,\n",
       "  'P': 0.002123745623975992}}"
      ]
     },
     "execution_count": 9,
     "metadata": {},
     "output_type": "execute_result"
    }
   ],
   "source": [
    "word_attns[\"mierda\"]"
   ]
  },
  {
   "cell_type": "markdown",
   "metadata": {},
   "source": [
    "## Truths"
   ]
  },
  {
   "cell_type": "code",
   "execution_count": 10,
   "metadata": {},
   "outputs": [],
   "source": [
    "# Palabra : {cabezal : {P:0, N:0, NEU:}}\n",
    "word_attns = {}\n",
    "counters = {}\n",
    "for i in range(len(x_dv)):\n",
    "    attns_i = attns[i]\n",
    "    pred = truths[i]\n",
    "    l_words = x_dv[i].split()\n",
    "    pad = 0\n",
    "    \n",
    "    while len(l_words) < max_words:\n",
    "        l_words.insert(0, \"<pad>\")\n",
    "        pad += 1\n",
    "    l_words = l_words[pad:]\n",
    "    attns_i = attns_i[:, pad:, pad:]\n",
    "    attns_i = attns_i.sum(axis=1)          \n",
    "    ll_words = len(l_words)\n",
    "    \n",
    "    for j in range(ll_words):\n",
    "        word = l_words[j]\n",
    "        if word not in word_attns:\n",
    "            word_attns[word] = {}\n",
    "            counters[word] = {}\n",
    "            \n",
    "        for h in range(len(attns_i)):\n",
    "            if h not in word_attns[word]:\n",
    "                word_attns[word][h] = {\"N\":0., \"NEU\":0., \"NONE\":0., \"P\":0.}\n",
    "                counters[word][h] = {\"N\":0., \"NEU\":0., \"NONE\":0., \"P\":0.}\n",
    "\n",
    "            word_attns[word][h][pred] += (attns_i[h][j] / ll_words) # Normalizar por el nº de palabras a las que atiende\n",
    "            counters[word][h][pred] += 1.\n",
    "\n",
    "# Normalizar por el nº de muestras\n",
    "for w in word_attns:\n",
    "    for h in word_attns[w]:\n",
    "        for c in word_attns[w][h]:\n",
    "            word_attns[w][h][c] /= (counters[w][h][c] + 1e-16) #len(x_dv) "
   ]
  },
  {
   "cell_type": "code",
   "execution_count": 11,
   "metadata": {},
   "outputs": [
    {
     "data": {
      "text/plain": [
       "{0: {'N': 0.24908238081409342,\n",
       "  'NEU': 0.4469071328639984,\n",
       "  'NONE': 0.0,\n",
       "  'P': 0.000287971505895257},\n",
       " 1: {'N': 0.49952286313923583,\n",
       "  'NEU': 0.016574546694755554,\n",
       "  'NONE': 0.0,\n",
       "  'P': 0.6900166511535645},\n",
       " 2: {'N': 0.0009717239728493115,\n",
       "  'NEU': 0.0028707406017929316,\n",
       "  'NONE': 0.0,\n",
       "  'P': 4.4574743895964275e-10},\n",
       " 3: {'N': 0.8798592798293583,\n",
       "  'NEU': 0.9754916429519653,\n",
       "  'NONE': 0.0,\n",
       "  'P': 0.8131234169006347},\n",
       " 4: {'N': 0.0006660720331782368,\n",
       "  'NEU': 8.177208655979484e-05,\n",
       "  'NONE': 0.0,\n",
       "  'P': 0.0028948377817869186},\n",
       " 5: {'N': 0.2123220554892979,\n",
       "  'NEU': 0.24075926840305328,\n",
       "  'NONE': 0.0,\n",
       "  'P': 0.34614689350128175},\n",
       " 6: {'N': 0.6236615561303639,\n",
       "  'NEU': 0.19072802364826202,\n",
       "  'NONE': 0.0,\n",
       "  'P': 0.47816925048828124},\n",
       " 7: {'N': 0.0006132157668905584,\n",
       "  'NEU': 0.002123745623975992,\n",
       "  'NONE': 0.0,\n",
       "  'P': 1.0384678171249107e-05}}"
      ]
     },
     "execution_count": 11,
     "metadata": {},
     "output_type": "execute_result"
    }
   ],
   "source": [
    "word_attns[\"mierda\"]"
   ]
  },
  {
   "cell_type": "markdown",
   "metadata": {},
   "source": [
    "## All classes (creo que este es el análisis bueno, más que por cada clase)"
   ]
  },
  {
   "cell_type": "code",
   "execution_count": 12,
   "metadata": {},
   "outputs": [],
   "source": [
    "# Palabra : {cabezal : }\n",
    "\n",
    "word_attns = {}\n",
    "counters = {}\n",
    "for i in range(len(x_dv)):\n",
    "    attns_i = attns[i]\n",
    "    pred = truths[i]\n",
    "    l_words = x_dv[i].split()\n",
    "    pad = 0\n",
    "    \n",
    "    while len(l_words) < max_words:\n",
    "        l_words.insert(0, \"<pad>\")\n",
    "        pad += 1\n",
    "    l_words = l_words[pad:]\n",
    "    attns_i = attns_i[:, pad:, pad:]\n",
    "    attns_i = attns_i.sum(axis=1)          \n",
    "    ll_words = len(l_words)\n",
    "    \n",
    "    for j in range(ll_words):\n",
    "        word = l_words[j]\n",
    "        if word not in word_attns:\n",
    "            word_attns[word] = {}\n",
    "            counters[word] = {}\n",
    "            \n",
    "        for h in range(len(attns_i)):\n",
    "            if h not in word_attns[word]:\n",
    "                word_attns[word][h] = 0.\n",
    "                counters[word][h] = 0.\n",
    "\n",
    "            word_attns[word][h] += (attns_i[h][j] / ll_words) # Normalizar por el nº de palabras a las que atiende\n",
    "            counters[word][h] += 1.\n",
    "\n",
    "# Normalizar por el nº de muestras\n",
    "for w in word_attns:\n",
    "    for h in word_attns[w]:\n",
    "        word_attns[w][h] /= (counters[w][h] + 1e-16) #len(x_dv) "
   ]
  },
  {
   "cell_type": "code",
   "execution_count": 13,
   "metadata": {},
   "outputs": [
    {
     "data": {
      "text/plain": [
       "[0.24058743793771123,\n",
       " 0.4507804417342105,\n",
       " 0.0011262728231562693,\n",
       " 0.8846753631950056,\n",
       " 0.0009401496668432768,\n",
       " 0.23936573064358777,\n",
       " 0.5272572497763331,\n",
       " 0.0007644988949515792]"
      ]
     },
     "execution_count": 13,
     "metadata": {},
     "output_type": "execute_result"
    }
   ],
   "source": [
    "list(word_attns[\"mierda\"].values())"
   ]
  },
  {
   "cell_type": "code",
   "execution_count": 14,
   "metadata": {},
   "outputs": [
    {
     "data": {
      "text/plain": [
       "<BarContainer object of 8 artists>"
      ]
     },
     "execution_count": 14,
     "metadata": {},
     "output_type": "execute_result"
    },
    {
     "data": {
      "image/png": "[encoded data removed]",
      "text/plain": [
       "<Figure size 432x288 with 1 Axes>"
      ]
     },
     "metadata": {
      "needs_background": "light"
     },
     "output_type": "display_data"
    }
   ],
   "source": [
    "w = \"mierda\"\n",
    "plt.title(w)\n",
    "plt.bar(list(range(8)), list(word_attns[w].values()))"
   ]
  },
  {
   "cell_type": "code",
   "execution_count": 15,
   "metadata": {},
   "outputs": [
    {
     "data": {
      "text/plain": [
       "<BarContainer object of 8 artists>"
      ]
     },
     "execution_count": 15,
     "metadata": {},
     "output_type": "execute_result"
    },
    {
     "data": {
      "image/png": "[encoded data removed]",
      "text/plain": [
       "<Figure size 432x288 with 1 Axes>"
      ]
     },
     "metadata": {
      "needs_background": "light"
     },
     "output_type": "display_data"
    }
   ],
   "source": [
    "w = \"genial\"\n",
    "plt.title(w)\n",
    "plt.bar(list(range(8)), list(word_attns[w].values()))"
   ]
  },
  {
   "cell_type": "code",
   "execution_count": 16,
   "metadata": {},
   "outputs": [
    {
     "data": {
      "text/plain": [
       "<BarContainer object of 8 artists>"
      ]
     },
     "execution_count": 16,
     "metadata": {},
     "output_type": "execute_result"
    },
    {
     "data": {
      "image/png": "[encoded data removed]",
      "text/plain": [
       "<Figure size 432x288 with 1 Axes>"
      ]
     },
     "metadata": {
      "needs_background": "light"
     },
     "output_type": "display_data"
    }
   ],
   "source": [
    "w = \"horrible\"\n",
    "plt.title(w)\n",
    "plt.bar(list(range(8)), list(word_attns[w].values()))"
   ]
  },
  {
   "cell_type": "code",
   "execution_count": 17,
   "metadata": {},
   "outputs": [
    {
     "data": {
      "text/plain": [
       "<BarContainer object of 8 artists>"
      ]
     },
     "execution_count": 17,
     "metadata": {},
     "output_type": "execute_result"
    },
    {
     "data": {
      "image/png": "[encoded data removed]",
      "text/plain": [
       "<Figure size 432x288 with 1 Axes>"
      ]
     },
     "metadata": {
      "needs_background": "light"
     },
     "output_type": "display_data"
    }
   ],
   "source": [
    "w = \"maravilloso\"\n",
    "plt.title(w)\n",
    "plt.bar(list(range(8)), list(word_attns[w].values()))"
   ]
  },
  {
   "cell_type": "code",
   "execution_count": 18,
   "metadata": {},
   "outputs": [
    {
     "data": {
      "text/plain": [
       "<BarContainer object of 8 artists>"
      ]
     },
     "execution_count": 18,
     "metadata": {},
     "output_type": "execute_result"
    },
    {
     "data": {
      "image/png": "[encoded data removed]",
      "text/plain": [
       "<Figure size 432x288 with 1 Axes>"
      ]
     },
     "metadata": {
      "needs_background": "light"
     },
     "output_type": "display_data"
    }
   ],
   "source": [
    "w = \"peor\"\n",
    "plt.title(w)\n",
    "plt.bar(list(range(8)), list(word_attns[w].values()))"
   ]
  },
  {
   "cell_type": "code",
   "execution_count": 19,
   "metadata": {},
   "outputs": [
    {
     "data": {
      "text/plain": [
       "<BarContainer object of 8 artists>"
      ]
     },
     "execution_count": 19,
     "metadata": {},
     "output_type": "execute_result"
    },
    {
     "data": {
      "image/png": "[encoded data removed]",
      "text/plain": [
       "<Figure size 432x288 with 1 Axes>"
      ]
     },
     "metadata": {
      "needs_background": "light"
     },
     "output_type": "display_data"
    }
   ],
   "source": [
    "w = \"mejor\"\n",
    "plt.title(w)\n",
    "plt.bar(list(range(8)), list(word_attns[w].values()))"
   ]
  },
  {
   "cell_type": "code",
   "execution_count": 20,
   "metadata": {},
   "outputs": [
    {
     "data": {
      "text/plain": [
       "<BarContainer object of 8 artists>"
      ]
     },
     "execution_count": 20,
     "metadata": {},
     "output_type": "execute_result"
    },
    {
     "data": {
      "image/png": "[encoded data removed]",
      "text/plain": [
       "<Figure size 432x288 with 1 Axes>"
      ]
     },
     "metadata": {
      "needs_background": "light"
     },
     "output_type": "display_data"
    }
   ],
   "source": [
    "w = \"amor\"\n",
    "plt.title(w)\n",
    "plt.bar(list(range(8)), list(word_attns[w].values()))"
   ]
  },
  {
   "cell_type": "code",
   "execution_count": 21,
   "metadata": {},
   "outputs": [
    {
     "data": {
      "text/plain": [
       "<BarContainer object of 8 artists>"
      ]
     },
     "execution_count": 21,
     "metadata": {},
     "output_type": "execute_result"
    },
    {
     "data": {
      "image/png": "[encoded data removed]",
      "text/plain": [
       "<Figure size 432x288 with 1 Axes>"
      ]
     },
     "metadata": {
      "needs_background": "light"
     },
     "output_type": "display_data"
    }
   ],
   "source": [
    "w = \"odio\"\n",
    "plt.title(w)\n",
    "plt.bar(list(range(8)), list(word_attns[w].values()))"
   ]
  },
  {
   "cell_type": "markdown",
   "metadata": {},
   "source": [
    "Parece que el cabezal 3 reacciona mucho con palabras negativas y poco a las positivas; y el cabezal 4 justo al contrario"
   ]
  },
  {
   "cell_type": "markdown",
   "metadata": {},
   "source": [
    "# Attns Visualization"
   ]
  },
  {
   "cell_type": "code",
   "execution_count": 22,
   "metadata": {},
   "outputs": [],
   "source": [
    "n = 40 # 46 (PE), 40 (ES)\n",
    "attns_i = attns[n]\n",
    "l_words = x_dv[n].split()\n",
    "\n",
    "pad = 0\n",
    "while len(l_words) < max_words:\n",
    "    l_words.insert(0, \"<pad>\")\n",
    "    pad += 1\n",
    "l_words = l_words[pad:]\n",
    "attns_i = attns_i[:, pad:, pad:]\n",
    "attns_h_3 = attns_i[3]\n",
    "attns_h_4 = attns_i[4]"
   ]
  },
  {
   "cell_type": "code",
   "execution_count": 23,
   "metadata": {},
   "outputs": [
    {
     "name": "stdout",
     "output_type": "stream",
     "text": [
      "odio a lucia la vd , mi amor hacia ella es una gran tapadera pa comer nutella en su casa\n"
     ]
    }
   ],
   "source": [
    "print(x_dv[n])"
   ]
  },
  {
   "cell_type": "code",
   "execution_count": 24,
   "metadata": {},
   "outputs": [
    {
     "data": {
      "image/png": "[encoded data removed]",
      "text/plain": [
       "<Figure size 2160x2160 with 1 Axes>"
      ]
     },
     "metadata": {
      "needs_background": "light"
     },
     "output_type": "display_data"
    }
   ],
   "source": [
    "# Cabezal 3, parece captar negativos\n",
    "Visualization.visualize_attentions(attns_h_3, 30, 30, rows=1, columns=1, ticks=l_words, output_file=None,\n",
    "                                   save=False)"
   ]
  },
  {
   "cell_type": "code",
   "execution_count": 25,
   "metadata": {},
   "outputs": [
    {
     "data": {
      "image/png": "[encoded data removed]",
      "text/plain": [
       "<Figure size 2160x2160 with 1 Axes>"
      ]
     },
     "metadata": {
      "needs_background": "light"
     },
     "output_type": "display_data"
    }
   ],
   "source": [
    "# Cabezal 4, parece captar positivos\n",
    "Visualization.visualize_attentions(attns_h_4, 30, 30, rows=1, columns=1, ticks=l_words, output_file=None,\n",
    "                                   save=False)"
   ]
  },
  {
   "cell_type": "markdown",
   "metadata": {},
   "source": [
    "# Análisis con un lexicon"
   ]
  },
  {
   "cell_type": "code",
   "execution_count": 26,
   "metadata": {},
   "outputs": [],
   "source": [
    "import unicodedata as uc\n",
    "\n",
    "def remove_accents(sequence):\n",
    "    return \"\".join([c for c in uc.normalize('NFD', sequence) if uc.category(c) != 'Mn'])"
   ]
  },
  {
   "cell_type": "code",
   "execution_count": 27,
   "metadata": {},
   "outputs": [],
   "source": [
    "lex = open(\"./lexicons/elhuyar.txt\", \"r\", encoding=\"utf8\")\n",
    "llex = []\n",
    "for line in lex.readlines():\n",
    "    s = line.strip().split(\"\\t\")\n",
    "    if len(s)>1:\n",
    "        word, tag = s[0], s[1]\n",
    "        if \"_\" not in word and \"-\" not in word:\n",
    "            word = remove_accents(word.replace(\"ñ\", \"ny\"))\n",
    "            llex.append((word, tag))\n",
    "lex.close()"
   ]
  },
  {
   "cell_type": "code",
   "execution_count": 28,
   "metadata": {},
   "outputs": [],
   "source": [
    "fw = open(\"attentions_elhuyar.out\", \"w\", encoding=\"utf8\")\n",
    "for (word, tag) in llex:\n",
    "    if word in word_attns:\n",
    "        fw.write(word + \"\\n\")\n",
    "        for h in word_attns[word]:\n",
    "            fw.write(\"Header %d: %.4f\\n\" % (h, word_attns[word][h]))\n",
    "        fw.write(\"\\n\\n\" + \"-\"*50 + \"\\n\\n\")\n",
    "fw.close()"
   ]
  },
  {
   "cell_type": "markdown",
   "metadata": {},
   "source": [
    "### Buscar los cabezales que maximizan su valor de atención sobre un lexicon supervisado en español (Elhuyar de ejemplo) #"
   ]
  },
  {
   "cell_type": "code",
   "execution_count": 29,
   "metadata": {},
   "outputs": [],
   "source": [
    "positive_words = [word for (word, tag) in llex if tag == \"positive\"]\n",
    "negative_words = [word for (word, tag) in llex if tag == \"negative\"]"
   ]
  },
  {
   "cell_type": "code",
   "execution_count": 30,
   "metadata": {},
   "outputs": [],
   "source": [
    "sum_attns_positive = np.array([0. for i in range(len(word_attns[\"de\"]))])\n",
    "counts = 0.\n",
    "\n",
    "for word in positive_words:\n",
    "    if word in word_attns:\n",
    "        w_attns = word_attns[word]\n",
    "        h_attns = np.array([word_attns[word][h] for h in word_attns[word]])\n",
    "        sum_attns_positive += h_attns\n",
    "        counts += 1.\n",
    "        \n",
    "sum_attns_positive /= counts"
   ]
  },
  {
   "cell_type": "code",
   "execution_count": 31,
   "metadata": {},
   "outputs": [
    {
     "data": {
      "text/plain": [
       "<BarContainer object of 8 artists>"
      ]
     },
     "execution_count": 31,
     "metadata": {},
     "output_type": "execute_result"
    },
    {
     "data": {
      "image/png": "[encoded data removed]",
      "text/plain": [
       "<Figure size 432x288 with 1 Axes>"
      ]
     },
     "metadata": {
      "needs_background": "light"
     },
     "output_type": "display_data"
    }
   ],
   "source": [
    "w = \"Sum Positive Attentions\"\n",
    "plt.title(w)\n",
    "plt.bar(list(range(8)), sum_attns_positive)"
   ]
  },
  {
   "cell_type": "code",
   "execution_count": 32,
   "metadata": {},
   "outputs": [
    {
     "name": "stdout",
     "output_type": "stream",
     "text": [
      "Best header positive: 4\n"
     ]
    }
   ],
   "source": [
    "print(\"Best header positive: %d\" % sum_attns_positive.argmax())"
   ]
  },
  {
   "cell_type": "code",
   "execution_count": 33,
   "metadata": {},
   "outputs": [],
   "source": [
    "sum_attns_negative = np.array([0. for i in range(len(word_attns[\"de\"]))])\n",
    "counts = 0.\n",
    "\n",
    "for word in negative_words:\n",
    "    if word in word_attns:\n",
    "        w_attns = word_attns[word]\n",
    "        h_attns = np.array([word_attns[word][h] for h in word_attns[word]])\n",
    "        sum_attns_negative += h_attns\n",
    "        counts += 1.\n",
    "        \n",
    "sum_attns_negative /= counts"
   ]
  },
  {
   "cell_type": "code",
   "execution_count": 34,
   "metadata": {},
   "outputs": [
    {
     "data": {
      "text/plain": [
       "<BarContainer object of 8 artists>"
      ]
     },
     "execution_count": 34,
     "metadata": {},
     "output_type": "execute_result"
    },
    {
     "data": {
      "image/png": "[encoded data removed]",
      "text/plain": [
       "<Figure size 432x288 with 1 Axes>"
      ]
     },
     "metadata": {
      "needs_background": "light"
     },
     "output_type": "display_data"
    }
   ],
   "source": [
    "w = \"Sum Negative Attentions\"\n",
    "plt.title(w)\n",
    "plt.bar(list(range(8)), sum_attns_negative)"
   ]
  },
  {
   "cell_type": "code",
   "execution_count": 35,
   "metadata": {},
   "outputs": [
    {
     "name": "stdout",
     "output_type": "stream",
     "text": [
      "Best header negative: 3\n"
     ]
    }
   ],
   "source": [
    "print(\"Best header negative: %d\" % sum_attns_negative.argmax())"
   ]
  },
  {
   "cell_type": "markdown",
   "metadata": {},
   "source": [
    "### Clasificar el lexicon usando los cabezales 3 y 4 (75% Acc)"
   ]
  },
  {
   "cell_type": "code",
   "execution_count": 36,
   "metadata": {},
   "outputs": [
    {
     "name": "stdout",
     "output_type": "stream",
     "text": [
      "Acc: 74.7573%\n"
     ]
    }
   ],
   "source": [
    "n_errors = 0.\n",
    "n_words = 0.\n",
    "\n",
    "for (word, tag) in llex:\n",
    "    if word in word_attns:\n",
    "        heads = word_attns[word]\n",
    "        if heads[3] > heads[4]:\n",
    "            pred = \"negative\"\n",
    "        else:\n",
    "            pred = \"positive\"\n",
    "        \n",
    "        if pred != tag:\n",
    "            n_errors += 1\n",
    "            \n",
    "        n_words += 1.\n",
    "        \n",
    "print(\"Acc: %.4f%%\" % ((1. - ((n_errors / n_words))) * 100))"
   ]
  },
  {
   "cell_type": "markdown",
   "metadata": {},
   "source": [
    "# Buscar cabezales que encuentren la negación"
   ]
  },
  {
   "cell_type": "code",
   "execution_count": 37,
   "metadata": {},
   "outputs": [
    {
     "data": {
      "text/plain": [
       "<BarContainer object of 8 artists>"
      ]
     },
     "execution_count": 37,
     "metadata": {},
     "output_type": "execute_result"
    },
    {
     "data": {
      "image/png": "[encoded data removed]",
      "text/plain": [
       "<Figure size 432x288 with 1 Axes>"
      ]
     },
     "metadata": {
      "needs_background": "light"
     },
     "output_type": "display_data"
    }
   ],
   "source": [
    "w = \"no\"\n",
    "plt.title(w)\n",
    "plt.bar(list(range(8)), list(word_attns[w].values()))"
   ]
  },
  {
   "cell_type": "code",
   "execution_count": 38,
   "metadata": {},
   "outputs": [
    {
     "data": {
      "text/plain": [
       "<BarContainer object of 8 artists>"
      ]
     },
     "execution_count": 38,
     "metadata": {},
     "output_type": "execute_result"
    },
    {
     "data": {
      "image/png": "[encoded data removed]",
      "text/plain": [
       "<Figure size 432x288 with 1 Axes>"
      ]
     },
     "metadata": {
      "needs_background": "light"
     },
     "output_type": "display_data"
    }
   ],
   "source": [
    "w = \"ni\"\n",
    "plt.title(w)\n",
    "plt.bar(list(range(8)), list(word_attns[w].values()))"
   ]
  },
  {
   "cell_type": "code",
   "execution_count": 39,
   "metadata": {},
   "outputs": [
    {
     "data": {
      "text/plain": [
       "<BarContainer object of 8 artists>"
      ]
     },
     "execution_count": 39,
     "metadata": {},
     "output_type": "execute_result"
    },
    {
     "data": {
      "image/png": "[encoded data removed]",
      "text/plain": [
       "<Figure size 432x288 with 1 Axes>"
      ]
     },
     "metadata": {
      "needs_background": "light"
     },
     "output_type": "display_data"
    }
   ],
   "source": [
    "w = \"nunca\"\n",
    "plt.title(w)\n",
    "plt.bar(list(range(8)), list(word_attns[w].values()))"
   ]
  },
  {
   "cell_type": "code",
   "execution_count": 40,
   "metadata": {},
   "outputs": [
    {
     "data": {
      "text/plain": [
       "<BarContainer object of 8 artists>"
      ]
     },
     "execution_count": 40,
     "metadata": {},
     "output_type": "execute_result"
    },
    {
     "data": {
      "image/png": "[encoded data removed]",
      "text/plain": [
       "<Figure size 432x288 with 1 Axes>"
      ]
     },
     "metadata": {
      "needs_background": "light"
     },
     "output_type": "display_data"
    }
   ],
   "source": [
    "w = \"nada\"\n",
    "plt.title(w)\n",
    "plt.bar(list(range(8)), list(word_attns[w].values()))"
   ]
  },
  {
   "cell_type": "code",
   "execution_count": 41,
   "metadata": {},
   "outputs": [
    {
     "data": {
      "text/plain": [
       "<BarContainer object of 8 artists>"
      ]
     },
     "execution_count": 41,
     "metadata": {},
     "output_type": "execute_result"
    },
    {
     "data": {
      "image/png": "[encoded data removed]",
      "text/plain": [
       "<Figure size 432x288 with 1 Axes>"
      ]
     },
     "metadata": {
      "needs_background": "light"
     },
     "output_type": "display_data"
    }
   ],
   "source": [
    "w = \"ninguna\"\n",
    "plt.title(w)\n",
    "plt.bar(list(range(8)), list(word_attns[w].values()))"
   ]
  },
  {
   "cell_type": "code",
   "execution_count": 42,
   "metadata": {},
   "outputs": [
    {
     "data": {
      "text/plain": [
       "<BarContainer object of 8 artists>"
      ]
     },
     "execution_count": 42,
     "metadata": {},
     "output_type": "execute_result"
    },
    {
     "data": {
      "image/png": "[encoded data removed]",
      "text/plain": [
       "<Figure size 432x288 with 1 Axes>"
      ]
     },
     "metadata": {
      "needs_background": "light"
     },
     "output_type": "display_data"
    }
   ],
   "source": [
    "w = \"ninguno\"\n",
    "plt.title(w)\n",
    "plt.bar(list(range(8)), list(word_attns[w].values()))"
   ]
  },
  {
   "cell_type": "code",
   "execution_count": 43,
   "metadata": {},
   "outputs": [
    {
     "data": {
      "text/plain": [
       "<BarContainer object of 8 artists>"
      ]
     },
     "execution_count": 43,
     "metadata": {},
     "output_type": "execute_result"
    },
    {
     "data": {
      "image/png": "[encoded data removed]",
      "text/plain": [
       "<Figure size 432x288 with 1 Axes>"
      ]
     },
     "metadata": {
      "needs_background": "light"
     },
     "output_type": "display_data"
    }
   ],
   "source": [
    "w = \"tampoco\"\n",
    "plt.title(w)\n",
    "plt.bar(list(range(8)), list(word_attns[w].values()))"
   ]
  },
  {
   "cell_type": "code",
   "execution_count": 49,
   "metadata": {},
   "outputs": [
    {
     "data": {
      "text/plain": [
       "<BarContainer object of 8 artists>"
      ]
     },
     "execution_count": 49,
     "metadata": {},
     "output_type": "execute_result"
    },
    {
     "data": {
      "image/png": "[encoded data removed]",
      "text/plain": [
       "<Figure size 432x288 with 1 Axes>"
      ]
     },
     "metadata": {
      "needs_background": "light"
     },
     "output_type": "display_data"
    }
   ],
   "source": [
    "w = \"tambien\"\n",
    "plt.title(w)\n",
    "plt.bar(list(range(8)), list(word_attns[w].values()))"
   ]
  },
  {
   "cell_type": "code",
   "execution_count": 50,
   "metadata": {},
   "outputs": [
    {
     "data": {
      "text/plain": [
       "<BarContainer object of 8 artists>"
      ]
     },
     "execution_count": 50,
     "metadata": {},
     "output_type": "execute_result"
    },
    {
     "data": {
      "image/png": "[encoded data removed]",
      "text/plain": [
       "<Figure size 432x288 with 1 Axes>"
      ]
     },
     "metadata": {
      "needs_background": "light"
     },
     "output_type": "display_data"
    }
   ],
   "source": [
    "w = \"si\"\n",
    "plt.title(w)\n",
    "plt.bar(list(range(8)), list(word_attns[w].values()))"
   ]
  },
  {
   "cell_type": "code",
   "execution_count": 48,
   "metadata": {},
   "outputs": [
    {
     "data": {
      "text/plain": [
       "<BarContainer object of 8 artists>"
      ]
     },
     "execution_count": 48,
     "metadata": {},
     "output_type": "execute_result"
    },
    {
     "data": {
      "image/png": "[encoded data removed]",
      "text/plain": [
       "<Figure size 432x288 with 1 Axes>"
      ]
     },
     "metadata": {
      "needs_background": "light"
     },
     "output_type": "display_data"
    }
   ],
   "source": [
    "w = \"mucha\"\n",
    "plt.title(w)\n",
    "plt.bar(list(range(8)), list(word_attns[w].values()))"
   ]
  },
  {
   "cell_type": "markdown",
   "metadata": {},
   "source": [
    "El cabezal 0 reacciona a la negación, además los cabezales 3 y 4 relacionados con la polaridad tienen valor 0.\n",
    "Aun así, los valores de atención no son muy elevados, i.e. el cabezal 0 sirve para más cosas - ver las palabras que maximizan la atención de cada cabezal"
   ]
  },
  {
   "cell_type": "markdown",
   "metadata": {},
   "source": [
    "# Ver las palabras que maximizan la atención de cada cabezal"
   ]
  },
  {
   "cell_type": "code",
   "execution_count": 44,
   "metadata": {},
   "outputs": [],
   "source": [
    "headers = {0:[], 1:[], 2:[], 3:[], 4:[], 5:[], 6:[], 7:[]}"
   ]
  },
  {
   "cell_type": "code",
   "execution_count": 45,
   "metadata": {},
   "outputs": [],
   "source": [
    "for word in word_attns.keys():\n",
    "    for h in headers:\n",
    "        headers[h].append((word, word_attns[word][h]))\n",
    "        \n",
    "for h in headers:\n",
    "    headers[h].sort(key=lambda tup: tup[1], reverse=True)"
   ]
  },
  {
   "cell_type": "code",
   "execution_count": 683,
   "metadata": {},
   "outputs": [
    {
     "data": {
      "text/plain": [
       "[('xq', 0.9999144554138184),\n",
       " ('siemprw', 0.9992435455322266),\n",
       " ('k', 0.9937522594745343),\n",
       " ('cortaste', 0.981290340423584),\n",
       " ('mal', 0.9546548789028302),\n",
       " ('cheto', 0.9365130337801847),\n",
       " ('bien', 0.8971196052141314),\n",
       " ('ardido', 0.889198805156507),\n",
       " ('kk', 0.8616903168814523),\n",
       " ('tantos', 0.8576201438903809),\n",
       " ('rara', 0.8471055636330256),\n",
       " ('mareada', 0.8451118469238281),\n",
       " ('pepino', 0.8407421906789144),\n",
       " ('lau', 0.8260722160339355),\n",
       " ('siempre', 0.805143352545701),\n",
       " ('intimidas', 0.7958546161651612),\n",
       " ('dani', 0.7945583888462612),\n",
       " ('clarito', 0.7853520711263021),\n",
       " ('fatal', 0.7784111417573074),\n",
       " ('cuando', 0.775579869873323),\n",
       " ('viejos', 0.7387549788863571),\n",
       " ('sii', 0.7366402365944602),\n",
       " ('idiota', 0.7309819134798917),\n",
       " ('algun', 0.7226852439402397),\n",
       " ('lameculos', 0.7131201267242432),\n",
       " ('llevales', 0.7038974761962891),\n",
       " ('x', 0.6984999127447223),\n",
       " ('perverso', 0.6809136390686035),\n",
       " ('q', 0.6746455186135849),\n",
       " ('traemelos', 0.6530046463012695),\n",
       " ('ahors', 0.6382555807790449),\n",
       " ('tal', 0.6227046757199368),\n",
       " ('feo', 0.6136486053466796),\n",
       " ('no', 0.6119453772692223),\n",
       " ('esos', 0.6019587277104614),\n",
       " ('asustado', 0.6013069152832031),\n",
       " ('clasista', 0.5932697816328569),\n",
       " ('tomamos', 0.5925757544381278),\n",
       " ('ninguna', 0.5712622271643745),\n",
       " ('ultimamente', 0.5672068162397905),\n",
       " ('coraje', 0.5471427043279012),\n",
       " ('haces', 0.5345953330113774),\n",
       " ('eso', 0.5314312493491365),\n",
       " ('picado', 0.5220578908920288),\n",
       " ('tampoco', 0.5149512591687752),\n",
       " ('tuiter', 0.505259895324707),\n",
       " ('sadboy', 0.49970000982284546),\n",
       " ('matalo', 0.4804336130619049),\n",
       " ('mala', 0.47710233915114114),\n",
       " ('nunca', 0.4597700892169924),\n",
       " ('tb', 0.4572758879778251),\n",
       " ('obvia', 0.4548529897417341),\n",
       " ('esa', 0.4541963263540066),\n",
       " ('algo', 0.4473451086191179),\n",
       " ('tentado', 0.4439375540789436),\n",
       " ('cualquier', 0.44197189807891846),\n",
       " ('serio', 0.43685575648083946),\n",
       " ('ahi', 0.43535162102092395),\n",
       " ('vd', 0.42869415283203127),\n",
       " ('sola', 0.42864288812620543),\n",
       " ('bon', 0.4286322593688965),\n",
       " ('muuy', 0.4272966340736106),\n",
       " ('ellos', 0.4255357740879977),\n",
       " ('buena', 0.42041794419271816),\n",
       " ('marrana', 0.41959714889526367),\n",
       " ('lugano', 0.41080641746520996),\n",
       " ('hoola', 0.4106668896145291),\n",
       " ('sabiendo', 0.40798234939575195),\n",
       " ('tan', 0.40772322709916214),\n",
       " ('ami', 0.39969594425267796),\n",
       " ('dedo', 0.39093367258707684),\n",
       " ('vacia', 0.3859184810093471),\n",
       " ('triste', 0.3831718240749269),\n",
       " ('resignado', 0.3827168146769206),\n",
       " ('tontos', 0.3822769224643707),\n",
       " ('contenta', 0.3537761370340983),\n",
       " ('honrados', 0.35158467292785645),\n",
       " ('alguien', 0.3513171340835714),\n",
       " ('igual', 0.3492921374841026),\n",
       " ('poniendo', 0.3492732508836881),\n",
       " ('caprichos', 0.34279242157936096),\n",
       " ('doble', 0.3381973046522874),\n",
       " ('mg', 0.33451597690582274),\n",
       " ('esperando', 0.3233419402940326),\n",
       " ('fuistes', 0.31923702359199524),\n",
       " ('muy', 0.3110702331409517),\n",
       " ('esas', 0.302078910693372),\n",
       " ('cerebral', 0.2986386716365814),\n",
       " ('o', 0.29335707902697833),\n",
       " ('todo', 0.29333703661730565),\n",
       " ('terrible', 0.29290473461151123),\n",
       " ('paint', 0.29207465052604675),\n",
       " ('calladito', 0.28973291397094725),\n",
       " ('follen', 0.2863923985025157),\n",
       " ('d', 0.2805645321961762),\n",
       " ('l', 0.27427258910315616),\n",
       " ('lados', 0.2731213482393735),\n",
       " ('ke', 0.2714339570357249),\n",
       " ('estos', 0.2700316482323867),\n",
       " ('totalmente', 0.2647797346115112),\n",
       " ('ninguno', 0.26407212018966675),\n",
       " ('abrazo', 0.2617043942686111),\n",
       " ('pobre', 0.2588955026406508),\n",
       " ('p', 0.2561178472306993),\n",
       " ('hacen', 0.2560420159940366),\n",
       " ('cambi', 0.25076603006433557),\n",
       " ('nada', 0.24925634178655903),\n",
       " ('pedo', 0.24917035353811165),\n",
       " ('pes', 0.24738470713297525),\n",
       " ('..', 0.24714442963596508),\n",
       " ('cuantas', 0.24445702812888406),\n",
       " ('mierda', 0.24058743793771123),\n",
       " ('timbales', 0.23963420391082763),\n",
       " ('ese', 0.23843364032263625),\n",
       " ('nerviosita', 0.2371120055516561),\n",
       " ('tipo', 0.23609652784135607),\n",
       " ('jajajaja', 0.23338632120722402),\n",
       " ('m', 0.2320227196915553),\n",
       " ('etiquetarme', 0.22920784083279697),\n",
       " ('pro', 0.22338511727072977),\n",
       " ('respetuoso', 0.22158748225161903),\n",
       " ('supps', 0.22071974927728827),\n",
       " ('*le', 0.2193391950506913),\n",
       " ('respeto', 0.2183236474493662),\n",
       " ('chino', 0.21561651644499405),\n",
       " ('claro', 0.213238389366178),\n",
       " ('cansado', 0.21308314535193718),\n",
       " ('cada', 0.212799893219786),\n",
       " ('mediocres', 0.21152174472808838),\n",
       " ('jaja', 0.20749003373038485),\n",
       " ('formulas', 0.20241525298670718),\n",
       " ('humor', 0.20087474270870811),\n",
       " ('acostumbrarse', 0.20077059485695578),\n",
       " ('pau', 0.19781910456143892),\n",
       " ('monica', 0.1963375210762024),\n",
       " ('pedos', 0.19592403173446654),\n",
       " ('nerviosa', 0.195508340994517),\n",
       " ('donde', 0.19259508995627184),\n",
       " ('rojos', 0.19178830252753365),\n",
       " ('quedo', 0.19119273219257593),\n",
       " ('cuello', 0.18984642624855042),\n",
       " ('hashtag', 0.18722086383378458),\n",
       " ('manyana', 0.1816709034687249),\n",
       " ('pasillo', 0.17970484495162964),\n",
       " ('cuanto', 0.1701203982035319),\n",
       " ('jajaja', 0.16932244853071557),\n",
       " ('lo', 0.16682264106981745),\n",
       " ('tanto', 0.16596072728220912),\n",
       " ('zi', 0.1658864671533758),\n",
       " ('moral', 0.16553244223961464),\n",
       " ('despierto', 0.16353599727153778),\n",
       " ('bichos', 0.16305281718571982),\n",
       " ('cojo', 0.16265913573178378),\n",
       " ('pasando', 0.16119102239608765),\n",
       " ('mayoritaria', 0.15942837881005328),\n",
       " ('todos', 0.158695020862632),\n",
       " ('quedar', 0.15661433163811178),\n",
       " ('ye', 0.1519315540790558),\n",
       " ('esto', 0.15088265868327605),\n",
       " ('ojos', 0.15060623486836752),\n",
       " ('recien', 0.15001419316167416),\n",
       " ('poca', 0.1498328149318695),\n",
       " ('responde', 0.14515948295593262),\n",
       " ('bajo', 0.1450315255385179),\n",
       " ('ni', 0.13977522195994543),\n",
       " ('buen', 0.13409923502800974),\n",
       " ('unidos', 0.13148713963372366),\n",
       " ('bran', 0.1311603676189076),\n",
       " ('buenas', 0.12975559862596647),\n",
       " ('malo', 0.1267139385709468),\n",
       " ('nadie', 0.1267024815252364),\n",
       " ('escribenos', 0.12588700710558423),\n",
       " ('ovarios', 0.12500337191990443),\n",
       " ('deprimida', 0.12303306659062703),\n",
       " ('peguemos', 0.12257267236709594),\n",
       " ('tomar', 0.12197829286257426),\n",
       " ('dificil', 0.12030933388307982),\n",
       " ('duchate', 0.11997590746198382),\n",
       " ('textos', 0.11996763402765448),\n",
       " ('ja', 0.11938061427250182),\n",
       " ('parecio', 0.11780057455364026),\n",
       " ('coso', 0.11681636742183141),\n",
       " ('despues', 0.1163383895355241),\n",
       " ('roben', 0.11621617317199708),\n",
       " ('limitrofes', 0.11411917727926503),\n",
       " ('dejaban', 0.1136184533437093),\n",
       " ('links', 0.11339879035949707),\n",
       " ('hayas', 0.11147987842559814),\n",
       " ('raras', 0.10991840777189835),\n",
       " ('poco', 0.10587516826093019),\n",
       " ('pagamos', 0.10581778225145842),\n",
       " ('ella', 0.10576902009446154),\n",
       " ('haser', 0.10443303459569027),\n",
       " ('pones', 0.10307723681131999),\n",
       " ('aparte', 0.10188482096901645),\n",
       " ('guste', 0.1008167490363121),\n",
       " ('feliz', 0.10035767451651594),\n",
       " ('dejaron', 0.09940904662722633),\n",
       " ('denada', 0.09633467414162376),\n",
       " ('titanic', 0.09550559520721436),\n",
       " ('dicho', 0.09505515621718529),\n",
       " ('ingeniosas', 0.09353300929069519),\n",
       " ('lucas', 0.09319138526916504),\n",
       " ('entiende', 0.09198014217760092),\n",
       " ('cierto', 0.09150939770790431),\n",
       " ('porfa', 0.09095305949449539),\n",
       " ('poner', 0.09059856688712285),\n",
       " ('sol', 0.08964683771132397),\n",
       " ('juegas', 0.08786933869123459),\n",
       " ('incoherente', 0.08733281764117154),\n",
       " ('criticar', 0.08673093236725905),\n",
       " ('mates', 0.08621042746084707),\n",
       " ('has', 0.08552378812239826),\n",
       " ('pensado', 0.08481772379441695),\n",
       " ('bonita', 0.08465830403549242),\n",
       " ('pasiva', 0.08455656704149749),\n",
       " ('rigurosa', 0.08410854850496564),\n",
       " ('pide', 0.08365150205381623),\n",
       " ('rapido', 0.08358098943312856),\n",
       " ('si', 0.08334921302408216),\n",
       " ('ser', 0.0829320217627235),\n",
       " ('decir', 0.08228193174160178),\n",
       " ('calla', 0.08193822529004968),\n",
       " ('contentas', 0.08184278011322021),\n",
       " ('pizzas', 0.08180995214553106),\n",
       " ('eu', 0.08177682757377625),\n",
       " ('mar', 0.08144423932867437),\n",
       " ('peso', 0.07883117749140812),\n",
       " ('pola', 0.07753720453807286),\n",
       " ('bastante', 0.07726896303999208),\n",
       " ('hicimos', 0.0772439373864068),\n",
       " ('soi', 0.07586597204208374),\n",
       " ('tostadas', 0.07511483132839203),\n",
       " ('duele', 0.07438036843242808),\n",
       " ('jaj', 0.07415928159441267),\n",
       " ('hubiera', 0.07385786411520165),\n",
       " ('\"', 0.07226469100761342),\n",
       " ('mucho', 0.07214905499092483),\n",
       " ('como', 0.07181356306347707),\n",
       " ('caritativa', 0.07065893141250217),\n",
       " ('jodidos', 0.07054351766904195),\n",
       " ('non', 0.06879296679827537),\n",
       " ('meo', 0.06871304247114393),\n",
       " ('combate', 0.06790142397275539),\n",
       " ('desagradable', 0.06761044427332086),\n",
       " ('barce', 0.06587891280651093),\n",
       " ('pajarito', 0.06571367612251869),\n",
       " ('solo', 0.06515866690300798),\n",
       " ('peor', 0.06504653826134191),\n",
       " ('raro', 0.06419900059700012),\n",
       " ('bueno', 0.06251690201761469),\n",
       " ('enamora', 0.062474062045415245),\n",
       " ('preparando', 0.061512390259803845),\n",
       " ('pequenyas', 0.06145233341625759),\n",
       " ('espanyas', 0.06145231638635908),\n",
       " ('tenias', 0.06065198657424411),\n",
       " ('sin', 0.06062879771047211),\n",
       " ('tranquila', 0.059466360876722184),\n",
       " ('pero', 0.05917908725698137),\n",
       " ('conectada', 0.058680977140154154),\n",
       " ('otra', 0.05695617944738011),\n",
       " ('parir', 0.05688925584157308),\n",
       " ('ahora', 0.05591021922441914),\n",
       " ('todas', 0.05579307328951814),\n",
       " ('oportunamente', 0.05538543224334717),\n",
       " ('nombres', 0.05524861812591553),\n",
       " ('super', 0.05495198947370767),\n",
       " ('parece', 0.054783978122519845),\n",
       " ('odio', 0.0547335799398125),\n",
       " ('neuronas', 0.05444628616859173),\n",
       " ('muchos', 0.054412515816145805),\n",
       " ('z', 0.05374993776020251),\n",
       " ('puta', 0.0537146756153414),\n",
       " ('jodido', 0.05315030597248854),\n",
       " ('o-o', 0.05274503098593818),\n",
       " ('alli', 0.05268752956739669),\n",
       " ('harto', 0.05260505584570078),\n",
       " ('raton', 0.052546093861262),\n",
       " ('mantengo', 0.052504858800343106),\n",
       " ('marchar', 0.052394187450408934),\n",
       " ('ambos', 0.05227962721671377),\n",
       " ('preocupado', 0.05217992663383484),\n",
       " ('noo', 0.05205621719360352),\n",
       " ('quejicas', 0.051919142405192055),\n",
       " ('muchisima', 0.051608270546421406),\n",
       " ('estupendo', 0.051496003355298726),\n",
       " ('proxima', 0.04965887156625589),\n",
       " ('eres', 0.04952704652945767),\n",
       " ('diciendo', 0.04949697962054178),\n",
       " ('seguro', 0.04829824176445305),\n",
       " ('76', 0.04798828230963813),\n",
       " ('etc', 0.047492887627271094),\n",
       " ('jeje', 0.04738945265611013),\n",
       " ('descuento', 0.04652563263388241),\n",
       " ('hizo', 0.046487151740805345),\n",
       " ('ps', 0.046225628682545254),\n",
       " ('obligan', 0.04608863592147827),\n",
       " ('autorizacion', 0.04595810434092646),\n",
       " ('kiko', 0.04587050720497414),\n",
       " ('aguantandole', 0.04555193583170573),\n",
       " ('adjetivo', 0.04545307755470276),\n",
       " ('violacion', 0.04521396557490031),\n",
       " ('diferencias', 0.0448814332485199),\n",
       " ('hazme', 0.04456989873539318),\n",
       " ('privado', 0.043130851025066155),\n",
       " ('inteligente', 0.042685747146606445),\n",
       " ('salvas', 0.04243585696587196),\n",
       " ('ok', 0.0421649350060357),\n",
       " ('tu', 0.04213041324086204),\n",
       " ('es', 0.041436533235929766),\n",
       " ('dolor', 0.04142717804227557),\n",
       " ('se', 0.04135632659510523),\n",
       " ('fue', 0.04106403044561989),\n",
       " ('bomberos', 0.040467522646251475),\n",
       " ('cojones', 0.040378316796344266),\n",
       " ('semanas', 0.04016145169734955),\n",
       " ('hay', 0.03880546518968695),\n",
       " ('repente', 0.03874270762166669),\n",
       " ('creen', 0.038737701872984566),\n",
       " ('harta', 0.0383488185265485),\n",
       " ('jajajajaja', 0.03834813833236694),\n",
       " ('te', 0.03801842371162587),\n",
       " ('rodillas', 0.037923500537872315),\n",
       " ('luego', 0.037575093218527464),\n",
       " ('esque', 0.03749176859855652),\n",
       " ('clash', 0.037451331615447996),\n",
       " ('piti', 0.036586305369501526),\n",
       " ('ejercicio', 0.036362625658512115),\n",
       " ('poquito', 0.03602879292732849),\n",
       " ('decente', 0.035980611418684326),\n",
       " ('tonic', 0.03536092738310496),\n",
       " ('acuerdan', 0.035331785678863525),\n",
       " ('repelente', 0.035035398602485654),\n",
       " ('digo', 0.03402546265413744),\n",
       " ('md', 0.0336742103099823),\n",
       " ('hayan', 0.033576789829466075),\n",
       " ('duro', 0.03329716835481425),\n",
       " ('pongo', 0.033239660610755284),\n",
       " ('tweet', 0.033039225472344294),\n",
       " ('enfadado', 0.03299302856127421),\n",
       " ('favor', 0.032790261507034305),\n",
       " ('funcionen', 0.032470097144444786),\n",
       " ('cansada', 0.032387420535087585),\n",
       " ('grupos', 0.03226809576153755),\n",
       " ('lxs', 0.03219445049762726),\n",
       " ('primero', 0.031723856454809046),\n",
       " ('ff', 0.03158482483455113),\n",
       " ('tengas', 0.03148459057722773),\n",
       " ('guapa', 0.03121629646436001),\n",
       " ('gran', 0.03118380546706829),\n",
       " ('likes', 0.031174849580835412),\n",
       " ('sonreir', 0.030514911982493523),\n",
       " ('estilo', 0.029875435327228746),\n",
       " ('preguntas', 0.029788309708237648),\n",
       " ('grande', 0.029721587779196777),\n",
       " ('ganadora', 0.029683511046802297),\n",
       " ('creo', 0.02963349254857377),\n",
       " ('saludos', 0.02960199237764372),\n",
       " ('admiracion', 0.029574036598205566),\n",
       " ('eras', 0.029529770215352375),\n",
       " ('usa', 0.029485694567362466),\n",
       " ('basadas', 0.029412965882908215),\n",
       " ('hoy', 0.029367049921579846),\n",
       " ('descarada', 0.02907422065734863),\n",
       " ('videos', 0.02875928332408269),\n",
       " ('sniff', 0.02864392180191843),\n",
       " ('anda', 0.028604513136886767),\n",
       " ('tristes', 0.028367327018217606),\n",
       " ('tele', 0.02816101908683777),\n",
       " ('coincido', 0.02813881894816523),\n",
       " ('solamente', 0.02806588359501051),\n",
       " ('sensual', 0.027665214105085892),\n",
       " ('feelsbadman', 0.027515668954168047),\n",
       " ('tus', 0.027168360509536263),\n",
       " ('den', 0.026474071045716602),\n",
       " ('desilusion', 0.026096154342998158),\n",
       " ('animas', 0.025811525908383457),\n",
       " ('privada', 0.025485420928281897),\n",
       " ('escogieron', 0.02518806287220546),\n",
       " ('vez', 0.02518610643423842),\n",
       " ('comprando', 0.025097612981443054),\n",
       " ('jugar', 0.025042126838505718),\n",
       " ('pequenya', 0.025002692548545716),\n",
       " ('mil', 0.02499041553153585),\n",
       " ('eh', 0.02489412896749046),\n",
       " ('porque', 0.024741439496844386),\n",
       " ('encima', 0.024523251234620114),\n",
       " ('activa', 0.024240626022219658),\n",
       " ('pilla', 0.02391154720233037),\n",
       " ('tas', 0.02376105026765303),\n",
       " ('toda', 0.0237193801917819),\n",
       " ('bof', 0.023617023229599),\n",
       " ('lindo', 0.0235312796555393),\n",
       " ('nosotros', 0.023510784686853487),\n",
       " ('cago', 0.02337185467874247),\n",
       " ('tuit', 0.023366731146107548),\n",
       " ('menos', 0.023246553886558535),\n",
       " ('amigas', 0.02322559158007304),\n",
       " ('hipocrita', 0.023055650293827057),\n",
       " ('dios', 0.022961609889479245),\n",
       " ('le', 0.0227417982903127),\n",
       " ('milagrosos', 0.022419493822824387),\n",
       " ('hace', 0.02239236890379925),\n",
       " ('ojo', 0.022246969597680227),\n",
       " ('leido.', 0.022050706239847038),\n",
       " ('desprecio', 0.02183435360590617),\n",
       " ('efecto', 0.021183171997899593),\n",
       " ('pagar', 0.02095585782473412),\n",
       " ('soy', 0.02059131360585016),\n",
       " ('hacias', 0.02027297561818903),\n",
       " ('y', 0.02019325723755108),\n",
       " ('roto', 0.020132722854614257),\n",
       " ('barras', 0.020128529322774785),\n",
       " ('fuego', 0.02002592306388052),\n",
       " ('sea', 0.019808545343863834),\n",
       " ('nah', 0.01913516322771708),\n",
       " ('considere', 0.018949836492538452),\n",
       " ('estas', 0.018874575396667932),\n",
       " ('guada', 0.018823338406426565),\n",
       " ('mensaje', 0.018784865021167958),\n",
       " ('facebook', 0.01861269772052765),\n",
       " ('exprese', 0.018558352081863967),\n",
       " ('gracioso', 0.018359889999240427),\n",
       " ('aludida', 0.01818522925560291),\n",
       " ('evolucionar', 0.01796603560447693),\n",
       " ('coincidimos', 0.017939281463623048),\n",
       " ('canciones', 0.017862749222776537),\n",
       " ('campo', 0.017577447825007968),\n",
       " ('menores', 0.01749276965856552),\n",
       " ('aa', 0.017491130158305168),\n",
       " ('reves', 0.017284302310031308),\n",
       " ('amigos', 0.0172142197212525),\n",
       " ('atrevido', 0.01704908136663766),\n",
       " ('ia', 0.016864928007125853),\n",
       " ('trabajar', 0.016777211119536634),\n",
       " ('noto', 0.01668919942208699),\n",
       " ('chicas', 0.01651647970167517),\n",
       " ('mas', 0.01637149121014534),\n",
       " ('manis', 0.01634228229522705),\n",
       " ('ojala', 0.016320883595301743),\n",
       " ('portada', 0.016186445951461792),\n",
       " ('carreras', 0.016141876578330994),\n",
       " ('dices', 0.01598205150562033),\n",
       " ('jugando', 0.015638083219528198),\n",
       " ('fallan', 0.015621508713121767),\n",
       " ('suculentos', 0.015602002089673822),\n",
       " ('faltaria', 0.015382518370946249),\n",
       " ('razon', 0.01527759313583374),\n",
       " ('combates', 0.01519679074937647),\n",
       " ('mutuo', 0.015183302263418833),\n",
       " ('sabado', 0.015177399063339599),\n",
       " ('cortante', 0.015114426612854004),\n",
       " ('bronquitis', 0.01510124710889963),\n",
       " ('usarla', 0.014987168567521232),\n",
       " ('directos', 0.014943054121686146),\n",
       " ('ensucio', 0.014868566218544455),\n",
       " ('anyo', 0.014808983583709068),\n",
       " ('mismos', 0.014759798844655355),\n",
       " ('horrible', 0.014586097560822964),\n",
       " ('mejor', 0.01457891359362109),\n",
       " ('besitos', 0.014548047364184552),\n",
       " ('compis', 0.014533829959956083),\n",
       " ('prestar', 0.014330779512723288),\n",
       " ('combo', 0.01426270604133606),\n",
       " ('quede', 0.014085114002227783),\n",
       " ('serio.', 0.01403382420539856),\n",
       " ('lees', 0.014022023479143778),\n",
       " ('cuantos', 0.01389196418946789),\n",
       " ('romper', 0.013796130767124786),\n",
       " ('colectivo', 0.013731925260452997),\n",
       " ('izquierda', 0.013615250587463379),\n",
       " ('viendo', 0.013556402952551306),\n",
       " ('plaza', 0.013517440855503082),\n",
       " ('apenas', 0.013323970139026642),\n",
       " ('embarazada', 0.013319514195124308),\n",
       " ('limo', 0.013266859576106071),\n",
       " ('das', 0.01314125657081604),\n",
       " ('dao', 0.013134832343747538),\n",
       " ('pagarla', 0.013100088470511966),\n",
       " ('tienen', 0.012976377639599244),\n",
       " ('deja', 0.012911106556274176),\n",
       " ('pues', 0.012844782830010752),\n",
       " ('espero', 0.012744839796256862),\n",
       " ('solian', 0.012611262500286102),\n",
       " ('elle', 0.012545536789629195),\n",
       " ('dibujos', 0.012450454756617546),\n",
       " ('amigo', 0.012345523227592027),\n",
       " ('pendiente', 0.012202123180031776),\n",
       " ('ehh', 0.012169301509857178),\n",
       " ('soporto', 0.012163246671358744),\n",
       " ('deberian', 0.012064042687416076),\n",
       " ('sarcasmo', 0.012006442546844482),\n",
       " ('juju', 0.011766148301271291),\n",
       " ('seas', 0.011704737160887036),\n",
       " ('olvidaban', 0.01166815496981144),\n",
       " ('estaba', 0.011474586131457095),\n",
       " ('dijeron', 0.011339372396469117),\n",
       " ('rayes', 0.011288543542226156),\n",
       " ('sirve', 0.011265716873682462),\n",
       " ('aliya', 0.011129450641180339),\n",
       " ('habia', 0.01069498553580414),\n",
       " ('manotazo', 0.010633766651153564),\n",
       " ('b', 0.010592717931644504),\n",
       " ('primera', 0.010567753040886474),\n",
       " ('convenza', 0.010556087493896485),\n",
       " ('llorar', 0.010448356382399281),\n",
       " ('gusta', 0.010340342389899294),\n",
       " ('segura', 0.010340321947027135),\n",
       " ('asqueroso', 0.010319703946942869),\n",
       " ('fe', 0.010288475797726558),\n",
       " ('dramatizar', 0.010208709372414483),\n",
       " ('juntos', 0.010206211480125012),\n",
       " ('haya', 0.010177466015036267),\n",
       " ('pudo', 0.010123660059598012),\n",
       " ('gracias', 0.01002498961144528),\n",
       " ('chancla', 0.009981153642430025),\n",
       " ('punto', 0.009949143976346256),\n",
       " ('comprendo', 0.009944079650772942),\n",
       " ('ningun', 0.009938921531041462),\n",
       " ('saturado', 0.009892057966102253),\n",
       " ('vende', 0.009863981045782566),\n",
       " ('lejos', 0.009861461531657439),\n",
       " ('entrenar', 0.009797016015419593),\n",
       " ('mis', 0.00968791754496381),\n",
       " ('pa', 0.009470483286363691),\n",
       " ('creer', 0.009350247184435527),\n",
       " ('ofreceria', 0.009268231689929962),\n",
       " ('infor', 0.009263981754581133),\n",
       " ('siquiera', 0.009149628250222457),\n",
       " ('son', 0.009134968199027758),\n",
       " ('cualquiera', 0.009101448150781484),\n",
       " ('bandera', 0.009084626287221908),\n",
       " ('burguer', 0.009078935466029427),\n",
       " ('ahh', 0.009019170816128071),\n",
       " ('cuento', 0.008977633829300221),\n",
       " ('entreno', 0.008906199463776179),\n",
       " ('hacer', 0.00872266094702088),\n",
       " ('pone', 0.008596622103843397),\n",
       " ('nazismo', 0.008564930122632246),\n",
       " ('cansa', 0.008561623485192009),\n",
       " ('uff', 0.00852355282557638),\n",
       " ('recomienda', 0.008464848686908853),\n",
       " ('cara', 0.008452361721776682),\n",
       " ('a', 0.00836740029237961),\n",
       " ('carita', 0.008251169962542397),\n",
       " (',', 0.008238679362287775),\n",
       " ('mayor', 0.008115319609642029),\n",
       " ('veces', 0.008094087489707101),\n",
       " ('quien', 0.008079266076513743),\n",
       " ('ya', 0.007972572988877723),\n",
       " ('animo', 0.007945874223002681),\n",
       " ('alegro', 0.007926367022573747),\n",
       " ('down', 0.007875470251872622),\n",
       " ('medica', 0.007836344341437021),\n",
       " ('dicen', 0.007834873205224755),\n",
       " ('2017', 0.007767843348639352),\n",
       " ('wuouuoo', 0.007767843348639352),\n",
       " ('grasias', 0.007728209098180135),\n",
       " ('felices', 0.007707386332399705),\n",
       " ('muchas', 0.0076721847365339305),\n",
       " ('coloquial', 0.007666713812134482),\n",
       " ('imagino', 0.007608201192772906),\n",
       " ('llamandome', 0.007556229297603879),\n",
       " ('bajarse', 0.007540338635444641),\n",
       " ('vuelva', 0.00748487739335923),\n",
       " ('capaz', 0.007416977340872193),\n",
       " ('entendido', 0.007408655208090077),\n",
       " ('dr', 0.007365162173906962),\n",
       " ('falta', 0.007359362439492946),\n",
       " ('cual', 0.007238445212207144),\n",
       " ('propongo', 0.007222383110611527),\n",
       " ('votante', 0.0072059521208638734),\n",
       " ('tambien', 0.007124066591837339),\n",
       " ('ave', 0.007079435571356979),\n",
       " ('excell', 0.007048160714261672),\n",
       " ('tw', 0.006951037380430434),\n",
       " ('matematicas', 0.006929582671115273),\n",
       " ('que', 0.00689985802509804),\n",
       " ('aposta', 0.0068730829017502925),\n",
       " ('gente', 0.006862597709350232),\n",
       " ('vete', 0.006844413123632732),\n",
       " ('somos', 0.006751317289144858),\n",
       " ('compartir', 0.006716941483318806),\n",
       " ('imaginas', 0.0066735101373572095),\n",
       " ('tocado', 0.006645065934761711),\n",
       " ('vendo', 0.006644989053408305),\n",
       " ('estudia', 0.006631076246785205),\n",
       " ('perdona', 0.006602862761134193),\n",
       " ('bus', 0.0064809780429910735),\n",
       " ('calle', 0.006420408303921039),\n",
       " ('venda', 0.006400139204093388),\n",
       " ('acampados', 0.0063797831535339355),\n",
       " ('oido', 0.006307276172770394),\n",
       " ('rica', 0.0063004002851598405),\n",
       " ('escuadron', 0.006255770567804575),\n",
       " ('tapadera', 0.006192103028297424),\n",
       " ('retraso', 0.006183973871744596),\n",
       " ('hablarme', 0.00611987378862169),\n",
       " ('griego', 0.006071100461071935),\n",
       " ('gestionar', 0.006061232752270169),\n",
       " ('app', 0.006057420029090001),\n",
       " ('novena', 0.0060142628275431115),\n",
       " ('sevillano', 0.005983162413422878),\n",
       " ('piensa', 0.005912061990339518),\n",
       " ('sabes', 0.005838635576050426),\n",
       " ('fardando', 0.005833180248737335),\n",
       " ('animos', 0.005803902614529111),\n",
       " ('cuadros', 0.005767491810462054),\n",
       " ('mucha', 0.005736352780157274),\n",
       " ('dijiste', 0.00571772117506374),\n",
       " ('los', 0.005663653139405473),\n",
       " ('entiendo', 0.0056283312274120235),\n",
       " ('lamentablemente', 0.005624198842616309),\n",
       " ('manguerazo', 0.005617419088428671),\n",
       " ('imposible', 0.005587003447792747),\n",
       " ('monton', 0.00556634118159612),\n",
       " ('espanya', 0.005502812229266473),\n",
       " ('frases', 0.005493239810069402),\n",
       " ('*con', 0.005451029911637306),\n",
       " ('grasioso', 0.005438374976317088),\n",
       " ('asi', 0.005432627421188718),\n",
       " ('comprarlas', 0.005428256974978881),\n",
       " ('problema', 0.005418514087796211),\n",
       " ('especial', 0.005415714771291356),\n",
       " ('7', 0.00540937962276595),\n",
       " ('tardes', 0.005391540596195098),\n",
       " ('luchar', 0.005236004789670308),\n",
       " ('cosas', 0.0052340357344778056),\n",
       " ('verdadera', 0.005222780423031913),\n",
       " ('ham', 0.005215065958707229),\n",
       " ('e', 0.005168362252527114),\n",
       " ('optimistas', 0.005158987268805504),\n",
       " ('dar', 0.005143344294398077),\n",
       " ('chulas', 0.0051378823195894555),\n",
       " ('ideas', 0.005131213304897149),\n",
       " ('flipados', 0.005041321429113547),\n",
       " ('tio', 0.0050211661568934),\n",
       " ('friendose', 0.005005137278483464),\n",
       " ('lobos', 0.004999429959317912),\n",
       " ('puse', 0.004995188574640103),\n",
       " ('representando', 0.00497641257549587),\n",
       " ('hora', 0.004949733594283654),\n",
       " ('dice', 0.004906224111532268),\n",
       " ('han', 0.00488805331550625),\n",
       " ('comer', 0.004878579080104828),\n",
       " ('consigan', 0.004872841662482212),\n",
       " ('hablando', 0.0048673430768152075),\n",
       " ('darte', 0.004819605134281458),\n",
       " ('salir', 0.004811867451123564),\n",
       " ('hecho', 0.004805037726808262),\n",
       " ('agobiado', 0.004761155408162337),\n",
       " ('estar', 0.004750783993074063),\n",
       " ('antes', 0.004716603736633706),\n",
       " ('borrao', 0.0047143613919615746),\n",
       " ('subiendo', 0.004698173763851325),\n",
       " ('tiene', 0.004677399455668769),\n",
       " ('aunque', 0.004632755407802311),\n",
       " ('cambien', 0.004560692656424737),\n",
       " ('salen', 0.004550149665203077),\n",
       " ('pastilla', 0.004545861589057105),\n",
       " ('miedo', 0.0045281445607542985),\n",
       " ('educacion', 0.004480125175582038),\n",
       " ('dejan', 0.00445369954990304),\n",
       " ('derecha', 0.004423908889293671),\n",
       " ('decirme', 0.004392612003683065),\n",
       " ('vista', 0.004385112032219016),\n",
       " ('hahahahha', 0.004344161972403527),\n",
       " ('oscuridad', 0.004343188885185454),\n",
       " ('elecciones', 0.004276369787043049),\n",
       " ('tuyo', 0.004237433075904846),\n",
       " ('teniendo', 0.004223811253905296),\n",
       " ('cortamos', 0.004223300232773735),\n",
       " ('antiguos', 0.004178710747510195),\n",
       " ('psicologia', 0.00413877610117197),\n",
       " ('mismo', 0.004132754067613814),\n",
       " ('destrozaba', 0.004114848162446704),\n",
       " ('marcos', 0.004112958908081055),\n",
       " ('siente', 0.004104406439832279),\n",
       " ('pelorizo', 0.004080003393547875),\n",
       " ('demasiado', 0.004065651816006076),\n",
       " ('polla', 0.0040641446476397305),\n",
       " ('jp', 0.004055919016108793),\n",
       " ('autobus', 0.0040332403843084605),\n",
       " ('subtitulos', 0.003981550845007102),\n",
       " ('12,13', 0.003954233601689339),\n",
       " ('14', 0.00390940153168134),\n",
       " ('clans', 0.003891714811325073),\n",
       " ('puto', 0.003847008441063938),\n",
       " ('comprao', 0.003829550160014111),\n",
       " ('sonyar', 0.0038031802365654393),\n",
       " ('cabesa*', 0.0038031798444296185),\n",
       " ('all', 0.003799682313745672),\n",
       " ('casados', 0.0037878496715655695),\n",
       " ('desafeccion', 0.0037837167796881304),\n",
       " ('mio', 0.003779244693842801),\n",
       " ('tampouco', 0.003762143043180307),\n",
       " ('divinas', 0.003717430763774448),\n",
       " ('der', 0.0036785868198975272),\n",
       " ('bragas', 0.0036568424918434835),\n",
       " ('buenos', 0.0036557576524507587),\n",
       " ('sus', 0.003652813005256447),\n",
       " ('devuelves', 0.003623903862067631),\n",
       " ('fp', 0.003593440757443508),\n",
       " ('s', 0.003587292364010444),\n",
       " ('cola', 0.0035412508462156567),\n",
       " ('pases', 0.003541128879243677),\n",
       " ('oreja', 0.003537291893735528),\n",
       " ('joda', 0.0034845134332066492),\n",
       " ('confundio', 0.0034799745513333213),\n",
       " ('jugamos', 0.0034739037177392413),\n",
       " ('culo', 0.003400331363081932),\n",
       " ('conozco', 0.003391318422107235),\n",
       " ('perzona', 0.0033826391127976503),\n",
       " ('felicidades', 0.003370335209888942),\n",
       " ('hola', 0.003367251000499143),\n",
       " ('biograficos', 0.003319127071234915),\n",
       " ('limpiarlas', 0.0033186000179160724),\n",
       " ('ganitas', 0.003305796223382155),\n",
       " ('juego', 0.003300225210284237),\n",
       " ('idea.', 0.003287337916462045),\n",
       " ('real.', 0.003287337916462045),\n",
       " ('desvelare', 0.0032790479836640536),\n",
       " ('mucha.', 0.00326460310154491),\n",
       " ('justo', 0.0032362393425375956),\n",
       " ('otro', 0.00322646452403202),\n",
       " ('otros', 0.0032207057325876892),\n",
       " ('tia', 0.003166667781375441),\n",
       " ('repetidos', 0.0031541219602028527),\n",
       " ('guapas', 0.0031193579650587505),\n",
       " ('cuanta', 0.003075583577156067),\n",
       " ('tripa', 0.0030436402559280394),\n",
       " ('i', 0.003043585066442136),\n",
       " ('puede', 0.0030396510252380816),\n",
       " ('sentirme', 0.0030210835060903002),\n",
       " ('retuitea', 0.0029439933990177357),\n",
       " ('comun', 0.002935411940727915),\n",
       " ('audios', 0.0029292080837946674),\n",
       " ('peleas', 0.0029110016766935587),\n",
       " ('bajonazo', 0.0028808645226738668),\n",
       " ('prontito', 0.002857130880539234),\n",
       " ('volando', 0.0028170892037451267),\n",
       " ('parada', 0.0028141625225543976),\n",
       " ('socialistas', 0.0028086111415177584),\n",
       " ('vinieron', 0.002780254619816939),\n",
       " ('saludo', 0.0027709263229062633),\n",
       " ('maldita', 0.0027655896085959216),\n",
       " ('contaras', 0.0027549974620342255),\n",
       " ('17', 0.0027369756023259916),\n",
       " ('jugaba', 0.0027102035284042357),\n",
       " ('dormir', 0.0027040599180122695),\n",
       " ('suben', 0.002681086722173189),\n",
       " ('vomitar', 0.0026551676202904093),\n",
       " ('consigo', 0.0026482827961444855),\n",
       " ('emergentes', 0.0026444606482982635),\n",
       " ('urgente', 0.0026410926310789016),\n",
       " ('utilizan', 0.002611055397070371),\n",
       " ('pelis', 0.0026055582695537144),\n",
       " ('merezco', 0.002574366983026266),\n",
       " ('enric', 0.0025598802603781223),\n",
       " ('separatistas', 0.002550047871313597),\n",
       " ('llevar', 0.0025364747270941734),\n",
       " ('ganas', 0.0025224507729574956),\n",
       " ('pantalones', 0.002522049844264984),\n",
       " ('2.', 0.0025142465646450338),\n",
       " ('audio', 0.0024923870170658283),\n",
       " ('ps4', 0.0024849972264333205),\n",
       " ('vergonzosa', 0.002480499284422916),\n",
       " ('olvidarme', 0.002478497102856636),\n",
       " ('min', 0.002471748877454687),\n",
       " ('fiebre', 0.0024545039236545563),\n",
       " ('borro', 0.002436482161283493),\n",
       " ('catalunya', 0.002426869971187491),\n",
       " ('verdad', 0.00239164112922613),\n",
       " ('constitucion', 0.002377246506512165),\n",
       " ('corte', 0.0023765826167968605),\n",
       " ('intercambiar', 0.0023732963535520765),\n",
       " ('sean', 0.002370432631339319),\n",
       " ('esquina', 0.0023462503756347453),\n",
       " ('-ta', 0.002322361159783143),\n",
       " ('mandarlo', 0.002307878186305364),\n",
       " ('caracteres', 0.00230593363650971),\n",
       " ('dan', 0.002296265836018089),\n",
       " ('so', 0.002283299335481893),\n",
       " ('iwata', 0.002277245745062828),\n",
       " ('ducha', 0.002263897368984838),\n",
       " ('saber', 0.0022386477461883),\n",
       " ('cierta', 0.0022384665514293468),\n",
       " ('bona', 0.0022323988378047943),\n",
       " ('verlos', 0.0022178991613062944),\n",
       " ('calentitas', 0.002204503087947766),\n",
       " ('activados', 0.0021833479404449463),\n",
       " ('echar', 0.002156877269347509),\n",
       " ('vienen', 0.002146637625992298),\n",
       " ('recibas', 0.0021426146003333006),\n",
       " ('manera', 0.0021247425201264295),\n",
       " ('acuerdo', 0.002093531953340227),\n",
       " ('arcoiris', 0.002090188088240447),\n",
       " ('subirme', 0.0020847421358613405),\n",
       " ('merecia', 0.002084170157710711),\n",
       " ('cerradas', 0.002075891798505416),\n",
       " ('ponen', 0.0020685092146907535),\n",
       " ('apena', 0.0020670567949612937),\n",
       " ('ayudame', 0.002063189074397087),\n",
       " ('manda', 0.002050191593857912),\n",
       " ('palabras', 0.0020301963545774158),\n",
       " ('golpes', 0.0020287581964542993),\n",
       " ('reventado', 0.002017093263566494),\n",
       " ('temprano', 0.0020103082197773106),\n",
       " ('comisaria', 0.002009845784176951),\n",
       " ('atraigo', 0.0020001906901597976),\n",
       " ('escribes', 0.001999184696210755),\n",
       " ('rinyas', 0.0019968512933701277),\n",
       " ('diga', 0.001991356074465205),\n",
       " ('dias', 0.0019771518349450718),\n",
       " ('predicciones', 0.001972930919792917),\n",
       " ('darme', 0.0019699757918715476),\n",
       " ('resuelven', 0.00195719889150216),\n",
       " ('salon', 0.0019486595107161481),\n",
       " ('estan', 0.0019438279477215026),\n",
       " ('muriendo', 0.0019389239605516195),\n",
       " ('hueco', 0.0019306276332248342),\n",
       " ('genial', 0.0019238556583766118),\n",
       " ('andar', 0.001914903698932557),\n",
       " ('coges', 0.0019085087212435718),\n",
       " ('aparecen', 0.0018839922390486066),\n",
       " ('vamos', 0.0018838350886016013),\n",
       " ('dijo', 0.001881847801006986),\n",
       " ('parezco', 0.001807116141373461),\n",
       " ('habiamos', 0.0018056267872452736),\n",
       " ('trifulcas', 0.001805407926440239),\n",
       " ('les', 0.0017950222203689994),\n",
       " ('quieren', 0.0017726907713545694),\n",
       " ('nintendo', 0.001763210321466128),\n",
       " ('ve', 0.0017404227006819941),\n",
       " ('luchando', 0.001737885765339199),\n",
       " ('respuestas', 0.001733984099701047),\n",
       " ('ajajajaja', 0.0017168663131694),\n",
       " ('antibioticos', 0.0017138758585566567),\n",
       " ('haciendo', 0.001710907369852066),\n",
       " ('sorprendente', 0.0017105949421723683),\n",
       " ('coger', 0.001700361289324299),\n",
       " ('pregunta', 0.0016943768021606264),\n",
       " ('encantaban', 0.0016846104135567492),\n",
       " ('ojeda', 0.0016824205716451008),\n",
       " ('porcierto', 0.0016773341392928903),\n",
       " ('calor', 0.0016723566083613947),\n",
       " ('doy', 0.0016677746876830012),\n",
       " ('inversamente', 0.0016498775221407413),\n",
       " ('mia', 0.0016485227271914483),\n",
       " ('asimetricas', 0.0016466110552612104),\n",
       " ('combativo', 0.0016465685085246438),\n",
       " ('sabe', 0.0016379521986316758),\n",
       " ('volver.', 0.001624103745116907),\n",
       " ('benidorm-madrid', 0.0016241033068474602),\n",
       " ('descargarme', 0.0016166959767756255),\n",
       " ('-no', 0.0016057504197725882),\n",
       " ('dandome', 0.0015962901280114526),\n",
       " ('ah', 0.0015912097180262208),\n",
       " ('alvaro', 0.0015760882198810578),\n",
       " ('lado', 0.0015707942417527744),\n",
       " ('viajar', 0.001563549888404933),\n",
       " ('oscura.', 0.0015443773940205575),\n",
       " ('contra', 0.0015375154337497674),\n",
       " ('con', 0.0015272394662570322),\n",
       " ('sentido', 0.001525096939767749),\n",
       " ('holaa', 0.0015230516770056316),\n",
       " ('escuchaba', 0.0014909710735082626),\n",
       " ('xv', 0.001484492261494909),\n",
       " ('link', 0.0014723760386308035),\n",
       " ('holman', 0.001471937388965958),\n",
       " ('youtube', 0.0014687437796965241),\n",
       " ('rapida', 0.0014584870250136763),\n",
       " ('facil', 0.0014564950606741369),\n",
       " ('deprime', 0.0014547999534342024),\n",
       " ('durante', 0.0014374012437959511),\n",
       " ('burguesito', 0.0014349175617098808),\n",
       " ('sensible', 0.0014276237093976565),\n",
       " ('siguiera', 0.001426917924122377),\n",
       " ('respetable', 0.001419863810664729),\n",
       " ('moais', 0.0014163483348157671),\n",
       " ('ayer', 0.0014127635312310997),\n",
       " ('escuela', 0.0014073505605521955),\n",
       " ('estables', 0.0014069576747715474),\n",
       " ('separar', 0.001402263744519307),\n",
       " ('peliculas', 0.0014020551461726427),\n",
       " ('tweets', 0.0013742456760476617),\n",
       " ('tikets', 0.0013733099968660446),\n",
       " ('repetir', 0.001365941461353075),\n",
       " ('dinero', 0.0013537110076657078),\n",
       " ('mando', 0.001353354814151923),\n",
       " ('evidencia', 0.0013483644773562749),\n",
       " ('menor.', 0.0013298320219568584),\n",
       " ('queda', 0.0013125442045532091),\n",
       " ('unos', 0.001309126739217449),\n",
       " ('meno', 0.0013056801701033557),\n",
       " ('sorpresa.', 0.0013047558743329276),\n",
       " ('inivitado', 0.0013047557856355394),\n",
       " ('fui', 0.0012914910912513733),\n",
       " ('sigues', 0.0012834172817642918),\n",
       " ('cae', 0.0012815641918374847),\n",
       " ('echo', 0.0012768818573518233),\n",
       " ('japones', 0.0012726637721061707),\n",
       " ('desplegar', 0.001271866813853935),\n",
       " ('japones.', 0.0012709534811702642),\n",
       " ('uf', 0.0012562030460685492),\n",
       " ('creas', 0.0012554099990261926),\n",
       " ('veremos', 0.0012459900668438744),\n",
       " ('viva', 0.0012393017177996428),\n",
       " ('negro', 0.0012361494904117925),\n",
       " ('noches', 0.0012353376840196905),\n",
       " ('+', 0.0012242837373111135),\n",
       " ('ir', 0.001223854492885613),\n",
       " ('3', 0.0012231314293239491),\n",
       " ('dni', 0.0012201659543358762),\n",
       " ('haz', 0.0012193548027426004),\n",
       " ('haber', 0.001216796372945878),\n",
       " ('despierte', 0.0012144403424047465),\n",
       " ('yo', 0.001210448932127462),\n",
       " ('rio', 0.0012070845289127831),\n",
       " ('pronto', 0.0012006789020611835),\n",
       " ('fifa', 0.0011930782840680824),\n",
       " ('divisiones', 0.0011918607245509822),\n",
       " ('perico', 0.001190656396959509),\n",
       " ('problemas', 0.0011829790295989908),\n",
       " ('gayumbos', 0.0011822991073131561),\n",
       " ('cagada', 0.0011792319959827832),\n",
       " ('ball', 0.0011713261667050813),\n",
       " ('por', 0.0011667045812274832),\n",
       " ('ante', 0.0011649538269814324),\n",
       " ('suenyo', 0.0011644766336324946),\n",
       " ('jodida', 0.0011623368731566838),\n",
       " ('mir', 0.0011583805360175945),\n",
       " ('amiguitos', 0.0011561294014308776),\n",
       " ('la', 0.001149122483673885),\n",
       " ('paranormal', 0.0011429927311837674),\n",
       " ('alma', 0.0011288465207649602),\n",
       " ('konoplyanka', 0.0011222983964464881),\n",
       " ('atrapar', 0.0011167586983545966),\n",
       " ('acido', 0.0011152074486017226),\n",
       " ('habla', 0.0011142327660514462),\n",
       " ('cansina', 0.0011117331879703623),\n",
       " ('crushes', 0.0011013581417500973),\n",
       " ('rellenando', 0.0010929669400579051),\n",
       " ('habernos', 0.001090539534660903),\n",
       " ('queriendo', 0.0010905288425939424),\n",
       " ('din', 0.0010886257514357567),\n",
       " ('ti', 0.001083576809037737),\n",
       " ('libro', 0.0010827934990326564),\n",
       " ('gustaria', 0.001078964050473838),\n",
       " ('abiertos', 0.0010778156367174149),\n",
       " ('/', 0.00106771569699049),\n",
       " ('verda', 0.001066722415594591),\n",
       " ('amor', 0.0010637833247892558),\n",
       " ('antes.', 0.001062690449709242),\n",
       " ('prepotentxs', 0.0010612908905992906),\n",
       " ('maximo', 0.0010608664642159755),\n",
       " ('quitaba', 0.0010603607886216857),\n",
       " ('contrata', 0.0010590781457722187),\n",
       " ('bastante.', 0.0010524751463284094),\n",
       " ('premier.', 0.0010524749911079805),\n",
       " ('termino.equipo', 0.0010403830868502457),\n",
       " ('manos', 0.0010361811693976907),\n",
       " ('haga', 0.001035022604114869),\n",
       " ('eternos', 0.0010332668200135231),\n",
       " ('bajon', 0.0010316122456320695),\n",
       " ('planes', 0.0010283502439657848),\n",
       " ('lloro', 0.0010273553273797808),\n",
       " ('pisos', 0.0010263449512422085),\n",
       " ('quite', 0.0010208197367879061),\n",
       " ('apagado', 0.0010099309807022412),\n",
       " ('miren', 0.0010073682866417444),\n",
       " ('aprende', 0.0009977616635816438),\n",
       " ('marcamos', 0.0009937701480729239),\n",
       " ('dedican', 0.0009934058331924937),\n",
       " ('al', 0.0009877249262852674),\n",
       " ('des', 0.0009847038558551244),\n",
       " ('clase', 0.0009844924672242452),\n",
       " ('demasiada', 0.0009816518674294155),\n",
       " ('machorras', 0.0009813759889867571),\n",
       " ('video', 0.0009778238516284909),\n",
       " ('teniamos', 0.0009713872251185504),\n",
       " ('puente', 0.0009710956364870071),\n",
       " ('minutos', 0.0009667391634800217),\n",
       " ('grotesco', 0.0009543469973972865),\n",
       " ('libre', 0.0009541700167400781),\n",
       " ('mi', 0.0009540028949726653),\n",
       " ('fuertes', 0.0009537183472679721),\n",
       " ('freudianos', 0.0009460116270929575),\n",
       " ('tl', 0.0009448158421686717),\n",
       " ('lavas', 0.000940753346575158),\n",
       " ('puedo', 0.0009382455939339591),\n",
       " ('cuerpo', 0.0009208828955888748),\n",
       " ('sabrina', 0.000920071208383888),\n",
       " ('tres', 0.0009174048716103244),\n",
       " ('optimista', 0.0009135754727241066),\n",
       " ('verla', 0.0009135376692591832),\n",
       " ('caso', 0.0009115493063949215),\n",
       " ('coincida', 0.0009100252184374579),\n",
       " ('vale', 0.0009080383282936559),\n",
       " ('caravana', 0.0009046466530937897),\n",
       " ...]"
      ]
     },
     "execution_count": 683,
     "metadata": {},
     "output_type": "execute_result"
    }
   ],
   "source": [
    "headers[0]"
   ]
  },
  {
   "cell_type": "code",
   "execution_count": null,
   "metadata": {},
   "outputs": [],
   "source": []
  }
 ],
 "metadata": {
  "kernelspec": {
   "display_name": "Python 3",
   "language": "python",
   "name": "python3"
  },
  "language_info": {
   "codemirror_mode": {
    "name": "ipython",
    "version": 3
   },
   "file_extension": ".py",
   "mimetype": "text/x-python",
   "name": "python",
   "nbconvert_exporter": "python",
   "pygments_lexer": "ipython3",
   "version": "3.7.1"
  }
 },
 "nbformat": 4,
 "nbformat_minor": 2
}
